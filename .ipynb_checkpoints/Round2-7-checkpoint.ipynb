{
 "cells": [
  {
   "cell_type": "markdown",
   "id": "8b694975",
   "metadata": {},
   "source": [
    "# Round 2"
   ]
  },
  {
   "cell_type": "code",
   "execution_count": 403,
   "id": "5546305f",
   "metadata": {},
   "outputs": [],
   "source": [
    "# Reading the file \n",
    "\n",
    "import pandas as pd\n",
    "import numpy as np\n",
    "\n",
    "dataframe = pd.read_csv('/Users/ayeesha/IH-Labs/lab-customer-analysis-round-2/files_for_lab/csv_files/marketing_customer_analysis.csv')\n",
    "\n",
    "\n"
   ]
  },
  {
   "cell_type": "code",
   "execution_count": 405,
   "id": "aa59ea84",
   "metadata": {},
   "outputs": [
    {
     "data": {
      "text/plain": [
       "(10910, 26)"
      ]
     },
     "metadata": {},
     "output_type": "display_data"
    }
   ],
   "source": [
    "# 1.Show the dataframe shape.\n",
    "\n",
    "display(dataframe.shape)"
   ]
  },
  {
   "cell_type": "code",
   "execution_count": null,
   "id": "001bddd9",
   "metadata": {},
   "outputs": [],
   "source": [
    "# 2. Standardize header names.\n",
    "dataframe = dataframe.drop(['Unnamed: 0'], axis=1)\n",
    "\n",
    "cols = []\n",
    "for column in dataframe.columns:\n",
    "    cols.append(column.lower())\n",
    "dataframe.columns = cols\n",
    "\n",
    "dataframe.columns = dataframe.columns.str.replace(' ', '_')\n",
    "\n",
    "display(dataframe.head())"
   ]
  },
  {
   "cell_type": "code",
   "execution_count": null,
   "id": "36409a90",
   "metadata": {},
   "outputs": [],
   "source": []
  },
  {
   "cell_type": "code",
   "execution_count": null,
   "id": "85cb7864",
   "metadata": {},
   "outputs": [],
   "source": [
    "display(dataframe.dtypes)\n"
   ]
  },
  {
   "cell_type": "code",
   "execution_count": null,
   "id": "debffa99",
   "metadata": {},
   "outputs": [],
   "source": [
    "#Which columns are numerical?\n",
    "\n",
    "dataframe._get_numeric_data()\n"
   ]
  },
  {
   "cell_type": "code",
   "execution_count": null,
   "id": "7ebf2976",
   "metadata": {},
   "outputs": [],
   "source": [
    "# Which columns are categorical?\n",
    "\n",
    "dataframe.select_dtypes(object)"
   ]
  },
  {
   "cell_type": "code",
   "execution_count": null,
   "id": "9167c8d2",
   "metadata": {},
   "outputs": [],
   "source": [
    "#Check and deal with NaN values.\n",
    "\n",
    "dataframe.isna().sum()\n",
    "\n",
    "\n"
   ]
  },
  {
   "cell_type": "code",
   "execution_count": null,
   "id": "afd962e5",
   "metadata": {},
   "outputs": [],
   "source": [
    "nan_cols = ['state','response','months_since_last_claim','number_of_open_complaints','vehicle_class','vehicle_size','vehicle_type']\n",
    "\n",
    "\n",
    "for col in nan_cols:\n",
    "    dataframe[col]=dataframe[col].fillna(dataframe[col].mode()[0])\n",
    "    \n",
    "dataframe    "
   ]
  },
  {
   "cell_type": "code",
   "execution_count": null,
   "id": "f3f76910",
   "metadata": {},
   "outputs": [],
   "source": [
    "#Datetime format - Extract the months from the dataset and store in a separate column. \n",
    "#Then filter the data to show only the information for the first quarter , ie. January, February and March. \n",
    "#Hint: If data from March does not exist, consider only January and February\n",
    "\n",
    "dataframe['effective_to_date'] = pd.to_datetime(dataframe['effective_to_date'])\n",
    "\n",
    "\n",
    "dataframe['Month'] = dataframe['effective_to_date'].dt.month_name()\n",
    "dataframe\n",
    "\n",
    "dataframe.loc[(dataframe['Month'] == 'January') | (dataframe['Month'] == 'February') | (dataframe['Month'] == 'March')]"
   ]
  },
  {
   "cell_type": "code",
   "execution_count": null,
   "id": "7d6604da",
   "metadata": {},
   "outputs": [],
   "source": [
    "def round2():\n",
    "    df = pd.read_csv(\"/Users/ayeesha/IH-Labs/lab-customer-analysis-round-2/files_for_lab/csv_files/marketing_customer_analysis.csv\")\n",
    "    df = df.drop(['Unnamed: 0'], axis=1)\n",
    "    display(df.columns)\n",
    "    cols = []\n",
    "    for column in df.columns:\n",
    "        cols.append(column.lower())\n",
    "    df.columns = cols\n",
    "    df.columns = df.columns.str.replace(' ', '_')\n",
    "    display(df.dtypes)\n",
    "    display(df._get_numeric_data())\n",
    "    display(df.select_dtypes(object))\n",
    "    display(df.isna().sum())\n",
    "    nan_cols = ['state','response','months_since_last_claim','number_of_open_complaints','vehicle_class','vehicle_size','vehicle_type']\n",
    "    for col in nan_cols:\n",
    "        df[col]=df[col].fillna(df[col].mode()[0])    \n",
    "\n",
    "    df['effective_to_date'] = pd.to_datetime(df['effective_to_date'])\n",
    "    df['Month'] = df['effective_to_date'].dt.month_name()\n",
    "    df.loc[(df['Month'] == 'January') | (df['Month'] == 'February') | (df['Month'] == 'March')]\n",
    "    display(df)\n",
    "round2()\n",
    "    "
   ]
  },
  {
   "cell_type": "markdown",
   "id": "62c7100a",
   "metadata": {},
   "source": [
    "# Round 3"
   ]
  },
  {
   "cell_type": "code",
   "execution_count": null,
   "id": "67032c41",
   "metadata": {},
   "outputs": [],
   "source": [
    "#Show DataFrame info.\n",
    "\n",
    "dataframe.info()"
   ]
  },
  {
   "cell_type": "code",
   "execution_count": null,
   "id": "8586c27f",
   "metadata": {},
   "outputs": [],
   "source": [
    "# Describe DataFrame.\n",
    "\n",
    "dataframe.describe()"
   ]
  },
  {
   "cell_type": "code",
   "execution_count": null,
   "id": "4dc8f3fe",
   "metadata": {},
   "outputs": [],
   "source": [
    "import matplotlib.pyplot as plt\n",
    "import seaborn as sns \n",
    "%matplotlib inline"
   ]
  },
  {
   "cell_type": "code",
   "execution_count": null,
   "id": "6f5c2d00",
   "metadata": {},
   "outputs": [],
   "source": [
    "#Show a plot of the total number of responses.\n",
    "\n",
    "sns.countplot('response', data = dataframe)\n",
    "\n",
    "plt.show()"
   ]
  },
  {
   "cell_type": "code",
   "execution_count": null,
   "id": "95db2897",
   "metadata": {},
   "outputs": [],
   "source": [
    "#Show a plot of the response rate by the sales channel.\n",
    "sns.countplot(x = 'response', y = 'sales_channel', data = dataframe)\n",
    "\n",
    "plt.show()"
   ]
  },
  {
   "cell_type": "code",
   "execution_count": null,
   "id": "6ccd73ad",
   "metadata": {},
   "outputs": [],
   "source": [
    "#Show a plot of the response rate by the total claim amount.\n",
    "\n",
    "sns.barplot(x=\"response\", y=\"total_claim_amount\", data=dataframe)\n",
    "plt.show()"
   ]
  },
  {
   "cell_type": "code",
   "execution_count": null,
   "id": "e0eba2cc",
   "metadata": {},
   "outputs": [],
   "source": [
    "#Show a plot of the response rate by income.\n",
    "sns.barplot(x=\"response\", y=\"income\", data=dataframe)\n",
    "plt.show()"
   ]
  },
  {
   "cell_type": "code",
   "execution_count": null,
   "id": "67cbae04",
   "metadata": {},
   "outputs": [],
   "source": [
    "\n",
    "\n",
    "# Check the data types of the columns. Get the numeric data into dataframe called\n",
    "# numerical and categorical columns in a dataframe called categoricals. \n",
    "# (You can use np.number and np.object to select the numerical data types and categorical data types respectively)\n",
    "\n",
    "# Now we will try to check the normality of the numerical variables visually\n",
    "\n",
    "# Use seaborn library to construct distribution plots for the numerical variables\n",
    "\n",
    "# Use Matplotlib to construct histograms\n",
    "# Do the distributions for different numerical variables look like a normal distribution\n",
    "# For the numerical variables, check the multicollinearity between the features.\n",
    "# Please note that we will use the column total_claim_amount later as the target variable.\n",
    "# Drop one of the two features that show a high correlation between them (greater than 0.9). \n",
    "# Write code for both the correlation matrix and for seaborn heatmap. \n",
    "# If there is no pair of features that have a high correlation, then do not drop any features\n"
   ]
  },
  {
   "cell_type": "code",
   "execution_count": null,
   "id": "d43d757c",
   "metadata": {},
   "outputs": [],
   "source": []
  },
  {
   "cell_type": "code",
   "execution_count": null,
   "id": "927c5f22",
   "metadata": {},
   "outputs": [],
   "source": [
    "# Check the data types of the columns. Get the numeric data into dataframe called numerical and categorical columns in a dataframe called categoricals. (You can use np.number and np.object to select the numerical data types and categorical data types respectively)\n",
    "# Now we will try to check the normality of the numerical variables visually\n",
    "# Use seaborn library to construct distribution plots for the numerical variables\n",
    "# Use Matplotlib to construct histograms\n",
    "# Do the distributions for different numerical variables look like a normal distribution\n",
    "# For the numerical variables, check the multicollinearity between the features. Please note that we will use the column total_claim_amount later as the target variable.\n",
    "# Drop one of the two features that show a high correlation between them (greater than 0.9). Write code for both the correlation matrix and for seaborn heatmap. If there is no pair of features that have a high correlation, then do not drop any features"
   ]
  },
  {
   "cell_type": "markdown",
   "id": "23f371d6",
   "metadata": {},
   "source": [
    "# Round 4"
   ]
  },
  {
   "cell_type": "code",
   "execution_count": null,
   "id": "af359d9e",
   "metadata": {},
   "outputs": [],
   "source": [
    "import pandas as pd\n",
    "import numpy as np\n",
    "import matplotlib.pyplot as plt\n",
    "import seaborn as sns \n",
    "%matplotlib inline"
   ]
  },
  {
   "cell_type": "code",
   "execution_count": 422,
   "id": "c21d39fe",
   "metadata": {},
   "outputs": [
    {
     "data": {
      "text/html": [
       "<div>\n",
       "<style scoped>\n",
       "    .dataframe tbody tr th:only-of-type {\n",
       "        vertical-align: middle;\n",
       "    }\n",
       "\n",
       "    .dataframe tbody tr th {\n",
       "        vertical-align: top;\n",
       "    }\n",
       "\n",
       "    .dataframe thead th {\n",
       "        text-align: right;\n",
       "    }\n",
       "</style>\n",
       "<table border=\"1\" class=\"dataframe\">\n",
       "  <thead>\n",
       "    <tr style=\"text-align: right;\">\n",
       "      <th></th>\n",
       "      <th>customer_lifetime_value</th>\n",
       "      <th>income</th>\n",
       "      <th>monthly_premium_auto</th>\n",
       "      <th>months_since_last_claim</th>\n",
       "      <th>months_since_policy_inception</th>\n",
       "      <th>number_of_open_complaints</th>\n",
       "      <th>number_of_policies</th>\n",
       "      <th>total_claim_amount</th>\n",
       "    </tr>\n",
       "  </thead>\n",
       "  <tbody>\n",
       "    <tr>\n",
       "      <th>0</th>\n",
       "      <td>4809.216960</td>\n",
       "      <td>48029</td>\n",
       "      <td>61</td>\n",
       "      <td>7.0</td>\n",
       "      <td>52</td>\n",
       "      <td>0.0</td>\n",
       "      <td>9</td>\n",
       "      <td>292.800000</td>\n",
       "    </tr>\n",
       "    <tr>\n",
       "      <th>1</th>\n",
       "      <td>2228.525238</td>\n",
       "      <td>0</td>\n",
       "      <td>64</td>\n",
       "      <td>3.0</td>\n",
       "      <td>26</td>\n",
       "      <td>0.0</td>\n",
       "      <td>1</td>\n",
       "      <td>744.924331</td>\n",
       "    </tr>\n",
       "    <tr>\n",
       "      <th>2</th>\n",
       "      <td>14947.917300</td>\n",
       "      <td>22139</td>\n",
       "      <td>100</td>\n",
       "      <td>34.0</td>\n",
       "      <td>31</td>\n",
       "      <td>0.0</td>\n",
       "      <td>2</td>\n",
       "      <td>480.000000</td>\n",
       "    </tr>\n",
       "    <tr>\n",
       "      <th>3</th>\n",
       "      <td>22332.439460</td>\n",
       "      <td>49078</td>\n",
       "      <td>97</td>\n",
       "      <td>10.0</td>\n",
       "      <td>3</td>\n",
       "      <td>0.0</td>\n",
       "      <td>2</td>\n",
       "      <td>484.013411</td>\n",
       "    </tr>\n",
       "    <tr>\n",
       "      <th>4</th>\n",
       "      <td>9025.067525</td>\n",
       "      <td>23675</td>\n",
       "      <td>117</td>\n",
       "      <td>3.0</td>\n",
       "      <td>31</td>\n",
       "      <td>0.0</td>\n",
       "      <td>7</td>\n",
       "      <td>707.925645</td>\n",
       "    </tr>\n",
       "    <tr>\n",
       "      <th>...</th>\n",
       "      <td>...</td>\n",
       "      <td>...</td>\n",
       "      <td>...</td>\n",
       "      <td>...</td>\n",
       "      <td>...</td>\n",
       "      <td>...</td>\n",
       "      <td>...</td>\n",
       "      <td>...</td>\n",
       "    </tr>\n",
       "    <tr>\n",
       "      <th>10905</th>\n",
       "      <td>15563.369440</td>\n",
       "      <td>0</td>\n",
       "      <td>253</td>\n",
       "      <td>3.0</td>\n",
       "      <td>40</td>\n",
       "      <td>0.0</td>\n",
       "      <td>7</td>\n",
       "      <td>1214.400000</td>\n",
       "    </tr>\n",
       "    <tr>\n",
       "      <th>10906</th>\n",
       "      <td>5259.444853</td>\n",
       "      <td>61146</td>\n",
       "      <td>65</td>\n",
       "      <td>7.0</td>\n",
       "      <td>68</td>\n",
       "      <td>0.0</td>\n",
       "      <td>6</td>\n",
       "      <td>273.018929</td>\n",
       "    </tr>\n",
       "    <tr>\n",
       "      <th>10907</th>\n",
       "      <td>23893.304100</td>\n",
       "      <td>39837</td>\n",
       "      <td>201</td>\n",
       "      <td>11.0</td>\n",
       "      <td>63</td>\n",
       "      <td>0.0</td>\n",
       "      <td>2</td>\n",
       "      <td>381.306996</td>\n",
       "    </tr>\n",
       "    <tr>\n",
       "      <th>10908</th>\n",
       "      <td>11971.977650</td>\n",
       "      <td>64195</td>\n",
       "      <td>158</td>\n",
       "      <td>0.0</td>\n",
       "      <td>27</td>\n",
       "      <td>4.0</td>\n",
       "      <td>6</td>\n",
       "      <td>618.288849</td>\n",
       "    </tr>\n",
       "    <tr>\n",
       "      <th>10909</th>\n",
       "      <td>6857.519928</td>\n",
       "      <td>0</td>\n",
       "      <td>101</td>\n",
       "      <td>31.0</td>\n",
       "      <td>1</td>\n",
       "      <td>0.0</td>\n",
       "      <td>3</td>\n",
       "      <td>1021.719397</td>\n",
       "    </tr>\n",
       "  </tbody>\n",
       "</table>\n",
       "<p>10910 rows × 8 columns</p>\n",
       "</div>"
      ],
      "text/plain": [
       "       customer_lifetime_value  income  monthly_premium_auto  \\\n",
       "0                  4809.216960   48029                    61   \n",
       "1                  2228.525238       0                    64   \n",
       "2                 14947.917300   22139                   100   \n",
       "3                 22332.439460   49078                    97   \n",
       "4                  9025.067525   23675                   117   \n",
       "...                        ...     ...                   ...   \n",
       "10905             15563.369440       0                   253   \n",
       "10906              5259.444853   61146                    65   \n",
       "10907             23893.304100   39837                   201   \n",
       "10908             11971.977650   64195                   158   \n",
       "10909              6857.519928       0                   101   \n",
       "\n",
       "       months_since_last_claim  months_since_policy_inception  \\\n",
       "0                          7.0                             52   \n",
       "1                          3.0                             26   \n",
       "2                         34.0                             31   \n",
       "3                         10.0                              3   \n",
       "4                          3.0                             31   \n",
       "...                        ...                            ...   \n",
       "10905                      3.0                             40   \n",
       "10906                      7.0                             68   \n",
       "10907                     11.0                             63   \n",
       "10908                      0.0                             27   \n",
       "10909                     31.0                              1   \n",
       "\n",
       "       number_of_open_complaints  number_of_policies  total_claim_amount  \n",
       "0                            0.0                   9          292.800000  \n",
       "1                            0.0                   1          744.924331  \n",
       "2                            0.0                   2          480.000000  \n",
       "3                            0.0                   2          484.013411  \n",
       "4                            0.0                   7          707.925645  \n",
       "...                          ...                 ...                 ...  \n",
       "10905                        0.0                   7         1214.400000  \n",
       "10906                        0.0                   6          273.018929  \n",
       "10907                        0.0                   2          381.306996  \n",
       "10908                        4.0                   6          618.288849  \n",
       "10909                        0.0                   3         1021.719397  \n",
       "\n",
       "[10910 rows x 8 columns]"
      ]
     },
     "execution_count": 422,
     "metadata": {},
     "output_type": "execute_result"
    }
   ],
   "source": [
    "#Check the data types of the columns. Get the numeric data into dataframe called numerical and categorical columns in a dataframe called categoricals. \n",
    "#(You can use np.number and np.object to select the numerical data types and categorical data types respectively)\n",
    "\n",
    "numerical_data = dataframe.select_dtypes(include=np.number)\n",
    "numerical_data"
   ]
  },
  {
   "cell_type": "code",
   "execution_count": 423,
   "id": "2105c326",
   "metadata": {},
   "outputs": [
    {
     "data": {
      "text/html": [
       "<div>\n",
       "<style scoped>\n",
       "    .dataframe tbody tr th:only-of-type {\n",
       "        vertical-align: middle;\n",
       "    }\n",
       "\n",
       "    .dataframe tbody tr th {\n",
       "        vertical-align: top;\n",
       "    }\n",
       "\n",
       "    .dataframe thead th {\n",
       "        text-align: right;\n",
       "    }\n",
       "</style>\n",
       "<table border=\"1\" class=\"dataframe\">\n",
       "  <thead>\n",
       "    <tr style=\"text-align: right;\">\n",
       "      <th></th>\n",
       "      <th>customer</th>\n",
       "      <th>state</th>\n",
       "      <th>response</th>\n",
       "      <th>coverage</th>\n",
       "      <th>education</th>\n",
       "      <th>employmentstatus</th>\n",
       "      <th>gender</th>\n",
       "      <th>location_code</th>\n",
       "      <th>marital_status</th>\n",
       "      <th>policy_type</th>\n",
       "      <th>policy</th>\n",
       "      <th>renew_offer_type</th>\n",
       "      <th>sales_channel</th>\n",
       "      <th>vehicle_class</th>\n",
       "      <th>vehicle_size</th>\n",
       "      <th>vehicle_type</th>\n",
       "      <th>Month</th>\n",
       "    </tr>\n",
       "  </thead>\n",
       "  <tbody>\n",
       "    <tr>\n",
       "      <th>0</th>\n",
       "      <td>DK49336</td>\n",
       "      <td>Arizona</td>\n",
       "      <td>No</td>\n",
       "      <td>Basic</td>\n",
       "      <td>College</td>\n",
       "      <td>Employed</td>\n",
       "      <td>M</td>\n",
       "      <td>Suburban</td>\n",
       "      <td>Married</td>\n",
       "      <td>Corporate Auto</td>\n",
       "      <td>Corporate L3</td>\n",
       "      <td>Offer3</td>\n",
       "      <td>Agent</td>\n",
       "      <td>Four-Door Car</td>\n",
       "      <td>Medsize</td>\n",
       "      <td>A</td>\n",
       "      <td>February</td>\n",
       "    </tr>\n",
       "    <tr>\n",
       "      <th>1</th>\n",
       "      <td>KX64629</td>\n",
       "      <td>California</td>\n",
       "      <td>No</td>\n",
       "      <td>Basic</td>\n",
       "      <td>College</td>\n",
       "      <td>Unemployed</td>\n",
       "      <td>F</td>\n",
       "      <td>Suburban</td>\n",
       "      <td>Single</td>\n",
       "      <td>Personal Auto</td>\n",
       "      <td>Personal L3</td>\n",
       "      <td>Offer4</td>\n",
       "      <td>Call Center</td>\n",
       "      <td>Four-Door Car</td>\n",
       "      <td>Medsize</td>\n",
       "      <td>A</td>\n",
       "      <td>January</td>\n",
       "    </tr>\n",
       "    <tr>\n",
       "      <th>2</th>\n",
       "      <td>LZ68649</td>\n",
       "      <td>Washington</td>\n",
       "      <td>No</td>\n",
       "      <td>Basic</td>\n",
       "      <td>Bachelor</td>\n",
       "      <td>Employed</td>\n",
       "      <td>M</td>\n",
       "      <td>Suburban</td>\n",
       "      <td>Single</td>\n",
       "      <td>Personal Auto</td>\n",
       "      <td>Personal L3</td>\n",
       "      <td>Offer3</td>\n",
       "      <td>Call Center</td>\n",
       "      <td>SUV</td>\n",
       "      <td>Medsize</td>\n",
       "      <td>A</td>\n",
       "      <td>February</td>\n",
       "    </tr>\n",
       "    <tr>\n",
       "      <th>3</th>\n",
       "      <td>XL78013</td>\n",
       "      <td>Oregon</td>\n",
       "      <td>Yes</td>\n",
       "      <td>Extended</td>\n",
       "      <td>College</td>\n",
       "      <td>Employed</td>\n",
       "      <td>M</td>\n",
       "      <td>Suburban</td>\n",
       "      <td>Single</td>\n",
       "      <td>Corporate Auto</td>\n",
       "      <td>Corporate L3</td>\n",
       "      <td>Offer2</td>\n",
       "      <td>Branch</td>\n",
       "      <td>Four-Door Car</td>\n",
       "      <td>Medsize</td>\n",
       "      <td>A</td>\n",
       "      <td>January</td>\n",
       "    </tr>\n",
       "    <tr>\n",
       "      <th>4</th>\n",
       "      <td>QA50777</td>\n",
       "      <td>Oregon</td>\n",
       "      <td>No</td>\n",
       "      <td>Premium</td>\n",
       "      <td>Bachelor</td>\n",
       "      <td>Medical Leave</td>\n",
       "      <td>F</td>\n",
       "      <td>Suburban</td>\n",
       "      <td>Married</td>\n",
       "      <td>Personal Auto</td>\n",
       "      <td>Personal L2</td>\n",
       "      <td>Offer1</td>\n",
       "      <td>Branch</td>\n",
       "      <td>Four-Door Car</td>\n",
       "      <td>Medsize</td>\n",
       "      <td>A</td>\n",
       "      <td>January</td>\n",
       "    </tr>\n",
       "    <tr>\n",
       "      <th>...</th>\n",
       "      <td>...</td>\n",
       "      <td>...</td>\n",
       "      <td>...</td>\n",
       "      <td>...</td>\n",
       "      <td>...</td>\n",
       "      <td>...</td>\n",
       "      <td>...</td>\n",
       "      <td>...</td>\n",
       "      <td>...</td>\n",
       "      <td>...</td>\n",
       "      <td>...</td>\n",
       "      <td>...</td>\n",
       "      <td>...</td>\n",
       "      <td>...</td>\n",
       "      <td>...</td>\n",
       "      <td>...</td>\n",
       "      <td>...</td>\n",
       "    </tr>\n",
       "    <tr>\n",
       "      <th>10905</th>\n",
       "      <td>FE99816</td>\n",
       "      <td>Nevada</td>\n",
       "      <td>No</td>\n",
       "      <td>Premium</td>\n",
       "      <td>Bachelor</td>\n",
       "      <td>Unemployed</td>\n",
       "      <td>F</td>\n",
       "      <td>Suburban</td>\n",
       "      <td>Married</td>\n",
       "      <td>Personal Auto</td>\n",
       "      <td>Personal L1</td>\n",
       "      <td>Offer3</td>\n",
       "      <td>Web</td>\n",
       "      <td>Luxury Car</td>\n",
       "      <td>Medsize</td>\n",
       "      <td>A</td>\n",
       "      <td>January</td>\n",
       "    </tr>\n",
       "    <tr>\n",
       "      <th>10906</th>\n",
       "      <td>KX53892</td>\n",
       "      <td>Oregon</td>\n",
       "      <td>No</td>\n",
       "      <td>Basic</td>\n",
       "      <td>College</td>\n",
       "      <td>Employed</td>\n",
       "      <td>F</td>\n",
       "      <td>Urban</td>\n",
       "      <td>Married</td>\n",
       "      <td>Personal Auto</td>\n",
       "      <td>Personal L3</td>\n",
       "      <td>Offer2</td>\n",
       "      <td>Branch</td>\n",
       "      <td>Four-Door Car</td>\n",
       "      <td>Medsize</td>\n",
       "      <td>A</td>\n",
       "      <td>January</td>\n",
       "    </tr>\n",
       "    <tr>\n",
       "      <th>10907</th>\n",
       "      <td>TL39050</td>\n",
       "      <td>Arizona</td>\n",
       "      <td>No</td>\n",
       "      <td>Extended</td>\n",
       "      <td>Bachelor</td>\n",
       "      <td>Employed</td>\n",
       "      <td>F</td>\n",
       "      <td>Rural</td>\n",
       "      <td>Married</td>\n",
       "      <td>Corporate Auto</td>\n",
       "      <td>Corporate L3</td>\n",
       "      <td>Offer1</td>\n",
       "      <td>Web</td>\n",
       "      <td>Luxury SUV</td>\n",
       "      <td>Medsize</td>\n",
       "      <td>A</td>\n",
       "      <td>February</td>\n",
       "    </tr>\n",
       "    <tr>\n",
       "      <th>10908</th>\n",
       "      <td>WA60547</td>\n",
       "      <td>California</td>\n",
       "      <td>No</td>\n",
       "      <td>Premium</td>\n",
       "      <td>College</td>\n",
       "      <td>Employed</td>\n",
       "      <td>F</td>\n",
       "      <td>Urban</td>\n",
       "      <td>Divorced</td>\n",
       "      <td>Personal Auto</td>\n",
       "      <td>Personal L1</td>\n",
       "      <td>Offer1</td>\n",
       "      <td>Branch</td>\n",
       "      <td>SUV</td>\n",
       "      <td>Medsize</td>\n",
       "      <td>A</td>\n",
       "      <td>February</td>\n",
       "    </tr>\n",
       "    <tr>\n",
       "      <th>10909</th>\n",
       "      <td>IV32877</td>\n",
       "      <td>California</td>\n",
       "      <td>No</td>\n",
       "      <td>Basic</td>\n",
       "      <td>Bachelor</td>\n",
       "      <td>Unemployed</td>\n",
       "      <td>M</td>\n",
       "      <td>Suburban</td>\n",
       "      <td>Single</td>\n",
       "      <td>Personal Auto</td>\n",
       "      <td>Personal L1</td>\n",
       "      <td>Offer4</td>\n",
       "      <td>Web</td>\n",
       "      <td>SUV</td>\n",
       "      <td>Medsize</td>\n",
       "      <td>A</td>\n",
       "      <td>January</td>\n",
       "    </tr>\n",
       "  </tbody>\n",
       "</table>\n",
       "<p>10910 rows × 17 columns</p>\n",
       "</div>"
      ],
      "text/plain": [
       "      customer       state response  coverage education employmentstatus  \\\n",
       "0      DK49336     Arizona       No     Basic   College         Employed   \n",
       "1      KX64629  California       No     Basic   College       Unemployed   \n",
       "2      LZ68649  Washington       No     Basic  Bachelor         Employed   \n",
       "3      XL78013      Oregon      Yes  Extended   College         Employed   \n",
       "4      QA50777      Oregon       No   Premium  Bachelor    Medical Leave   \n",
       "...        ...         ...      ...       ...       ...              ...   \n",
       "10905  FE99816      Nevada       No   Premium  Bachelor       Unemployed   \n",
       "10906  KX53892      Oregon       No     Basic   College         Employed   \n",
       "10907  TL39050     Arizona       No  Extended  Bachelor         Employed   \n",
       "10908  WA60547  California       No   Premium   College         Employed   \n",
       "10909  IV32877  California       No     Basic  Bachelor       Unemployed   \n",
       "\n",
       "      gender location_code marital_status     policy_type        policy  \\\n",
       "0          M      Suburban        Married  Corporate Auto  Corporate L3   \n",
       "1          F      Suburban         Single   Personal Auto   Personal L3   \n",
       "2          M      Suburban         Single   Personal Auto   Personal L3   \n",
       "3          M      Suburban         Single  Corporate Auto  Corporate L3   \n",
       "4          F      Suburban        Married   Personal Auto   Personal L2   \n",
       "...      ...           ...            ...             ...           ...   \n",
       "10905      F      Suburban        Married   Personal Auto   Personal L1   \n",
       "10906      F         Urban        Married   Personal Auto   Personal L3   \n",
       "10907      F         Rural        Married  Corporate Auto  Corporate L3   \n",
       "10908      F         Urban       Divorced   Personal Auto   Personal L1   \n",
       "10909      M      Suburban         Single   Personal Auto   Personal L1   \n",
       "\n",
       "      renew_offer_type sales_channel  vehicle_class vehicle_size vehicle_type  \\\n",
       "0               Offer3         Agent  Four-Door Car      Medsize            A   \n",
       "1               Offer4   Call Center  Four-Door Car      Medsize            A   \n",
       "2               Offer3   Call Center            SUV      Medsize            A   \n",
       "3               Offer2        Branch  Four-Door Car      Medsize            A   \n",
       "4               Offer1        Branch  Four-Door Car      Medsize            A   \n",
       "...                ...           ...            ...          ...          ...   \n",
       "10905           Offer3           Web     Luxury Car      Medsize            A   \n",
       "10906           Offer2        Branch  Four-Door Car      Medsize            A   \n",
       "10907           Offer1           Web     Luxury SUV      Medsize            A   \n",
       "10908           Offer1        Branch            SUV      Medsize            A   \n",
       "10909           Offer4           Web            SUV      Medsize            A   \n",
       "\n",
       "          Month  \n",
       "0      February  \n",
       "1       January  \n",
       "2      February  \n",
       "3       January  \n",
       "4       January  \n",
       "...         ...  \n",
       "10905   January  \n",
       "10906   January  \n",
       "10907  February  \n",
       "10908  February  \n",
       "10909   January  \n",
       "\n",
       "[10910 rows x 17 columns]"
      ]
     },
     "execution_count": 423,
     "metadata": {},
     "output_type": "execute_result"
    }
   ],
   "source": [
    "#Check the data types of the columns. Get the numeric data into dataframe called numerical and categorical columns in a dataframe called categoricals. \n",
    "#(You can use np.number and np.object to select the numerical data types and categorical data types respectively)\n",
    "\n",
    "categorical_data = dataframe.select_dtypes(object)\n",
    "categorical_data"
   ]
  },
  {
   "cell_type": "code",
   "execution_count": null,
   "id": "fb7194bf",
   "metadata": {},
   "outputs": [],
   "source": [
    "# for cols in categorical_data:\n",
    "#     sns.displot(categorical_data[cols])\n",
    "#     plt.show()"
   ]
  },
  {
   "cell_type": "code",
   "execution_count": 424,
   "id": "8990ecf9",
   "metadata": {},
   "outputs": [
    {
     "data": {
      "image/png": "[encoded data removed]",
      "text/plain": [
       "<Figure size 360x360 with 1 Axes>"
      ]
     },
     "metadata": {
      "needs_background": "light"
     },
     "output_type": "display_data"
    },
    {
     "data": {
      "image/png": "[encoded data removed]",
      "text/plain": [
       "<Figure size 360x360 with 1 Axes>"
      ]
     },
     "metadata": {
      "needs_background": "light"
     },
     "output_type": "display_data"
    },
    {
     "data": {
      "image/png": "[encoded data removed]",
      "text/plain": [
       "<Figure size 360x360 with 1 Axes>"
      ]
     },
     "metadata": {
      "needs_background": "light"
     },
     "output_type": "display_data"
    },
    {
     "data": {
      "image/png": "[encoded data removed]",
      "text/plain": [
       "<Figure size 360x360 with 1 Axes>"
      ]
     },
     "metadata": {
      "needs_background": "light"
     },
     "output_type": "display_data"
    },
    {
     "data": {
      "image/png": "[encoded data removed]",
      "text/plain": [
       "<Figure size 360x360 with 1 Axes>"
      ]
     },
     "metadata": {
      "needs_background": "light"
     },
     "output_type": "display_data"
    },
    {
     "data": {
      "image/png": "[encoded data removed]",
      "text/plain": [
       "<Figure size 360x360 with 1 Axes>"
      ]
     },
     "metadata": {
      "needs_background": "light"
     },
     "output_type": "display_data"
    },
    {
     "data": {
      "image/png": "[encoded data removed]",
      "text/plain": [
       "<Figure size 360x360 with 1 Axes>"
      ]
     },
     "metadata": {
      "needs_background": "light"
     },
     "output_type": "display_data"
    },
    {
     "data": {
      "image/png": "[encoded data removed]",
      "text/plain": [
       "<Figure size 360x360 with 1 Axes>"
      ]
     },
     "metadata": {
      "needs_background": "light"
     },
     "output_type": "display_data"
    }
   ],
   "source": [
    "# Now we will try to check the normality of the numerical variables visually\n",
    "# Use seaborn library to construct distribution plots for the numerical variables\n",
    "# Use Matplotlib to construct histograms\n",
    "# Do the distributions for different numerical variables look like a normal distribution\n",
    "\n",
    "for cols in numerical_data:\n",
    "    sns.displot(numerical_data[cols])\n",
    "    plt.show()"
   ]
  },
  {
   "cell_type": "code",
   "execution_count": 450,
   "id": "01fbd79d",
   "metadata": {},
   "outputs": [
    {
     "data": {
      "image/png": "[encoded data removed]",
      "text/plain": [
       "<Figure size 432x288 with 1 Axes>"
      ]
     },
     "metadata": {
      "needs_background": "light"
     },
     "output_type": "display_data"
    }
   ],
   "source": [
    "\n",
    "    plt.hist(numerical_data['income'])\n",
    "    plt.show()"
   ]
  },
  {
   "cell_type": "code",
   "execution_count": 448,
   "id": "6b2d6b27",
   "metadata": {},
   "outputs": [
    {
     "data": {
      "image/png": "[encoded data removed]",
      "text/plain": [
       "<Figure size 432x288 with 1 Axes>"
      ]
     },
     "metadata": {
      "needs_background": "light"
     },
     "output_type": "display_data"
    },
    {
     "data": {
      "image/png": "[encoded data removed]",
      "text/plain": [
       "<Figure size 432x288 with 1 Axes>"
      ]
     },
     "metadata": {
      "needs_background": "light"
     },
     "output_type": "display_data"
    },
    {
     "data": {
      "image/png": "[encoded data removed]",
      "text/plain": [
       "<Figure size 432x288 with 1 Axes>"
      ]
     },
     "metadata": {
      "needs_background": "light"
     },
     "output_type": "display_data"
    },
    {
     "data": {
      "image/png": "[encoded data removed]",
      "text/plain": [
       "<Figure size 432x288 with 1 Axes>"
      ]
     },
     "metadata": {
      "needs_background": "light"
     },
     "output_type": "display_data"
    },
    {
     "data": {
      "image/png": "[encoded data removed]",
      "text/plain": [
       "<Figure size 432x288 with 1 Axes>"
      ]
     },
     "metadata": {
      "needs_background": "light"
     },
     "output_type": "display_data"
    },
    {
     "data": {
      "image/png": "[encoded data removed]",
      "text/plain": [
       "<Figure size 432x288 with 1 Axes>"
      ]
     },
     "metadata": {
      "needs_background": "light"
     },
     "output_type": "display_data"
    },
    {
     "data": {
      "image/png": "[encoded data removed]",
      "text/plain": [
       "<Figure size 432x288 with 1 Axes>"
      ]
     },
     "metadata": {
      "needs_background": "light"
     },
     "output_type": "display_data"
    },
    {
     "data": {
      "image/png": "[encoded data removed]",
      "text/plain": [
       "<Figure size 432x288 with 1 Axes>"
      ]
     },
     "metadata": {
      "needs_background": "light"
     },
     "output_type": "display_data"
    }
   ],
   "source": [
    "for cols in numerical_data:\n",
    "    plt.hist(numerical_data[cols])\n",
    "    plt.show()\n",
    "    \n",
    "    \n",
    "    \n",
    "#     # Creating histogram\n",
    "# fig, ax = plt.subplots(1, 1)\n",
    "# ax.hist(marks)\n",
    "  \n",
    "# # Set title\n",
    "# ax.set_title(\"Title\")\n",
    "  \n",
    "# # adding labels\n",
    "# ax.set_xlabel('x-label')\n",
    "# ax.set_ylabel('y-label')\n",
    "  \n",
    "# # Make some labels.\n",
    "# rects = ax.patches\n",
    "# labels = [\"label%d\" % i for i in range(len(rects))]\n",
    "  \n",
    "# for rect, label in zip(rects, labels):\n",
    "#     height = rect.get_height()\n",
    "#     ax.text(rect.get_x() + rect.get_width() / 2, height+0.01, label,\n",
    "#             ha='center', va='bottom')\n",
    "  \n",
    "# # Show plot\n",
    "# plt.show()"
   ]
  },
  {
   "cell_type": "code",
   "execution_count": 434,
   "id": "35bdd000",
   "metadata": {},
   "outputs": [
    {
     "data": {
      "text/html": [
       "<div>\n",
       "<style scoped>\n",
       "    .dataframe tbody tr th:only-of-type {\n",
       "        vertical-align: middle;\n",
       "    }\n",
       "\n",
       "    .dataframe tbody tr th {\n",
       "        vertical-align: top;\n",
       "    }\n",
       "\n",
       "    .dataframe thead th {\n",
       "        text-align: right;\n",
       "    }\n",
       "</style>\n",
       "<table border=\"1\" class=\"dataframe\">\n",
       "  <thead>\n",
       "    <tr style=\"text-align: right;\">\n",
       "      <th></th>\n",
       "      <th>count</th>\n",
       "      <th>mean</th>\n",
       "      <th>std</th>\n",
       "      <th>min</th>\n",
       "      <th>25%</th>\n",
       "      <th>50%</th>\n",
       "      <th>75%</th>\n",
       "      <th>max</th>\n",
       "    </tr>\n",
       "  </thead>\n",
       "  <tbody>\n",
       "    <tr>\n",
       "      <th>customer_lifetime_value</th>\n",
       "      <td>10910.0</td>\n",
       "      <td>8018.2</td>\n",
       "      <td>6885.1</td>\n",
       "      <td>1898.0</td>\n",
       "      <td>4014.5</td>\n",
       "      <td>5771.1</td>\n",
       "      <td>8992.8</td>\n",
       "      <td>83325.4</td>\n",
       "    </tr>\n",
       "    <tr>\n",
       "      <th>income</th>\n",
       "      <td>10910.0</td>\n",
       "      <td>37536.3</td>\n",
       "      <td>30359.2</td>\n",
       "      <td>0.0</td>\n",
       "      <td>0.0</td>\n",
       "      <td>33813.5</td>\n",
       "      <td>62250.8</td>\n",
       "      <td>99981.0</td>\n",
       "    </tr>\n",
       "    <tr>\n",
       "      <th>monthly_premium_auto</th>\n",
       "      <td>10910.0</td>\n",
       "      <td>93.2</td>\n",
       "      <td>34.4</td>\n",
       "      <td>61.0</td>\n",
       "      <td>68.0</td>\n",
       "      <td>83.0</td>\n",
       "      <td>109.0</td>\n",
       "      <td>298.0</td>\n",
       "    </tr>\n",
       "    <tr>\n",
       "      <th>months_since_last_claim</th>\n",
       "      <td>10910.0</td>\n",
       "      <td>14.4</td>\n",
       "      <td>10.2</td>\n",
       "      <td>0.0</td>\n",
       "      <td>5.0</td>\n",
       "      <td>13.0</td>\n",
       "      <td>23.0</td>\n",
       "      <td>35.0</td>\n",
       "    </tr>\n",
       "    <tr>\n",
       "      <th>months_since_policy_inception</th>\n",
       "      <td>10910.0</td>\n",
       "      <td>48.1</td>\n",
       "      <td>27.9</td>\n",
       "      <td>0.0</td>\n",
       "      <td>24.0</td>\n",
       "      <td>48.0</td>\n",
       "      <td>71.0</td>\n",
       "      <td>99.0</td>\n",
       "    </tr>\n",
       "    <tr>\n",
       "      <th>number_of_open_complaints</th>\n",
       "      <td>10910.0</td>\n",
       "      <td>0.4</td>\n",
       "      <td>0.9</td>\n",
       "      <td>0.0</td>\n",
       "      <td>0.0</td>\n",
       "      <td>0.0</td>\n",
       "      <td>0.0</td>\n",
       "      <td>5.0</td>\n",
       "    </tr>\n",
       "    <tr>\n",
       "      <th>number_of_policies</th>\n",
       "      <td>10910.0</td>\n",
       "      <td>3.0</td>\n",
       "      <td>2.4</td>\n",
       "      <td>1.0</td>\n",
       "      <td>1.0</td>\n",
       "      <td>2.0</td>\n",
       "      <td>4.0</td>\n",
       "      <td>9.0</td>\n",
       "    </tr>\n",
       "    <tr>\n",
       "      <th>total_claim_amount</th>\n",
       "      <td>10910.0</td>\n",
       "      <td>434.9</td>\n",
       "      <td>292.2</td>\n",
       "      <td>0.1</td>\n",
       "      <td>271.1</td>\n",
       "      <td>382.6</td>\n",
       "      <td>547.2</td>\n",
       "      <td>2893.2</td>\n",
       "    </tr>\n",
       "  </tbody>\n",
       "</table>\n",
       "</div>"
      ],
      "text/plain": [
       "                                 count     mean      std     min     25%  \\\n",
       "customer_lifetime_value        10910.0   8018.2   6885.1  1898.0  4014.5   \n",
       "income                         10910.0  37536.3  30359.2     0.0     0.0   \n",
       "monthly_premium_auto           10910.0     93.2     34.4    61.0    68.0   \n",
       "months_since_last_claim        10910.0     14.4     10.2     0.0     5.0   \n",
       "months_since_policy_inception  10910.0     48.1     27.9     0.0    24.0   \n",
       "number_of_open_complaints      10910.0      0.4      0.9     0.0     0.0   \n",
       "number_of_policies             10910.0      3.0      2.4     1.0     1.0   \n",
       "total_claim_amount             10910.0    434.9    292.2     0.1   271.1   \n",
       "\n",
       "                                   50%      75%      max  \n",
       "customer_lifetime_value         5771.1   8992.8  83325.4  \n",
       "income                         33813.5  62250.8  99981.0  \n",
       "monthly_premium_auto              83.0    109.0    298.0  \n",
       "months_since_last_claim           13.0     23.0     35.0  \n",
       "months_since_policy_inception     48.0     71.0     99.0  \n",
       "number_of_open_complaints          0.0      0.0      5.0  \n",
       "number_of_policies                 2.0      4.0      9.0  \n",
       "total_claim_amount               382.6    547.2   2893.2  "
      ]
     },
     "execution_count": 434,
     "metadata": {},
     "output_type": "execute_result"
    }
   ],
   "source": [
    "summary = dataframe.describe().T # for rounding the decimal values\n",
    "def roundforme(x):\n",
    "    return round(x,1)\n",
    "# # summary\n",
    "for col in summary.columns:\n",
    "    summary[col] = summary[col].apply(roundforme)\n",
    "summary"
   ]
  },
  {
   "cell_type": "code",
   "execution_count": 433,
   "id": "d1f82f2c",
   "metadata": {},
   "outputs": [
    {
     "data": {
      "image/png": "[encoded data removed]",
      "text/plain": [
       "<Figure size 720x720 with 2 Axes>"
      ]
     },
     "metadata": {
      "needs_background": "light"
     },
     "output_type": "display_data"
    }
   ],
   "source": [
    "# For the numerical variables, check the multicollinearity between the features. \n",
    "# Please note that we will use the column total_claim_amount later as the target variable.\n",
    "\n",
    "correlations_matrix = numerical_data.corr()\n",
    "fig, ax = plt.subplots(figsize=(10,10))\n",
    "sns.heatmap(correlations_matrix, annot=True)\n",
    "plt.show()"
   ]
  },
  {
   "cell_type": "code",
   "execution_count": 435,
   "id": "d23cc3cb",
   "metadata": {},
   "outputs": [],
   "source": [
    "# Drop one of the two features that show a high correlation between them (greater than 0.9). \n",
    "# Write code for both the correlation matrix and for seaborn heatmap. \n",
    "# If there is no pair of features that have a high correlation, then do not drop any features\n",
    "\n",
    "\n",
    "#My data does not have any value greater than 0.9 .\n",
    "\n"
   ]
  },
  {
   "cell_type": "code",
   "execution_count": null,
   "id": "26099995",
   "metadata": {},
   "outputs": [],
   "source": []
  }
 ],
 "metadata": {
  "kernelspec": {
   "display_name": "Python 3 (ipykernel)",
   "language": "python",
   "name": "python3"
  },
  "language_info": {
   "codemirror_mode": {
    "name": "ipython",
    "version": 3
   },
   "file_extension": ".py",
   "mimetype": "text/x-python",
   "name": "python",
   "nbconvert_exporter": "python",
   "pygments_lexer": "ipython3",
   "version": "3.9.12"
  }
 },
 "nbformat": 4,
 "nbformat_minor": 5
}
