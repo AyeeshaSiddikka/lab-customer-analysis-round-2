{
 "cells": [
  {
   "cell_type": "markdown",
   "id": "c58ea6c0",
   "metadata": {},
   "source": [
    "# Lab | Customer Analysis Final Round"
   ]
  },
  {
   "cell_type": "markdown",
   "id": "528024f0",
   "metadata": {},
   "source": [
    "## 01 - Problem (case study)"
   ]
  },
  {
   "cell_type": "markdown",
   "id": "48d30431",
   "metadata": {},
   "source": [
    "### Data description"
   ]
  },
  {
   "cell_type": "code",
   "execution_count": 563,
   "id": "444ba0b9",
   "metadata": {},
   "outputs": [
    {
     "data": {
      "text/html": [
       "<div>\n",
       "<style scoped>\n",
       "    .dataframe tbody tr th:only-of-type {\n",
       "        vertical-align: middle;\n",
       "    }\n",
       "\n",
       "    .dataframe tbody tr th {\n",
       "        vertical-align: top;\n",
       "    }\n",
       "\n",
       "    .dataframe thead th {\n",
       "        text-align: right;\n",
       "    }\n",
       "</style>\n",
       "<table border=\"1\" class=\"dataframe\">\n",
       "  <thead>\n",
       "    <tr style=\"text-align: right;\">\n",
       "      <th></th>\n",
       "      <th>Unnamed: 0</th>\n",
       "      <th>Customer</th>\n",
       "      <th>State</th>\n",
       "      <th>Customer Lifetime Value</th>\n",
       "      <th>Response</th>\n",
       "      <th>Coverage</th>\n",
       "      <th>Education</th>\n",
       "      <th>Effective To Date</th>\n",
       "      <th>EmploymentStatus</th>\n",
       "      <th>Gender</th>\n",
       "      <th>...</th>\n",
       "      <th>Number of Open Complaints</th>\n",
       "      <th>Number of Policies</th>\n",
       "      <th>Policy Type</th>\n",
       "      <th>Policy</th>\n",
       "      <th>Renew Offer Type</th>\n",
       "      <th>Sales Channel</th>\n",
       "      <th>Total Claim Amount</th>\n",
       "      <th>Vehicle Class</th>\n",
       "      <th>Vehicle Size</th>\n",
       "      <th>Vehicle Type</th>\n",
       "    </tr>\n",
       "  </thead>\n",
       "  <tbody>\n",
       "    <tr>\n",
       "      <th>0</th>\n",
       "      <td>0</td>\n",
       "      <td>DK49336</td>\n",
       "      <td>Arizona</td>\n",
       "      <td>4809.216960</td>\n",
       "      <td>No</td>\n",
       "      <td>Basic</td>\n",
       "      <td>College</td>\n",
       "      <td>2/18/11</td>\n",
       "      <td>Employed</td>\n",
       "      <td>M</td>\n",
       "      <td>...</td>\n",
       "      <td>0.0</td>\n",
       "      <td>9</td>\n",
       "      <td>Corporate Auto</td>\n",
       "      <td>Corporate L3</td>\n",
       "      <td>Offer3</td>\n",
       "      <td>Agent</td>\n",
       "      <td>292.800000</td>\n",
       "      <td>Four-Door Car</td>\n",
       "      <td>Medsize</td>\n",
       "      <td>NaN</td>\n",
       "    </tr>\n",
       "    <tr>\n",
       "      <th>1</th>\n",
       "      <td>1</td>\n",
       "      <td>KX64629</td>\n",
       "      <td>California</td>\n",
       "      <td>2228.525238</td>\n",
       "      <td>No</td>\n",
       "      <td>Basic</td>\n",
       "      <td>College</td>\n",
       "      <td>1/18/11</td>\n",
       "      <td>Unemployed</td>\n",
       "      <td>F</td>\n",
       "      <td>...</td>\n",
       "      <td>0.0</td>\n",
       "      <td>1</td>\n",
       "      <td>Personal Auto</td>\n",
       "      <td>Personal L3</td>\n",
       "      <td>Offer4</td>\n",
       "      <td>Call Center</td>\n",
       "      <td>744.924331</td>\n",
       "      <td>Four-Door Car</td>\n",
       "      <td>Medsize</td>\n",
       "      <td>NaN</td>\n",
       "    </tr>\n",
       "    <tr>\n",
       "      <th>2</th>\n",
       "      <td>2</td>\n",
       "      <td>LZ68649</td>\n",
       "      <td>Washington</td>\n",
       "      <td>14947.917300</td>\n",
       "      <td>No</td>\n",
       "      <td>Basic</td>\n",
       "      <td>Bachelor</td>\n",
       "      <td>2/10/11</td>\n",
       "      <td>Employed</td>\n",
       "      <td>M</td>\n",
       "      <td>...</td>\n",
       "      <td>0.0</td>\n",
       "      <td>2</td>\n",
       "      <td>Personal Auto</td>\n",
       "      <td>Personal L3</td>\n",
       "      <td>Offer3</td>\n",
       "      <td>Call Center</td>\n",
       "      <td>480.000000</td>\n",
       "      <td>SUV</td>\n",
       "      <td>Medsize</td>\n",
       "      <td>A</td>\n",
       "    </tr>\n",
       "    <tr>\n",
       "      <th>3</th>\n",
       "      <td>3</td>\n",
       "      <td>XL78013</td>\n",
       "      <td>Oregon</td>\n",
       "      <td>22332.439460</td>\n",
       "      <td>Yes</td>\n",
       "      <td>Extended</td>\n",
       "      <td>College</td>\n",
       "      <td>1/11/11</td>\n",
       "      <td>Employed</td>\n",
       "      <td>M</td>\n",
       "      <td>...</td>\n",
       "      <td>0.0</td>\n",
       "      <td>2</td>\n",
       "      <td>Corporate Auto</td>\n",
       "      <td>Corporate L3</td>\n",
       "      <td>Offer2</td>\n",
       "      <td>Branch</td>\n",
       "      <td>484.013411</td>\n",
       "      <td>Four-Door Car</td>\n",
       "      <td>Medsize</td>\n",
       "      <td>A</td>\n",
       "    </tr>\n",
       "    <tr>\n",
       "      <th>4</th>\n",
       "      <td>4</td>\n",
       "      <td>QA50777</td>\n",
       "      <td>Oregon</td>\n",
       "      <td>9025.067525</td>\n",
       "      <td>No</td>\n",
       "      <td>Premium</td>\n",
       "      <td>Bachelor</td>\n",
       "      <td>1/17/11</td>\n",
       "      <td>Medical Leave</td>\n",
       "      <td>F</td>\n",
       "      <td>...</td>\n",
       "      <td>NaN</td>\n",
       "      <td>7</td>\n",
       "      <td>Personal Auto</td>\n",
       "      <td>Personal L2</td>\n",
       "      <td>Offer1</td>\n",
       "      <td>Branch</td>\n",
       "      <td>707.925645</td>\n",
       "      <td>Four-Door Car</td>\n",
       "      <td>Medsize</td>\n",
       "      <td>NaN</td>\n",
       "    </tr>\n",
       "  </tbody>\n",
       "</table>\n",
       "<p>5 rows × 26 columns</p>\n",
       "</div>"
      ],
      "text/plain": [
       "   Unnamed: 0 Customer       State  Customer Lifetime Value Response  \\\n",
       "0           0  DK49336     Arizona              4809.216960       No   \n",
       "1           1  KX64629  California              2228.525238       No   \n",
       "2           2  LZ68649  Washington             14947.917300       No   \n",
       "3           3  XL78013      Oregon             22332.439460      Yes   \n",
       "4           4  QA50777      Oregon              9025.067525       No   \n",
       "\n",
       "   Coverage Education Effective To Date EmploymentStatus Gender  ...  \\\n",
       "0     Basic   College           2/18/11         Employed      M  ...   \n",
       "1     Basic   College           1/18/11       Unemployed      F  ...   \n",
       "2     Basic  Bachelor           2/10/11         Employed      M  ...   \n",
       "3  Extended   College           1/11/11         Employed      M  ...   \n",
       "4   Premium  Bachelor           1/17/11    Medical Leave      F  ...   \n",
       "\n",
       "   Number of Open Complaints Number of Policies     Policy Type        Policy  \\\n",
       "0                        0.0                  9  Corporate Auto  Corporate L3   \n",
       "1                        0.0                  1   Personal Auto   Personal L3   \n",
       "2                        0.0                  2   Personal Auto   Personal L3   \n",
       "3                        0.0                  2  Corporate Auto  Corporate L3   \n",
       "4                        NaN                  7   Personal Auto   Personal L2   \n",
       "\n",
       "   Renew Offer Type  Sales Channel  Total Claim Amount  Vehicle Class  \\\n",
       "0            Offer3          Agent          292.800000  Four-Door Car   \n",
       "1            Offer4    Call Center          744.924331  Four-Door Car   \n",
       "2            Offer3    Call Center          480.000000            SUV   \n",
       "3            Offer2         Branch          484.013411  Four-Door Car   \n",
       "4            Offer1         Branch          707.925645  Four-Door Car   \n",
       "\n",
       "  Vehicle Size Vehicle Type  \n",
       "0      Medsize          NaN  \n",
       "1      Medsize          NaN  \n",
       "2      Medsize            A  \n",
       "3      Medsize            A  \n",
       "4      Medsize          NaN  \n",
       "\n",
       "[5 rows x 26 columns]"
      ]
     },
     "metadata": {},
     "output_type": "display_data"
    },
    {
     "data": {
      "text/html": [
       "<div>\n",
       "<style scoped>\n",
       "    .dataframe tbody tr th:only-of-type {\n",
       "        vertical-align: middle;\n",
       "    }\n",
       "\n",
       "    .dataframe tbody tr th {\n",
       "        vertical-align: top;\n",
       "    }\n",
       "\n",
       "    .dataframe thead th {\n",
       "        text-align: right;\n",
       "    }\n",
       "</style>\n",
       "<table border=\"1\" class=\"dataframe\">\n",
       "  <thead>\n",
       "    <tr style=\"text-align: right;\">\n",
       "      <th></th>\n",
       "      <th>count</th>\n",
       "      <th>mean</th>\n",
       "      <th>std</th>\n",
       "      <th>min</th>\n",
       "      <th>25%</th>\n",
       "      <th>50%</th>\n",
       "      <th>75%</th>\n",
       "      <th>max</th>\n",
       "    </tr>\n",
       "  </thead>\n",
       "  <tbody>\n",
       "    <tr>\n",
       "      <th>Unnamed: 0</th>\n",
       "      <td>10910.0</td>\n",
       "      <td>5454.500000</td>\n",
       "      <td>3149.590053</td>\n",
       "      <td>0.000000</td>\n",
       "      <td>2727.250000</td>\n",
       "      <td>5454.500000</td>\n",
       "      <td>8181.750000</td>\n",
       "      <td>10909.000000</td>\n",
       "    </tr>\n",
       "    <tr>\n",
       "      <th>Customer Lifetime Value</th>\n",
       "      <td>10910.0</td>\n",
       "      <td>8018.241094</td>\n",
       "      <td>6885.081434</td>\n",
       "      <td>1898.007675</td>\n",
       "      <td>4014.453113</td>\n",
       "      <td>5771.147235</td>\n",
       "      <td>8992.779137</td>\n",
       "      <td>83325.381190</td>\n",
       "    </tr>\n",
       "    <tr>\n",
       "      <th>Income</th>\n",
       "      <td>10910.0</td>\n",
       "      <td>37536.284785</td>\n",
       "      <td>30359.195670</td>\n",
       "      <td>0.000000</td>\n",
       "      <td>0.000000</td>\n",
       "      <td>33813.500000</td>\n",
       "      <td>62250.750000</td>\n",
       "      <td>99981.000000</td>\n",
       "    </tr>\n",
       "    <tr>\n",
       "      <th>Monthly Premium Auto</th>\n",
       "      <td>10910.0</td>\n",
       "      <td>93.196059</td>\n",
       "      <td>34.442532</td>\n",
       "      <td>61.000000</td>\n",
       "      <td>68.000000</td>\n",
       "      <td>83.000000</td>\n",
       "      <td>109.000000</td>\n",
       "      <td>298.000000</td>\n",
       "    </tr>\n",
       "    <tr>\n",
       "      <th>Months Since Last Claim</th>\n",
       "      <td>10277.0</td>\n",
       "      <td>15.149071</td>\n",
       "      <td>10.080349</td>\n",
       "      <td>0.000000</td>\n",
       "      <td>6.000000</td>\n",
       "      <td>14.000000</td>\n",
       "      <td>23.000000</td>\n",
       "      <td>35.000000</td>\n",
       "    </tr>\n",
       "    <tr>\n",
       "      <th>Months Since Policy Inception</th>\n",
       "      <td>10910.0</td>\n",
       "      <td>48.091934</td>\n",
       "      <td>27.940675</td>\n",
       "      <td>0.000000</td>\n",
       "      <td>24.000000</td>\n",
       "      <td>48.000000</td>\n",
       "      <td>71.000000</td>\n",
       "      <td>99.000000</td>\n",
       "    </tr>\n",
       "    <tr>\n",
       "      <th>Number of Open Complaints</th>\n",
       "      <td>10277.0</td>\n",
       "      <td>0.384256</td>\n",
       "      <td>0.912457</td>\n",
       "      <td>0.000000</td>\n",
       "      <td>0.000000</td>\n",
       "      <td>0.000000</td>\n",
       "      <td>0.000000</td>\n",
       "      <td>5.000000</td>\n",
       "    </tr>\n",
       "    <tr>\n",
       "      <th>Number of Policies</th>\n",
       "      <td>10910.0</td>\n",
       "      <td>2.979193</td>\n",
       "      <td>2.399359</td>\n",
       "      <td>1.000000</td>\n",
       "      <td>1.000000</td>\n",
       "      <td>2.000000</td>\n",
       "      <td>4.000000</td>\n",
       "      <td>9.000000</td>\n",
       "    </tr>\n",
       "    <tr>\n",
       "      <th>Total Claim Amount</th>\n",
       "      <td>10910.0</td>\n",
       "      <td>434.888330</td>\n",
       "      <td>292.180556</td>\n",
       "      <td>0.099007</td>\n",
       "      <td>271.082527</td>\n",
       "      <td>382.564630</td>\n",
       "      <td>547.200000</td>\n",
       "      <td>2893.239678</td>\n",
       "    </tr>\n",
       "  </tbody>\n",
       "</table>\n",
       "</div>"
      ],
      "text/plain": [
       "                                 count          mean           std  \\\n",
       "Unnamed: 0                     10910.0   5454.500000   3149.590053   \n",
       "Customer Lifetime Value        10910.0   8018.241094   6885.081434   \n",
       "Income                         10910.0  37536.284785  30359.195670   \n",
       "Monthly Premium Auto           10910.0     93.196059     34.442532   \n",
       "Months Since Last Claim        10277.0     15.149071     10.080349   \n",
       "Months Since Policy Inception  10910.0     48.091934     27.940675   \n",
       "Number of Open Complaints      10277.0      0.384256      0.912457   \n",
       "Number of Policies             10910.0      2.979193      2.399359   \n",
       "Total Claim Amount             10910.0    434.888330    292.180556   \n",
       "\n",
       "                                       min          25%           50%  \\\n",
       "Unnamed: 0                        0.000000  2727.250000   5454.500000   \n",
       "Customer Lifetime Value        1898.007675  4014.453113   5771.147235   \n",
       "Income                            0.000000     0.000000  33813.500000   \n",
       "Monthly Premium Auto             61.000000    68.000000     83.000000   \n",
       "Months Since Last Claim           0.000000     6.000000     14.000000   \n",
       "Months Since Policy Inception     0.000000    24.000000     48.000000   \n",
       "Number of Open Complaints         0.000000     0.000000      0.000000   \n",
       "Number of Policies                1.000000     1.000000      2.000000   \n",
       "Total Claim Amount                0.099007   271.082527    382.564630   \n",
       "\n",
       "                                        75%           max  \n",
       "Unnamed: 0                      8181.750000  10909.000000  \n",
       "Customer Lifetime Value         8992.779137  83325.381190  \n",
       "Income                         62250.750000  99981.000000  \n",
       "Monthly Premium Auto             109.000000    298.000000  \n",
       "Months Since Last Claim           23.000000     35.000000  \n",
       "Months Since Policy Inception     71.000000     99.000000  \n",
       "Number of Open Complaints          0.000000      5.000000  \n",
       "Number of Policies                 4.000000      9.000000  \n",
       "Total Claim Amount               547.200000   2893.239678  "
      ]
     },
     "execution_count": 563,
     "metadata": {},
     "output_type": "execute_result"
    }
   ],
   "source": [
    "df = pd.read_csv(\"/Users/ayeesha/IH-Labs/lab-customer-analysis-round-2/files_for_lab/csv_files/marketing_customer_analysis.csv\")\n",
    "display(df.head())\n",
    "df.describe().T"
   ]
  },
  {
   "cell_type": "markdown",
   "id": "b5bf7530",
   "metadata": {},
   "source": [
    "The data provided in CSV file corresponds to a vehicle insurance company.\n",
    "\n",
    "The first column named Unamed: 0 looks like an index column, which is not useful for our analysis. So in the later preprocessing and cleanup steps we will drop this column\n",
    "The second column named Customer has customer id's of all the customers. This column is also not useful for our analysis, hence we will drop this as well\n",
    "df['State'].unique()\n",
    "df['State'].uniq"
   ]
  },
  {
   "cell_type": "code",
   "execution_count": 564,
   "id": "0461cfd9",
   "metadata": {},
   "outputs": [
    {
     "data": {
      "text/plain": [
       "array(['Arizona', 'California', 'Washington', 'Oregon', nan, 'Nevada'],\n",
       "      dtype=object)"
      ]
     },
     "execution_count": 564,
     "metadata": {},
     "output_type": "execute_result"
    }
   ],
   "source": [
    "df['State'].unique()"
   ]
  },
  {
   "cell_type": "markdown",
   "id": "bba52164",
   "metadata": {},
   "source": [
    "- The third column `State` is a nominal categorical column which contains the state of the customer. In our dataset it has 5 unique values with some `NaN`"
   ]
  },
  {
   "cell_type": "code",
   "execution_count": 565,
   "id": "94b8edc8",
   "metadata": {},
   "outputs": [
    {
     "name": "stdout",
     "output_type": "stream",
     "text": [
      "count    10910.000000\n",
      "mean      8018.241094\n",
      "std       6885.081434\n",
      "min       1898.007675\n",
      "25%       4014.453113\n",
      "50%       5771.147235\n",
      "75%       8992.779137\n",
      "max      83325.381190\n",
      "Name: Customer Lifetime Value, dtype: float64\n"
     ]
    },
    {
     "data": {
      "image/png": "[encoded data removed]",
      "text/plain": [
       "<Figure size 360x360 with 1 Axes>"
      ]
     },
     "metadata": {
      "needs_background": "light"
     },
     "output_type": "display_data"
    }
   ],
   "source": [
    "print(df['Customer Lifetime Value'].describe())\n",
    "sns.displot(df['Customer Lifetime Value'],kde = True)\n",
    "plt.show()"
   ]
  },
  {
   "cell_type": "markdown",
   "id": "dee02f7a",
   "metadata": {},
   "source": [
    "- The column `Customer Lifetime Value` consists of lifetime value of the customers. This is a numerical field which has a mean of 8018.24 and a std deviation of 6885.08. Based on these statistics this column has some outliers"
   ]
  },
  {
   "cell_type": "code",
   "execution_count": 566,
   "id": "dc6003a4",
   "metadata": {},
   "outputs": [
    {
     "data": {
      "text/plain": [
       "array(['No', 'Yes', nan], dtype=object)"
      ]
     },
     "execution_count": 566,
     "metadata": {},
     "output_type": "execute_result"
    }
   ],
   "source": [
    "df['Response'].unique()"
   ]
  },
  {
   "cell_type": "markdown",
   "id": "f5b86a0b",
   "metadata": {},
   "source": [
    "- `Response` column is a boolean field, where the customer has responded"
   ]
  },
  {
   "cell_type": "markdown",
   "id": "3a185c9f",
   "metadata": {},
   "source": [
    "I dont know how to write the description of case study. i did for 4 columns"
   ]
  },
  {
   "cell_type": "markdown",
   "id": "fbf05561",
   "metadata": {},
   "source": [
    "## Goal"
   ]
  },
  {
   "cell_type": "markdown",
   "id": "27221203",
   "metadata": {},
   "source": [
    "The goal of this analysis is to predict the `Total Claim Amount` (y) based on provided independent variables (X). We will use Linear Regression method to train the model and calculate the R2, MSE, RMSE and MAE based on the dataset provided."
   ]
  },
  {
   "cell_type": "markdown",
   "id": "64cc3047",
   "metadata": {},
   "source": [
    "## Getting Data"
   ]
  },
  {
   "cell_type": "code",
   "execution_count": 567,
   "id": "071d9d7f",
   "metadata": {},
   "outputs": [],
   "source": [
    "import pandas as pd\n",
    "import numpy as np\n",
    "import matplotlib.pyplot as plt\n",
    "import seaborn as sns \n",
    "%matplotlib inline\n",
    "\n",
    "from sklearn.preprocessing import OneHotEncoder\n",
    "from sklearn.preprocessing import LabelEncoder\n",
    "from sklearn.preprocessing import MinMaxScaler \n",
    "from sklearn.preprocessing import StandardScaler\n",
    "\n",
    "from sklearn.linear_model import LinearRegression\n",
    "from sklearn.metrics import mean_absolute_error, r2_score, mean_squared_error\n",
    "from sklearn.model_selection import train_test_split\n"
   ]
  },
  {
   "cell_type": "code",
   "execution_count": 570,
   "id": "814350ac",
   "metadata": {},
   "outputs": [
    {
     "data": {
      "text/plain": [
       "(10910, 26)"
      ]
     },
     "execution_count": 570,
     "metadata": {},
     "output_type": "execute_result"
    }
   ],
   "source": [
    "df = pd.read_csv(\"/Users/ayeesha/IH-Labs/lab-customer-analysis-round-2/files_for_lab/csv_files/marketing_customer_analysis.csv\")\n",
    "df.shape"
   ]
  },
  {
   "cell_type": "markdown",
   "id": "150f74d8",
   "metadata": {},
   "source": [
    "## Cleaning/Wrangling"
   ]
  },
  {
   "cell_type": "markdown",
   "id": "7507d255",
   "metadata": {},
   "source": [
    "### Change headers names."
   ]
  },
  {
   "cell_type": "code",
   "execution_count": 571,
   "id": "a4aa91be",
   "metadata": {},
   "outputs": [
    {
     "data": {
      "text/plain": [
       "Index(['unnamed:_0', 'customer', 'state', 'customer_lifetime_value',\n",
       "       'response', 'coverage', 'education', 'effective_to_date',\n",
       "       'employmentstatus', 'gender', 'income', 'location_code',\n",
       "       'marital_status', 'monthly_premium_auto', 'months_since_last_claim',\n",
       "       'months_since_policy_inception', 'number_of_open_complaints',\n",
       "       'number_of_policies', 'policy_type', 'policy', 'renew_offer_type',\n",
       "       'sales_channel', 'total_claim_amount', 'vehicle_class', 'vehicle_size',\n",
       "       'vehicle_type'],\n",
       "      dtype='object')"
      ]
     },
     "metadata": {},
     "output_type": "display_data"
    },
    {
     "name": "stdout",
     "output_type": "stream",
     "text": [
      "unnamed:_0                          0\n",
      "customer                            0\n",
      "state                             631\n",
      "customer_lifetime_value             0\n",
      "response                          631\n",
      "coverage                            0\n",
      "education                           0\n",
      "effective_to_date                   0\n",
      "employmentstatus                    0\n",
      "gender                              0\n",
      "income                              0\n",
      "location_code                       0\n",
      "marital_status                      0\n",
      "monthly_premium_auto                0\n",
      "months_since_last_claim           633\n",
      "months_since_policy_inception       0\n",
      "number_of_open_complaints         633\n",
      "number_of_policies                  0\n",
      "policy_type                         0\n",
      "policy                              0\n",
      "renew_offer_type                    0\n",
      "sales_channel                       0\n",
      "total_claim_amount                  0\n",
      "vehicle_class                     622\n",
      "vehicle_size                      622\n",
      "vehicle_type                     5482\n",
      "dtype: int64\n"
     ]
    }
   ],
   "source": [
    "cols = []\n",
    "for column in df.columns:\n",
    "    cols.append(column.lower())\n",
    "df.columns = cols\n",
    "df.columns = df.columns.str.replace(' ', '_')\n",
    "display(df.columns)\n",
    "print(df.isna().sum())"
   ]
  },
  {
   "cell_type": "markdown",
   "id": "0bfe0d0d",
   "metadata": {},
   "source": [
    "### Deal with NaN values"
   ]
  },
  {
   "cell_type": "code",
   "execution_count": 572,
   "id": "739a91c8",
   "metadata": {},
   "outputs": [
    {
     "data": {
      "text/plain": [
       "unnamed:_0                       0\n",
       "customer                         0\n",
       "state                            0\n",
       "customer_lifetime_value          0\n",
       "response                         0\n",
       "coverage                         0\n",
       "education                        0\n",
       "effective_to_date                0\n",
       "employmentstatus                 0\n",
       "gender                           0\n",
       "income                           0\n",
       "location_code                    0\n",
       "marital_status                   0\n",
       "monthly_premium_auto             0\n",
       "months_since_last_claim          0\n",
       "months_since_policy_inception    0\n",
       "number_of_open_complaints        0\n",
       "number_of_policies               0\n",
       "policy_type                      0\n",
       "policy                           0\n",
       "renew_offer_type                 0\n",
       "sales_channel                    0\n",
       "total_claim_amount               0\n",
       "vehicle_class                    0\n",
       "vehicle_size                     0\n",
       "vehicle_type                     0\n",
       "dtype: int64"
      ]
     },
     "execution_count": 572,
     "metadata": {},
     "output_type": "execute_result"
    }
   ],
   "source": [
    "df['vehicle_type']= df['vehicle_type'].fillna('Not A')             \n",
    "df['vehicle_type'].value_counts(dropna=False)\n",
    "nan_cols = ['state','response','months_since_last_claim','number_of_open_complaints','vehicle_class','vehicle_size']\n",
    "for col in nan_cols:\n",
    "    df[col]=df[col].fillna(df[col].mode()[0])    \n",
    "df['effective_to_date'] = pd.to_datetime(df['effective_to_date'])\n",
    "df.isna().sum()"
   ]
  },
  {
   "cell_type": "markdown",
   "id": "3f2bbb77",
   "metadata": {},
   "source": [
    "### Drop unwanted index column"
   ]
  },
  {
   "cell_type": "code",
   "execution_count": 573,
   "id": "50d6a029",
   "metadata": {},
   "outputs": [
    {
     "data": {
      "text/plain": [
       "(10910, 25)"
      ]
     },
     "execution_count": 573,
     "metadata": {},
     "output_type": "execute_result"
    }
   ],
   "source": [
    "df = df.drop(['unnamed:_0'], axis=1)\n",
    "df.shape"
   ]
  },
  {
   "cell_type": "markdown",
   "id": "e4b1f764",
   "metadata": {},
   "source": [
    "### Categorical Features"
   ]
  },
  {
   "cell_type": "code",
   "execution_count": 574,
   "id": "eb8d729b",
   "metadata": {},
   "outputs": [
    {
     "data": {
      "text/html": [
       "<div>\n",
       "<style scoped>\n",
       "    .dataframe tbody tr th:only-of-type {\n",
       "        vertical-align: middle;\n",
       "    }\n",
       "\n",
       "    .dataframe tbody tr th {\n",
       "        vertical-align: top;\n",
       "    }\n",
       "\n",
       "    .dataframe thead th {\n",
       "        text-align: right;\n",
       "    }\n",
       "</style>\n",
       "<table border=\"1\" class=\"dataframe\">\n",
       "  <thead>\n",
       "    <tr style=\"text-align: right;\">\n",
       "      <th></th>\n",
       "      <th>customer</th>\n",
       "      <th>state</th>\n",
       "      <th>response</th>\n",
       "      <th>coverage</th>\n",
       "      <th>education</th>\n",
       "      <th>employmentstatus</th>\n",
       "      <th>gender</th>\n",
       "      <th>location_code</th>\n",
       "      <th>marital_status</th>\n",
       "      <th>policy_type</th>\n",
       "      <th>policy</th>\n",
       "      <th>renew_offer_type</th>\n",
       "      <th>sales_channel</th>\n",
       "      <th>vehicle_class</th>\n",
       "      <th>vehicle_size</th>\n",
       "      <th>vehicle_type</th>\n",
       "    </tr>\n",
       "  </thead>\n",
       "  <tbody>\n",
       "    <tr>\n",
       "      <th>0</th>\n",
       "      <td>DK49336</td>\n",
       "      <td>Arizona</td>\n",
       "      <td>No</td>\n",
       "      <td>Basic</td>\n",
       "      <td>College</td>\n",
       "      <td>Employed</td>\n",
       "      <td>M</td>\n",
       "      <td>Suburban</td>\n",
       "      <td>Married</td>\n",
       "      <td>Corporate Auto</td>\n",
       "      <td>Corporate L3</td>\n",
       "      <td>Offer3</td>\n",
       "      <td>Agent</td>\n",
       "      <td>Four-Door Car</td>\n",
       "      <td>Medsize</td>\n",
       "      <td>Not A</td>\n",
       "    </tr>\n",
       "    <tr>\n",
       "      <th>1</th>\n",
       "      <td>KX64629</td>\n",
       "      <td>California</td>\n",
       "      <td>No</td>\n",
       "      <td>Basic</td>\n",
       "      <td>College</td>\n",
       "      <td>Unemployed</td>\n",
       "      <td>F</td>\n",
       "      <td>Suburban</td>\n",
       "      <td>Single</td>\n",
       "      <td>Personal Auto</td>\n",
       "      <td>Personal L3</td>\n",
       "      <td>Offer4</td>\n",
       "      <td>Call Center</td>\n",
       "      <td>Four-Door Car</td>\n",
       "      <td>Medsize</td>\n",
       "      <td>Not A</td>\n",
       "    </tr>\n",
       "    <tr>\n",
       "      <th>2</th>\n",
       "      <td>LZ68649</td>\n",
       "      <td>Washington</td>\n",
       "      <td>No</td>\n",
       "      <td>Basic</td>\n",
       "      <td>Bachelor</td>\n",
       "      <td>Employed</td>\n",
       "      <td>M</td>\n",
       "      <td>Suburban</td>\n",
       "      <td>Single</td>\n",
       "      <td>Personal Auto</td>\n",
       "      <td>Personal L3</td>\n",
       "      <td>Offer3</td>\n",
       "      <td>Call Center</td>\n",
       "      <td>SUV</td>\n",
       "      <td>Medsize</td>\n",
       "      <td>A</td>\n",
       "    </tr>\n",
       "    <tr>\n",
       "      <th>3</th>\n",
       "      <td>XL78013</td>\n",
       "      <td>Oregon</td>\n",
       "      <td>Yes</td>\n",
       "      <td>Extended</td>\n",
       "      <td>College</td>\n",
       "      <td>Employed</td>\n",
       "      <td>M</td>\n",
       "      <td>Suburban</td>\n",
       "      <td>Single</td>\n",
       "      <td>Corporate Auto</td>\n",
       "      <td>Corporate L3</td>\n",
       "      <td>Offer2</td>\n",
       "      <td>Branch</td>\n",
       "      <td>Four-Door Car</td>\n",
       "      <td>Medsize</td>\n",
       "      <td>A</td>\n",
       "    </tr>\n",
       "    <tr>\n",
       "      <th>4</th>\n",
       "      <td>QA50777</td>\n",
       "      <td>Oregon</td>\n",
       "      <td>No</td>\n",
       "      <td>Premium</td>\n",
       "      <td>Bachelor</td>\n",
       "      <td>Medical Leave</td>\n",
       "      <td>F</td>\n",
       "      <td>Suburban</td>\n",
       "      <td>Married</td>\n",
       "      <td>Personal Auto</td>\n",
       "      <td>Personal L2</td>\n",
       "      <td>Offer1</td>\n",
       "      <td>Branch</td>\n",
       "      <td>Four-Door Car</td>\n",
       "      <td>Medsize</td>\n",
       "      <td>Not A</td>\n",
       "    </tr>\n",
       "  </tbody>\n",
       "</table>\n",
       "</div>"
      ],
      "text/plain": [
       "  customer       state response  coverage education employmentstatus gender  \\\n",
       "0  DK49336     Arizona       No     Basic   College         Employed      M   \n",
       "1  KX64629  California       No     Basic   College       Unemployed      F   \n",
       "2  LZ68649  Washington       No     Basic  Bachelor         Employed      M   \n",
       "3  XL78013      Oregon      Yes  Extended   College         Employed      M   \n",
       "4  QA50777      Oregon       No   Premium  Bachelor    Medical Leave      F   \n",
       "\n",
       "  location_code marital_status     policy_type        policy renew_offer_type  \\\n",
       "0      Suburban        Married  Corporate Auto  Corporate L3           Offer3   \n",
       "1      Suburban         Single   Personal Auto   Personal L3           Offer4   \n",
       "2      Suburban         Single   Personal Auto   Personal L3           Offer3   \n",
       "3      Suburban         Single  Corporate Auto  Corporate L3           Offer2   \n",
       "4      Suburban        Married   Personal Auto   Personal L2           Offer1   \n",
       "\n",
       "  sales_channel  vehicle_class vehicle_size vehicle_type  \n",
       "0         Agent  Four-Door Car      Medsize        Not A  \n",
       "1   Call Center  Four-Door Car      Medsize        Not A  \n",
       "2   Call Center            SUV      Medsize            A  \n",
       "3        Branch  Four-Door Car      Medsize            A  \n",
       "4        Branch  Four-Door Car      Medsize        Not A  "
      ]
     },
     "execution_count": 574,
     "metadata": {},
     "output_type": "execute_result"
    }
   ],
   "source": [
    "categorical = df.select_dtypes(object)\n",
    "categorical.head()"
   ]
  },
  {
   "cell_type": "markdown",
   "id": "2d3ece0b",
   "metadata": {},
   "source": [
    "### Numerical Features"
   ]
  },
  {
   "cell_type": "code",
   "execution_count": 575,
   "id": "3675b2de",
   "metadata": {},
   "outputs": [
    {
     "data": {
      "text/html": [
       "<div>\n",
       "<style scoped>\n",
       "    .dataframe tbody tr th:only-of-type {\n",
       "        vertical-align: middle;\n",
       "    }\n",
       "\n",
       "    .dataframe tbody tr th {\n",
       "        vertical-align: top;\n",
       "    }\n",
       "\n",
       "    .dataframe thead th {\n",
       "        text-align: right;\n",
       "    }\n",
       "</style>\n",
       "<table border=\"1\" class=\"dataframe\">\n",
       "  <thead>\n",
       "    <tr style=\"text-align: right;\">\n",
       "      <th></th>\n",
       "      <th>customer_lifetime_value</th>\n",
       "      <th>income</th>\n",
       "      <th>monthly_premium_auto</th>\n",
       "      <th>months_since_last_claim</th>\n",
       "      <th>months_since_policy_inception</th>\n",
       "      <th>number_of_open_complaints</th>\n",
       "      <th>number_of_policies</th>\n",
       "      <th>total_claim_amount</th>\n",
       "    </tr>\n",
       "  </thead>\n",
       "  <tbody>\n",
       "    <tr>\n",
       "      <th>0</th>\n",
       "      <td>4809.216960</td>\n",
       "      <td>48029</td>\n",
       "      <td>61</td>\n",
       "      <td>7.0</td>\n",
       "      <td>52</td>\n",
       "      <td>0.0</td>\n",
       "      <td>9</td>\n",
       "      <td>292.800000</td>\n",
       "    </tr>\n",
       "    <tr>\n",
       "      <th>1</th>\n",
       "      <td>2228.525238</td>\n",
       "      <td>0</td>\n",
       "      <td>64</td>\n",
       "      <td>3.0</td>\n",
       "      <td>26</td>\n",
       "      <td>0.0</td>\n",
       "      <td>1</td>\n",
       "      <td>744.924331</td>\n",
       "    </tr>\n",
       "    <tr>\n",
       "      <th>2</th>\n",
       "      <td>14947.917300</td>\n",
       "      <td>22139</td>\n",
       "      <td>100</td>\n",
       "      <td>34.0</td>\n",
       "      <td>31</td>\n",
       "      <td>0.0</td>\n",
       "      <td>2</td>\n",
       "      <td>480.000000</td>\n",
       "    </tr>\n",
       "    <tr>\n",
       "      <th>3</th>\n",
       "      <td>22332.439460</td>\n",
       "      <td>49078</td>\n",
       "      <td>97</td>\n",
       "      <td>10.0</td>\n",
       "      <td>3</td>\n",
       "      <td>0.0</td>\n",
       "      <td>2</td>\n",
       "      <td>484.013411</td>\n",
       "    </tr>\n",
       "    <tr>\n",
       "      <th>4</th>\n",
       "      <td>9025.067525</td>\n",
       "      <td>23675</td>\n",
       "      <td>117</td>\n",
       "      <td>3.0</td>\n",
       "      <td>31</td>\n",
       "      <td>0.0</td>\n",
       "      <td>7</td>\n",
       "      <td>707.925645</td>\n",
       "    </tr>\n",
       "  </tbody>\n",
       "</table>\n",
       "</div>"
      ],
      "text/plain": [
       "   customer_lifetime_value  income  monthly_premium_auto  \\\n",
       "0              4809.216960   48029                    61   \n",
       "1              2228.525238       0                    64   \n",
       "2             14947.917300   22139                   100   \n",
       "3             22332.439460   49078                    97   \n",
       "4              9025.067525   23675                   117   \n",
       "\n",
       "   months_since_last_claim  months_since_policy_inception  \\\n",
       "0                      7.0                             52   \n",
       "1                      3.0                             26   \n",
       "2                     34.0                             31   \n",
       "3                     10.0                              3   \n",
       "4                      3.0                             31   \n",
       "\n",
       "   number_of_open_complaints  number_of_policies  total_claim_amount  \n",
       "0                        0.0                   9          292.800000  \n",
       "1                        0.0                   1          744.924331  \n",
       "2                        0.0                   2          480.000000  \n",
       "3                        0.0                   2          484.013411  \n",
       "4                        0.0                   7          707.925645  "
      ]
     },
     "execution_count": 575,
     "metadata": {},
     "output_type": "execute_result"
    }
   ],
   "source": [
    "numerical = df.select_dtypes(np.number)\n",
    "numerical.head()"
   ]
  },
  {
   "cell_type": "markdown",
   "id": "3a3bec1b",
   "metadata": {},
   "source": [
    "### Exploration"
   ]
  },
  {
   "cell_type": "code",
   "execution_count": 576,
   "id": "ac3de5b9",
   "metadata": {},
   "outputs": [
    {
     "data": {
      "text/html": [
       "<div>\n",
       "<style scoped>\n",
       "    .dataframe tbody tr th:only-of-type {\n",
       "        vertical-align: middle;\n",
       "    }\n",
       "\n",
       "    .dataframe tbody tr th {\n",
       "        vertical-align: top;\n",
       "    }\n",
       "\n",
       "    .dataframe thead th {\n",
       "        text-align: right;\n",
       "    }\n",
       "</style>\n",
       "<table border=\"1\" class=\"dataframe\">\n",
       "  <thead>\n",
       "    <tr style=\"text-align: right;\">\n",
       "      <th></th>\n",
       "      <th>count</th>\n",
       "      <th>mean</th>\n",
       "      <th>std</th>\n",
       "      <th>min</th>\n",
       "      <th>25%</th>\n",
       "      <th>50%</th>\n",
       "      <th>75%</th>\n",
       "      <th>max</th>\n",
       "    </tr>\n",
       "  </thead>\n",
       "  <tbody>\n",
       "    <tr>\n",
       "      <th>customer_lifetime_value</th>\n",
       "      <td>10910.0</td>\n",
       "      <td>8018.241094</td>\n",
       "      <td>6885.081434</td>\n",
       "      <td>1898.007675</td>\n",
       "      <td>4014.453113</td>\n",
       "      <td>5771.147235</td>\n",
       "      <td>8992.779137</td>\n",
       "      <td>83325.381190</td>\n",
       "    </tr>\n",
       "    <tr>\n",
       "      <th>income</th>\n",
       "      <td>10910.0</td>\n",
       "      <td>37536.284785</td>\n",
       "      <td>30359.195670</td>\n",
       "      <td>0.000000</td>\n",
       "      <td>0.000000</td>\n",
       "      <td>33813.500000</td>\n",
       "      <td>62250.750000</td>\n",
       "      <td>99981.000000</td>\n",
       "    </tr>\n",
       "    <tr>\n",
       "      <th>monthly_premium_auto</th>\n",
       "      <td>10910.0</td>\n",
       "      <td>93.196059</td>\n",
       "      <td>34.442532</td>\n",
       "      <td>61.000000</td>\n",
       "      <td>68.000000</td>\n",
       "      <td>83.000000</td>\n",
       "      <td>109.000000</td>\n",
       "      <td>298.000000</td>\n",
       "    </tr>\n",
       "    <tr>\n",
       "      <th>months_since_last_claim</th>\n",
       "      <td>10910.0</td>\n",
       "      <td>14.444180</td>\n",
       "      <td>10.187488</td>\n",
       "      <td>0.000000</td>\n",
       "      <td>5.000000</td>\n",
       "      <td>13.000000</td>\n",
       "      <td>23.000000</td>\n",
       "      <td>35.000000</td>\n",
       "    </tr>\n",
       "    <tr>\n",
       "      <th>months_since_policy_inception</th>\n",
       "      <td>10910.0</td>\n",
       "      <td>48.091934</td>\n",
       "      <td>27.940675</td>\n",
       "      <td>0.000000</td>\n",
       "      <td>24.000000</td>\n",
       "      <td>48.000000</td>\n",
       "      <td>71.000000</td>\n",
       "      <td>99.000000</td>\n",
       "    </tr>\n",
       "    <tr>\n",
       "      <th>number_of_open_complaints</th>\n",
       "      <td>10910.0</td>\n",
       "      <td>0.361962</td>\n",
       "      <td>0.890134</td>\n",
       "      <td>0.000000</td>\n",
       "      <td>0.000000</td>\n",
       "      <td>0.000000</td>\n",
       "      <td>0.000000</td>\n",
       "      <td>5.000000</td>\n",
       "    </tr>\n",
       "    <tr>\n",
       "      <th>number_of_policies</th>\n",
       "      <td>10910.0</td>\n",
       "      <td>2.979193</td>\n",
       "      <td>2.399359</td>\n",
       "      <td>1.000000</td>\n",
       "      <td>1.000000</td>\n",
       "      <td>2.000000</td>\n",
       "      <td>4.000000</td>\n",
       "      <td>9.000000</td>\n",
       "    </tr>\n",
       "    <tr>\n",
       "      <th>total_claim_amount</th>\n",
       "      <td>10910.0</td>\n",
       "      <td>434.888330</td>\n",
       "      <td>292.180556</td>\n",
       "      <td>0.099007</td>\n",
       "      <td>271.082527</td>\n",
       "      <td>382.564630</td>\n",
       "      <td>547.200000</td>\n",
       "      <td>2893.239678</td>\n",
       "    </tr>\n",
       "  </tbody>\n",
       "</table>\n",
       "</div>"
      ],
      "text/plain": [
       "                                 count          mean           std  \\\n",
       "customer_lifetime_value        10910.0   8018.241094   6885.081434   \n",
       "income                         10910.0  37536.284785  30359.195670   \n",
       "monthly_premium_auto           10910.0     93.196059     34.442532   \n",
       "months_since_last_claim        10910.0     14.444180     10.187488   \n",
       "months_since_policy_inception  10910.0     48.091934     27.940675   \n",
       "number_of_open_complaints      10910.0      0.361962      0.890134   \n",
       "number_of_policies             10910.0      2.979193      2.399359   \n",
       "total_claim_amount             10910.0    434.888330    292.180556   \n",
       "\n",
       "                                       min          25%           50%  \\\n",
       "customer_lifetime_value        1898.007675  4014.453113   5771.147235   \n",
       "income                            0.000000     0.000000  33813.500000   \n",
       "monthly_premium_auto             61.000000    68.000000     83.000000   \n",
       "months_since_last_claim           0.000000     5.000000     13.000000   \n",
       "months_since_policy_inception     0.000000    24.000000     48.000000   \n",
       "number_of_open_complaints         0.000000     0.000000      0.000000   \n",
       "number_of_policies                1.000000     1.000000      2.000000   \n",
       "total_claim_amount                0.099007   271.082527    382.564630   \n",
       "\n",
       "                                        75%           max  \n",
       "customer_lifetime_value         8992.779137  83325.381190  \n",
       "income                         62250.750000  99981.000000  \n",
       "monthly_premium_auto             109.000000    298.000000  \n",
       "months_since_last_claim           23.000000     35.000000  \n",
       "months_since_policy_inception     71.000000     99.000000  \n",
       "number_of_open_complaints          0.000000      5.000000  \n",
       "number_of_policies                 4.000000      9.000000  \n",
       "total_claim_amount               547.200000   2893.239678  "
      ]
     },
     "execution_count": 576,
     "metadata": {},
     "output_type": "execute_result"
    }
   ],
   "source": [
    "df.describe().T"
   ]
  },
  {
   "cell_type": "markdown",
   "id": "7ae338c8",
   "metadata": {},
   "source": [
    "#### Distribution"
   ]
  },
  {
   "cell_type": "code",
   "execution_count": 577,
   "id": "bcca5824",
   "metadata": {},
   "outputs": [
    {
     "data": {
      "image/png": "[encoded data removed]",
      "text/plain": [
       "<Figure size 360x360 with 1 Axes>"
      ]
     },
     "metadata": {
      "needs_background": "light"
     },
     "output_type": "display_data"
    },
    {
     "data": {
      "image/png": "[encoded data removed]",
      "text/plain": [
       "<Figure size 360x360 with 1 Axes>"
      ]
     },
     "metadata": {
      "needs_background": "light"
     },
     "output_type": "display_data"
    },
    {
     "data": {
      "image/png": "[encoded data removed]",
      "text/plain": [
       "<Figure size 360x360 with 1 Axes>"
      ]
     },
     "metadata": {
      "needs_background": "light"
     },
     "output_type": "display_data"
    },
    {
     "data": {
      "image/png": "[encoded data removed]",
      "text/plain": [
       "<Figure size 360x360 with 1 Axes>"
      ]
     },
     "metadata": {
      "needs_background": "light"
     },
     "output_type": "display_data"
    },
    {
     "data": {
      "image/png": "[encoded data removed]",
      "text/plain": [
       "<Figure size 360x360 with 1 Axes>"
      ]
     },
     "metadata": {
      "needs_background": "light"
     },
     "output_type": "display_data"
    },
    {
     "data": {
      "image/png": "[encoded data removed]",
      "text/plain": [
       "<Figure size 360x360 with 1 Axes>"
      ]
     },
     "metadata": {
      "needs_background": "light"
     },
     "output_type": "display_data"
    },
    {
     "data": {
      "image/png": "[encoded data removed]",
      "text/plain": [
       "<Figure size 360x360 with 1 Axes>"
      ]
     },
     "metadata": {
      "needs_background": "light"
     },
     "output_type": "display_data"
    },
    {
     "data": {
      "image/png": "[encoded data removed]",
      "text/plain": [
       "<Figure size 360x360 with 1 Axes>"
      ]
     },
     "metadata": {
      "needs_background": "light"
     },
     "output_type": "display_data"
    }
   ],
   "source": [
    "for col in numerical.columns:\n",
    "    sns.displot(numerical[col],kde = True)\n",
    "    plt.show()"
   ]
  },
  {
   "cell_type": "markdown",
   "id": "667236e3",
   "metadata": {},
   "source": [
    "#### Boxplot"
   ]
  },
  {
   "cell_type": "code",
   "execution_count": 578,
   "id": "e9d00a4c",
   "metadata": {},
   "outputs": [
    {
     "data": {
      "image/png": "[encoded data removed]",
      "text/plain": [
       "<Figure size 432x288 with 1 Axes>"
      ]
     },
     "metadata": {
      "needs_background": "light"
     },
     "output_type": "display_data"
    },
    {
     "data": {
      "image/png": "[encoded data removed]",
      "text/plain": [
       "<Figure size 432x288 with 1 Axes>"
      ]
     },
     "metadata": {
      "needs_background": "light"
     },
     "output_type": "display_data"
    },
    {
     "data": {
      "image/png": "[encoded data removed]",
      "text/plain": [
       "<Figure size 432x288 with 1 Axes>"
      ]
     },
     "metadata": {
      "needs_background": "light"
     },
     "output_type": "display_data"
    },
    {
     "data": {
      "image/png": "[encoded data removed]",
      "text/plain": [
       "<Figure size 432x288 with 1 Axes>"
      ]
     },
     "metadata": {
      "needs_background": "light"
     },
     "output_type": "display_data"
    },
    {
     "data": {
      "image/png": "[encoded data removed]",
      "text/plain": [
       "<Figure size 432x288 with 1 Axes>"
      ]
     },
     "metadata": {
      "needs_background": "light"
     },
     "output_type": "display_data"
    },
    {
     "data": {
      "image/png": "[encoded data removed]",
      "text/plain": [
       "<Figure size 432x288 with 1 Axes>"
      ]
     },
     "metadata": {
      "needs_background": "light"
     },
     "output_type": "display_data"
    },
    {
     "data": {
      "image/png": "[encoded data removed]",
      "text/plain": [
       "<Figure size 432x288 with 1 Axes>"
      ]
     },
     "metadata": {
      "needs_background": "light"
     },
     "output_type": "display_data"
    },
    {
     "data": {
      "image/png": "[encoded data removed]",
      "text/plain": [
       "<Figure size 432x288 with 1 Axes>"
      ]
     },
     "metadata": {
      "needs_background": "light"
     },
     "output_type": "display_data"
    }
   ],
   "source": [
    "for col in numerical.columns:\n",
    "    sns.boxplot(y = numerical[col])\n",
    "    plt.show()"
   ]
  },
  {
   "cell_type": "markdown",
   "id": "b1bdbc51",
   "metadata": {},
   "source": [
    "#### Correlation"
   ]
  },
  {
   "cell_type": "code",
   "execution_count": 579,
   "id": "1f555bdb",
   "metadata": {},
   "outputs": [
    {
     "data": {
      "image/png": "[encoded data removed]",
      "text/plain": [
       "<Figure size 720x720 with 2 Axes>"
      ]
     },
     "metadata": {
      "needs_background": "light"
     },
     "output_type": "display_data"
    }
   ],
   "source": [
    "fig, ax = plt.subplots(figsize=(10,10))\n",
    "correlations = numerical.corr()\n",
    "sns.heatmap(correlations, annot=True)\n",
    "plt.show()"
   ]
  },
  {
   "cell_type": "markdown",
   "id": "03b357eb",
   "metadata": {},
   "source": [
    "## Processing Data"
   ]
  },
  {
   "cell_type": "markdown",
   "id": "54157ede",
   "metadata": {},
   "source": [
    "#### Dealing with outliers"
   ]
  },
  {
   "cell_type": "markdown",
   "id": "d7577fb0",
   "metadata": {},
   "source": [
    "#### customer_lifetime_value"
   ]
  },
  {
   "cell_type": "code",
   "execution_count": 580,
   "id": "fbf25f27",
   "metadata": {},
   "outputs": [
    {
     "name": "stdout",
     "output_type": "stream",
     "text": [
      "count    10910.000000\n",
      "mean      8018.241094\n",
      "std       6885.081434\n",
      "min       1898.007675\n",
      "25%       4014.453113\n",
      "50%       5771.147235\n",
      "75%       8992.779137\n",
      "max      83325.381190\n",
      "Name: customer_lifetime_value, dtype: float64\n"
     ]
    },
    {
     "data": {
      "image/png": "[encoded data removed]",
      "text/plain": [
       "<Figure size 432x288 with 1 Axes>"
      ]
     },
     "metadata": {
      "needs_background": "light"
     },
     "output_type": "display_data"
    },
    {
     "data": {
      "image/png": "[encoded data removed]",
      "text/plain": [
       "<Figure size 360x360 with 1 Axes>"
      ]
     },
     "metadata": {
      "needs_background": "light"
     },
     "output_type": "display_data"
    }
   ],
   "source": [
    "sns.boxplot(y = numerical['customer_lifetime_value'])\n",
    "sns.displot(numerical['customer_lifetime_value'], kde = True)\n",
    "print(numerical['customer_lifetime_value'].describe())"
   ]
  },
  {
   "cell_type": "code",
   "execution_count": 581,
   "id": "bdabc02e",
   "metadata": {},
   "outputs": [
    {
     "name": "stdout",
     "output_type": "stream",
     "text": [
      "16460.268173\n",
      "-3453.035923\n"
     ]
    }
   ],
   "source": [
    "iqr = numerical['customer_lifetime_value'].quantile(0.75) - numerical['customer_lifetime_value'].quantile(0.25)\n",
    "upper_limit = numerical['customer_lifetime_value'].quantile(0.75) + 1.5 * iqr\n",
    "lower_limit = numerical['customer_lifetime_value'].quantile(0.25) - 1.5 * iqr\n",
    "print(upper_limit)\n",
    "print(lower_limit)\n",
    "numerical['customer_lifetime_value'] = numerical['customer_lifetime_value'].clip(lower=0, upper=upper_limit)\n",
    "\n",
    "# numerical = numerical[(numerical['customer_lifetime_value'] > 0) & (numerical['customer_lifetime_value'] < upper_limit)].copy()\n",
    "# numerical.shape\n",
    "# numerical.isna().sum()"
   ]
  },
  {
   "cell_type": "code",
   "execution_count": 582,
   "id": "1cab4519",
   "metadata": {},
   "outputs": [
    {
     "data": {
      "text/plain": [
       "<seaborn.axisgrid.FacetGrid at 0x7f83ce2b7670>"
      ]
     },
     "execution_count": 582,
     "metadata": {},
     "output_type": "execute_result"
    },
    {
     "data": {
      "image/png": "[encoded data removed]",
      "text/plain": [
       "<Figure size 432x288 with 1 Axes>"
      ]
     },
     "metadata": {
      "needs_background": "light"
     },
     "output_type": "display_data"
    },
    {
     "data": {
      "image/png": "[encoded data removed]",
      "text/plain": [
       "<Figure size 360x360 with 1 Axes>"
      ]
     },
     "metadata": {
      "needs_background": "light"
     },
     "output_type": "display_data"
    }
   ],
   "source": [
    "sns.boxplot(y = numerical['customer_lifetime_value'])\n",
    "numerical['customer_lifetime_value'].describe()\n",
    "sns.displot(numerical['customer_lifetime_value'], kde = True)"
   ]
  },
  {
   "cell_type": "markdown",
   "id": "88c61eda",
   "metadata": {},
   "source": [
    "#### Another method proposed by Jan, which is for removing outliers\n"
   ]
  },
  {
   "cell_type": "code",
   "execution_count": 583,
   "id": "c95a5274",
   "metadata": {},
   "outputs": [
    {
     "data": {
      "text/plain": [
       "(9926, 8)"
      ]
     },
     "execution_count": 583,
     "metadata": {},
     "output_type": "execute_result"
    }
   ],
   "source": [
    "numerical_copy = pd.DataFrame()\n",
    "numerical_copy = numerical[(numerical['customer_lifetime_value'] > 0) & (numerical['customer_lifetime_value'] < upper_limit)].copy() \n",
    "numerical_copy.shape"
   ]
  },
  {
   "cell_type": "markdown",
   "id": "e98e13ea",
   "metadata": {},
   "source": [
    "**Decision** - In the above method of removing outliers, we are losing more rows, as this needs to be repeated for several other features. Hence I am not using the above method"
   ]
  },
  {
   "cell_type": "markdown",
   "id": "c909efc9",
   "metadata": {},
   "source": [
    "#### income"
   ]
  },
  {
   "cell_type": "code",
   "execution_count": 584,
   "id": "e35dd8c7",
   "metadata": {},
   "outputs": [
    {
     "name": "stdout",
     "output_type": "stream",
     "text": [
      "count    10910.000000\n",
      "mean     37536.284785\n",
      "std      30359.195670\n",
      "min          0.000000\n",
      "25%          0.000000\n",
      "50%      33813.500000\n",
      "75%      62250.750000\n",
      "max      99981.000000\n",
      "Name: income, dtype: float64\n"
     ]
    },
    {
     "data": {
      "image/png": "[encoded data removed]",
      "text/plain": [
       "<Figure size 432x288 with 1 Axes>"
      ]
     },
     "metadata": {
      "needs_background": "light"
     },
     "output_type": "display_data"
    },
    {
     "data": {
      "image/png": "[encoded data removed]",
      "text/plain": [
       "<Figure size 360x360 with 1 Axes>"
      ]
     },
     "metadata": {
      "needs_background": "light"
     },
     "output_type": "display_data"
    }
   ],
   "source": [
    "sns.boxplot(y = numerical['income'])\n",
    "sns.displot(numerical['income'], kde = True)\n",
    "print(numerical['income'].describe())"
   ]
  },
  {
   "cell_type": "markdown",
   "id": "42ef5fae",
   "metadata": {},
   "source": [
    "**Decision** - As we can see, there are no outliers in the `income` column, so leaving it as is"
   ]
  },
  {
   "cell_type": "markdown",
   "id": "2a47bc1c",
   "metadata": {},
   "source": [
    "#### monthly_premium_auto"
   ]
  },
  {
   "cell_type": "code",
   "execution_count": 585,
   "id": "2f089ef8",
   "metadata": {},
   "outputs": [
    {
     "name": "stdout",
     "output_type": "stream",
     "text": [
      "count    10910.000000\n",
      "mean        93.196059\n",
      "std         34.442532\n",
      "min         61.000000\n",
      "25%         68.000000\n",
      "50%         83.000000\n",
      "75%        109.000000\n",
      "max        298.000000\n",
      "Name: monthly_premium_auto, dtype: float64\n"
     ]
    },
    {
     "data": {
      "image/png": "[encoded data removed]",
      "text/plain": [
       "<Figure size 432x288 with 1 Axes>"
      ]
     },
     "metadata": {
      "needs_background": "light"
     },
     "output_type": "display_data"
    },
    {
     "data": {
      "image/png": "[encoded data removed]",
      "text/plain": [
       "<Figure size 360x360 with 1 Axes>"
      ]
     },
     "metadata": {
      "needs_background": "light"
     },
     "output_type": "display_data"
    }
   ],
   "source": [
    "sns.boxplot(y = numerical['monthly_premium_auto'])\n",
    "sns.displot(numerical['monthly_premium_auto'], kde = True)\n",
    "print(numerical['monthly_premium_auto'].describe())"
   ]
  },
  {
   "cell_type": "code",
   "execution_count": 586,
   "id": "c7563c38",
   "metadata": {},
   "outputs": [
    {
     "name": "stdout",
     "output_type": "stream",
     "text": [
      "170.5\n",
      "6.5\n"
     ]
    }
   ],
   "source": [
    "iqr = numerical['monthly_premium_auto'].quantile(0.75) - numerical['monthly_premium_auto'].quantile(0.25)\n",
    "upper_limit = numerical['monthly_premium_auto'].quantile(0.75) + 1.5 * iqr\n",
    "lower_limit = numerical['monthly_premium_auto'].quantile(0.25) - 1.5 * iqr\n",
    "print(upper_limit)\n",
    "print(lower_limit)\n",
    "numerical['monthly_premium_auto'] = numerical['monthly_premium_auto'].clip(lower=0, upper=upper_limit)"
   ]
  },
  {
   "cell_type": "code",
   "execution_count": 587,
   "id": "4a8ce021",
   "metadata": {},
   "outputs": [
    {
     "name": "stdout",
     "output_type": "stream",
     "text": [
      "count    10910.000000\n",
      "mean        91.471448\n",
      "std         28.468950\n",
      "min         61.000000\n",
      "25%         68.000000\n",
      "50%         83.000000\n",
      "75%        109.000000\n",
      "max        170.500000\n",
      "Name: monthly_premium_auto, dtype: float64\n"
     ]
    },
    {
     "data": {
      "image/png": "[encoded data removed]",
      "text/plain": [
       "<Figure size 432x288 with 1 Axes>"
      ]
     },
     "metadata": {
      "needs_background": "light"
     },
     "output_type": "display_data"
    },
    {
     "data": {
      "image/png": "[encoded data removed]",
      "text/plain": [
       "<Figure size 360x360 with 1 Axes>"
      ]
     },
     "metadata": {
      "needs_background": "light"
     },
     "output_type": "display_data"
    }
   ],
   "source": [
    "sns.boxplot(y = numerical['monthly_premium_auto'])\n",
    "sns.displot(numerical['monthly_premium_auto'], kde = True)\n",
    "print(numerical['monthly_premium_auto'].describe())"
   ]
  },
  {
   "cell_type": "markdown",
   "id": "e86b9359",
   "metadata": {},
   "source": [
    "#### months_since_last_claim"
   ]
  },
  {
   "cell_type": "code",
   "execution_count": 588,
   "id": "1afd26b4",
   "metadata": {},
   "outputs": [
    {
     "name": "stdout",
     "output_type": "stream",
     "text": [
      "count    10910.000000\n",
      "mean        14.444180\n",
      "std         10.187488\n",
      "min          0.000000\n",
      "25%          5.000000\n",
      "50%         13.000000\n",
      "75%         23.000000\n",
      "max         35.000000\n",
      "Name: months_since_last_claim, dtype: float64\n"
     ]
    },
    {
     "data": {
      "image/png": "[encoded data removed]",
      "text/plain": [
       "<Figure size 432x288 with 1 Axes>"
      ]
     },
     "metadata": {
      "needs_background": "light"
     },
     "output_type": "display_data"
    },
    {
     "data": {
      "image/png": "[encoded data removed]",
      "text/plain": [
       "<Figure size 360x360 with 1 Axes>"
      ]
     },
     "metadata": {
      "needs_background": "light"
     },
     "output_type": "display_data"
    }
   ],
   "source": [
    "sns.boxplot(y = numerical['months_since_last_claim'])\n",
    "sns.displot(numerical['months_since_last_claim'], kde = True)\n",
    "print(numerical['months_since_last_claim'].describe())"
   ]
  },
  {
   "cell_type": "markdown",
   "id": "3da3fcce",
   "metadata": {},
   "source": [
    "**Decision** - As we can see, there are no outliers in the `months_since_last_claim` column, so leaving it as is"
   ]
  },
  {
   "cell_type": "markdown",
   "id": "813698de",
   "metadata": {},
   "source": [
    "#### months_since_policy_inception"
   ]
  },
  {
   "cell_type": "code",
   "execution_count": 589,
   "id": "b1dd2b19",
   "metadata": {},
   "outputs": [
    {
     "name": "stdout",
     "output_type": "stream",
     "text": [
      "count    10910.000000\n",
      "mean        91.471448\n",
      "std         28.468950\n",
      "min         61.000000\n",
      "25%         68.000000\n",
      "50%         83.000000\n",
      "75%        109.000000\n",
      "max        170.500000\n",
      "Name: monthly_premium_auto, dtype: float64\n"
     ]
    },
    {
     "data": {
      "image/png": "[encoded data removed]",
      "text/plain": [
       "<Figure size 432x288 with 1 Axes>"
      ]
     },
     "metadata": {
      "needs_background": "light"
     },
     "output_type": "display_data"
    },
    {
     "data": {
      "image/png": "[encoded data removed]",
      "text/plain": [
       "<Figure size 360x360 with 1 Axes>"
      ]
     },
     "metadata": {
      "needs_background": "light"
     },
     "output_type": "display_data"
    }
   ],
   "source": [
    "sns.boxplot(y = numerical['months_since_policy_inception'])\n",
    "sns.displot(numerical['monthly_premium_auto'], kde = True)\n",
    "print(numerical['monthly_premium_auto'].describe())"
   ]
  },
  {
   "cell_type": "markdown",
   "id": "f9f526a7",
   "metadata": {},
   "source": [
    "**Decision** - As we can see, there are no outliers in the `months_since_policy_inception` column, so leaving it as is"
   ]
  },
  {
   "cell_type": "markdown",
   "id": "2c25f14f",
   "metadata": {},
   "source": [
    "#### number_of_open_complaints"
   ]
  },
  {
   "cell_type": "code",
   "execution_count": 590,
   "id": "a679a27e",
   "metadata": {
    "scrolled": true
   },
   "outputs": [
    {
     "name": "stdout",
     "output_type": "stream",
     "text": [
      "count    10910.000000\n",
      "mean         0.361962\n",
      "std          0.890134\n",
      "min          0.000000\n",
      "25%          0.000000\n",
      "50%          0.000000\n",
      "75%          0.000000\n",
      "max          5.000000\n",
      "Name: number_of_open_complaints, dtype: float64\n"
     ]
    },
    {
     "data": {
      "image/png": "[encoded data removed]",
      "text/plain": [
       "<Figure size 432x288 with 1 Axes>"
      ]
     },
     "metadata": {
      "needs_background": "light"
     },
     "output_type": "display_data"
    },
    {
     "data": {
      "image/png": "[encoded data removed]",
      "text/plain": [
       "<Figure size 360x360 with 1 Axes>"
      ]
     },
     "metadata": {
      "needs_background": "light"
     },
     "output_type": "display_data"
    }
   ],
   "source": [
    "sns.boxplot(y = numerical['number_of_open_complaints'])\n",
    "sns.displot(numerical['number_of_open_complaints'], kde = True)\n",
    "print(numerical['number_of_open_complaints'].describe())"
   ]
  },
  {
   "cell_type": "markdown",
   "id": "feb8bd45",
   "metadata": {},
   "source": [
    "**Decision** - As we can see, there are some outliers in the `number_of_open_complaints` column, however as the number of occurances of the outliers are less, I am leaving them as is"
   ]
  },
  {
   "cell_type": "markdown",
   "id": "f9cafec3",
   "metadata": {},
   "source": [
    "#### number_of_policies"
   ]
  },
  {
   "cell_type": "code",
   "execution_count": 591,
   "id": "4e1ce9ff",
   "metadata": {},
   "outputs": [
    {
     "name": "stdout",
     "output_type": "stream",
     "text": [
      "count    10910.000000\n",
      "mean         2.979193\n",
      "std          2.399359\n",
      "min          1.000000\n",
      "25%          1.000000\n",
      "50%          2.000000\n",
      "75%          4.000000\n",
      "max          9.000000\n",
      "Name: number_of_policies, dtype: float64\n"
     ]
    },
    {
     "data": {
      "image/png": "[encoded data removed]",
      "text/plain": [
       "<Figure size 432x288 with 1 Axes>"
      ]
     },
     "metadata": {
      "needs_background": "light"
     },
     "output_type": "display_data"
    },
    {
     "data": {
      "image/png": "[encoded data removed]",
      "text/plain": [
       "<Figure size 360x360 with 1 Axes>"
      ]
     },
     "metadata": {
      "needs_background": "light"
     },
     "output_type": "display_data"
    }
   ],
   "source": [
    "sns.boxplot(y = numerical['number_of_policies'])\n",
    "sns.displot(numerical['number_of_policies'], kde = True)\n",
    "print(numerical['number_of_policies'].describe())"
   ]
  },
  {
   "cell_type": "code",
   "execution_count": 592,
   "id": "b525af82",
   "metadata": {},
   "outputs": [
    {
     "name": "stdout",
     "output_type": "stream",
     "text": [
      "8.5\n",
      "-3.5\n"
     ]
    }
   ],
   "source": [
    "iqr = numerical['number_of_policies'].quantile(0.75) - numerical['number_of_policies'].quantile(0.25)\n",
    "upper_limit = numerical['number_of_policies'].quantile(0.75) + 1.5 * iqr\n",
    "lower_limit = numerical['number_of_policies'].quantile(0.25) - 1.5 * iqr\n",
    "print(upper_limit)\n",
    "print(lower_limit)\n",
    "numerical['number_of_policies'] = numerical['number_of_policies'].clip(lower=0, upper=upper_limit)"
   ]
  },
  {
   "cell_type": "code",
   "execution_count": 593,
   "id": "c5db6fac",
   "metadata": {},
   "outputs": [
    {
     "name": "stdout",
     "output_type": "stream",
     "text": [
      "count    10910.000000\n",
      "mean         2.956049\n",
      "std          2.342914\n",
      "min          1.000000\n",
      "25%          1.000000\n",
      "50%          2.000000\n",
      "75%          4.000000\n",
      "max          8.500000\n",
      "Name: number_of_policies, dtype: float64\n"
     ]
    },
    {
     "data": {
      "image/png": "[encoded data removed]",
      "text/plain": [
       "<Figure size 432x288 with 1 Axes>"
      ]
     },
     "metadata": {
      "needs_background": "light"
     },
     "output_type": "display_data"
    },
    {
     "data": {
      "image/png": "[encoded data removed]",
      "text/plain": [
       "<Figure size 360x360 with 1 Axes>"
      ]
     },
     "metadata": {
      "needs_background": "light"
     },
     "output_type": "display_data"
    }
   ],
   "source": [
    "sns.boxplot(y = numerical['number_of_policies'])\n",
    "sns.displot(numerical['number_of_policies'], kde = True)\n",
    "print(numerical['number_of_policies'].describe())"
   ]
  },
  {
   "cell_type": "markdown",
   "id": "e7c5da78",
   "metadata": {},
   "source": [
    "#### total_claim_amount"
   ]
  },
  {
   "cell_type": "code",
   "execution_count": 594,
   "id": "c0640daf",
   "metadata": {},
   "outputs": [
    {
     "name": "stdout",
     "output_type": "stream",
     "text": [
      "count    10910.000000\n",
      "mean       434.888330\n",
      "std        292.180556\n",
      "min          0.099007\n",
      "25%        271.082527\n",
      "50%        382.564630\n",
      "75%        547.200000\n",
      "max       2893.239678\n",
      "Name: total_claim_amount, dtype: float64\n"
     ]
    },
    {
     "data": {
      "image/png": "[encoded data removed]",
      "text/plain": [
       "<Figure size 432x288 with 1 Axes>"
      ]
     },
     "metadata": {
      "needs_background": "light"
     },
     "output_type": "display_data"
    },
    {
     "data": {
      "image/png": "[encoded data removed]",
      "text/plain": [
       "<Figure size 360x360 with 1 Axes>"
      ]
     },
     "metadata": {
      "needs_background": "light"
     },
     "output_type": "display_data"
    }
   ],
   "source": [
    "sns.boxplot(y = numerical['total_claim_amount'])\n",
    "sns.displot(numerical['total_claim_amount'], kde = True)\n",
    "print(numerical['total_claim_amount'].describe())"
   ]
  },
  {
   "cell_type": "code",
   "execution_count": 595,
   "id": "b48342e7",
   "metadata": {},
   "outputs": [
    {
     "name": "stdout",
     "output_type": "stream",
     "text": [
      "961.3762098750001\n",
      "-143.09368312500004\n"
     ]
    }
   ],
   "source": [
    "iqr = numerical['total_claim_amount'].quantile(0.75) - numerical['total_claim_amount'].quantile(0.25)\n",
    "upper_limit = numerical['total_claim_amount'].quantile(0.75) + 1.5 * iqr\n",
    "lower_limit = numerical['total_claim_amount'].quantile(0.25) - 1.5 * iqr\n",
    "print(upper_limit)\n",
    "print(lower_limit)\n",
    "numerical['total_claim_amount'] = numerical['total_claim_amount'].clip(lower=0, upper=upper_limit)"
   ]
  },
  {
   "cell_type": "code",
   "execution_count": 596,
   "id": "834c897e",
   "metadata": {
    "scrolled": true
   },
   "outputs": [
    {
     "name": "stdout",
     "output_type": "stream",
     "text": [
      "count    10910.000000\n",
      "mean       418.659192\n",
      "std        240.620103\n",
      "min          0.099007\n",
      "25%        271.082527\n",
      "50%        382.564630\n",
      "75%        547.200000\n",
      "max        961.376210\n",
      "Name: total_claim_amount, dtype: float64\n"
     ]
    },
    {
     "data": {
      "image/png": "[encoded data removed]",
      "text/plain": [
       "<Figure size 432x288 with 1 Axes>"
      ]
     },
     "metadata": {
      "needs_background": "light"
     },
     "output_type": "display_data"
    },
    {
     "data": {
      "image/png": "[encoded data removed]",
      "text/plain": [
       "<Figure size 360x360 with 1 Axes>"
      ]
     },
     "metadata": {
      "needs_background": "light"
     },
     "output_type": "display_data"
    }
   ],
   "source": [
    "sns.boxplot(y = numerical['total_claim_amount'])\n",
    "sns.displot(numerical['total_claim_amount'], kde = True)\n",
    "print(numerical['total_claim_amount'].describe())"
   ]
  },
  {
   "cell_type": "markdown",
   "id": "a6a83166",
   "metadata": {},
   "source": [
    "### Removing insignificant columns"
   ]
  },
  {
   "cell_type": "code",
   "execution_count": 597,
   "id": "54bae850",
   "metadata": {},
   "outputs": [],
   "source": [
    "categorical = categorical.drop(['customer', 'policy_type'], axis=1)\n",
    "numerical = numerical.drop(['number_of_open_complaints'], axis = 1)"
   ]
  },
  {
   "cell_type": "markdown",
   "id": "3fd31662",
   "metadata": {},
   "source": [
    "### Normalization"
   ]
  },
  {
   "cell_type": "code",
   "execution_count": 598,
   "id": "291682e2",
   "metadata": {},
   "outputs": [
    {
     "name": "stdout",
     "output_type": "stream",
     "text": [
      "(10910, 7)\n"
     ]
    },
    {
     "data": {
      "text/html": [
       "<div>\n",
       "<style scoped>\n",
       "    .dataframe tbody tr th:only-of-type {\n",
       "        vertical-align: middle;\n",
       "    }\n",
       "\n",
       "    .dataframe tbody tr th {\n",
       "        vertical-align: top;\n",
       "    }\n",
       "\n",
       "    .dataframe thead th {\n",
       "        text-align: right;\n",
       "    }\n",
       "</style>\n",
       "<table border=\"1\" class=\"dataframe\">\n",
       "  <thead>\n",
       "    <tr style=\"text-align: right;\">\n",
       "      <th></th>\n",
       "      <th>customer_lifetime_value</th>\n",
       "      <th>income</th>\n",
       "      <th>monthly_premium_auto</th>\n",
       "      <th>months_since_last_claim</th>\n",
       "      <th>months_since_policy_inception</th>\n",
       "      <th>number_of_policies</th>\n",
       "      <th>total_claim_amount</th>\n",
       "    </tr>\n",
       "  </thead>\n",
       "  <tbody>\n",
       "    <tr>\n",
       "      <th>0</th>\n",
       "      <td>0.199915</td>\n",
       "      <td>0.480381</td>\n",
       "      <td>0.000000</td>\n",
       "      <td>0.200000</td>\n",
       "      <td>0.525253</td>\n",
       "      <td>1.000000</td>\n",
       "      <td>0.304492</td>\n",
       "    </tr>\n",
       "    <tr>\n",
       "      <th>1</th>\n",
       "      <td>0.022697</td>\n",
       "      <td>0.000000</td>\n",
       "      <td>0.027397</td>\n",
       "      <td>0.085714</td>\n",
       "      <td>0.262626</td>\n",
       "      <td>0.000000</td>\n",
       "      <td>0.774829</td>\n",
       "    </tr>\n",
       "    <tr>\n",
       "      <th>2</th>\n",
       "      <td>0.896146</td>\n",
       "      <td>0.221432</td>\n",
       "      <td>0.356164</td>\n",
       "      <td>0.971429</td>\n",
       "      <td>0.313131</td>\n",
       "      <td>0.133333</td>\n",
       "      <td>0.499233</td>\n",
       "    </tr>\n",
       "    <tr>\n",
       "      <th>3</th>\n",
       "      <td>1.000000</td>\n",
       "      <td>0.490873</td>\n",
       "      <td>0.328767</td>\n",
       "      <td>0.285714</td>\n",
       "      <td>0.030303</td>\n",
       "      <td>0.133333</td>\n",
       "      <td>0.503408</td>\n",
       "    </tr>\n",
       "    <tr>\n",
       "      <th>4</th>\n",
       "      <td>0.489420</td>\n",
       "      <td>0.236795</td>\n",
       "      <td>0.511416</td>\n",
       "      <td>0.085714</td>\n",
       "      <td>0.313131</td>\n",
       "      <td>0.800000</td>\n",
       "      <td>0.736340</td>\n",
       "    </tr>\n",
       "    <tr>\n",
       "      <th>...</th>\n",
       "      <td>...</td>\n",
       "      <td>...</td>\n",
       "      <td>...</td>\n",
       "      <td>...</td>\n",
       "      <td>...</td>\n",
       "      <td>...</td>\n",
       "      <td>...</td>\n",
       "    </tr>\n",
       "    <tr>\n",
       "      <th>10905</th>\n",
       "      <td>0.938409</td>\n",
       "      <td>0.000000</td>\n",
       "      <td>1.000000</td>\n",
       "      <td>0.085714</td>\n",
       "      <td>0.404040</td>\n",
       "      <td>0.800000</td>\n",
       "      <td>1.000000</td>\n",
       "    </tr>\n",
       "    <tr>\n",
       "      <th>10906</th>\n",
       "      <td>0.230832</td>\n",
       "      <td>0.611576</td>\n",
       "      <td>0.036530</td>\n",
       "      <td>0.200000</td>\n",
       "      <td>0.686869</td>\n",
       "      <td>0.666667</td>\n",
       "      <td>0.283914</td>\n",
       "    </tr>\n",
       "    <tr>\n",
       "      <th>10907</th>\n",
       "      <td>1.000000</td>\n",
       "      <td>0.398446</td>\n",
       "      <td>1.000000</td>\n",
       "      <td>0.314286</td>\n",
       "      <td>0.636364</td>\n",
       "      <td>0.133333</td>\n",
       "      <td>0.396564</td>\n",
       "    </tr>\n",
       "    <tr>\n",
       "      <th>10908</th>\n",
       "      <td>0.691786</td>\n",
       "      <td>0.642072</td>\n",
       "      <td>0.885845</td>\n",
       "      <td>0.000000</td>\n",
       "      <td>0.272727</td>\n",
       "      <td>0.666667</td>\n",
       "      <td>0.643092</td>\n",
       "    </tr>\n",
       "    <tr>\n",
       "      <th>10909</th>\n",
       "      <td>0.340573</td>\n",
       "      <td>0.000000</td>\n",
       "      <td>0.365297</td>\n",
       "      <td>0.885714</td>\n",
       "      <td>0.010101</td>\n",
       "      <td>0.266667</td>\n",
       "      <td>1.000000</td>\n",
       "    </tr>\n",
       "  </tbody>\n",
       "</table>\n",
       "<p>10910 rows × 7 columns</p>\n",
       "</div>"
      ],
      "text/plain": [
       "       customer_lifetime_value    income  monthly_premium_auto  \\\n",
       "0                     0.199915  0.480381              0.000000   \n",
       "1                     0.022697  0.000000              0.027397   \n",
       "2                     0.896146  0.221432              0.356164   \n",
       "3                     1.000000  0.490873              0.328767   \n",
       "4                     0.489420  0.236795              0.511416   \n",
       "...                        ...       ...                   ...   \n",
       "10905                 0.938409  0.000000              1.000000   \n",
       "10906                 0.230832  0.611576              0.036530   \n",
       "10907                 1.000000  0.398446              1.000000   \n",
       "10908                 0.691786  0.642072              0.885845   \n",
       "10909                 0.340573  0.000000              0.365297   \n",
       "\n",
       "       months_since_last_claim  months_since_policy_inception  \\\n",
       "0                     0.200000                       0.525253   \n",
       "1                     0.085714                       0.262626   \n",
       "2                     0.971429                       0.313131   \n",
       "3                     0.285714                       0.030303   \n",
       "4                     0.085714                       0.313131   \n",
       "...                        ...                            ...   \n",
       "10905                 0.085714                       0.404040   \n",
       "10906                 0.200000                       0.686869   \n",
       "10907                 0.314286                       0.636364   \n",
       "10908                 0.000000                       0.272727   \n",
       "10909                 0.885714                       0.010101   \n",
       "\n",
       "       number_of_policies  total_claim_amount  \n",
       "0                1.000000            0.304492  \n",
       "1                0.000000            0.774829  \n",
       "2                0.133333            0.499233  \n",
       "3                0.133333            0.503408  \n",
       "4                0.800000            0.736340  \n",
       "...                   ...                 ...  \n",
       "10905            0.800000            1.000000  \n",
       "10906            0.666667            0.283914  \n",
       "10907            0.133333            0.396564  \n",
       "10908            0.666667            0.643092  \n",
       "10909            0.266667            1.000000  \n",
       "\n",
       "[10910 rows x 7 columns]"
      ]
     },
     "execution_count": 598,
     "metadata": {},
     "output_type": "execute_result"
    }
   ],
   "source": [
    "transformer = MinMaxScaler().fit(numerical)\n",
    "numerical_normalized = transformer.transform(numerical)\n",
    "print(numerical_normalized.shape)\n",
    "numerical_normalized_df = pd.DataFrame(numerical_normalized, columns=numerical.columns)\n",
    "numerical_normalized_df"
   ]
  },
  {
   "cell_type": "markdown",
   "id": "9e05ef24",
   "metadata": {},
   "source": [
    "#### Round off numerical features"
   ]
  },
  {
   "cell_type": "code",
   "execution_count": 599,
   "id": "244d4924",
   "metadata": {},
   "outputs": [
    {
     "data": {
      "text/html": [
       "<div>\n",
       "<style scoped>\n",
       "    .dataframe tbody tr th:only-of-type {\n",
       "        vertical-align: middle;\n",
       "    }\n",
       "\n",
       "    .dataframe tbody tr th {\n",
       "        vertical-align: top;\n",
       "    }\n",
       "\n",
       "    .dataframe thead th {\n",
       "        text-align: right;\n",
       "    }\n",
       "</style>\n",
       "<table border=\"1\" class=\"dataframe\">\n",
       "  <thead>\n",
       "    <tr style=\"text-align: right;\">\n",
       "      <th></th>\n",
       "      <th>customer_lifetime_value</th>\n",
       "      <th>income</th>\n",
       "      <th>monthly_premium_auto</th>\n",
       "      <th>months_since_last_claim</th>\n",
       "      <th>months_since_policy_inception</th>\n",
       "      <th>number_of_policies</th>\n",
       "      <th>total_claim_amount</th>\n",
       "    </tr>\n",
       "  </thead>\n",
       "  <tbody>\n",
       "    <tr>\n",
       "      <th>0</th>\n",
       "      <td>0.20</td>\n",
       "      <td>0.48</td>\n",
       "      <td>0.00</td>\n",
       "      <td>0.20</td>\n",
       "      <td>0.53</td>\n",
       "      <td>1.00</td>\n",
       "      <td>0.30</td>\n",
       "    </tr>\n",
       "    <tr>\n",
       "      <th>1</th>\n",
       "      <td>0.02</td>\n",
       "      <td>0.00</td>\n",
       "      <td>0.03</td>\n",
       "      <td>0.09</td>\n",
       "      <td>0.26</td>\n",
       "      <td>0.00</td>\n",
       "      <td>0.77</td>\n",
       "    </tr>\n",
       "    <tr>\n",
       "      <th>2</th>\n",
       "      <td>0.90</td>\n",
       "      <td>0.22</td>\n",
       "      <td>0.36</td>\n",
       "      <td>0.97</td>\n",
       "      <td>0.31</td>\n",
       "      <td>0.13</td>\n",
       "      <td>0.50</td>\n",
       "    </tr>\n",
       "    <tr>\n",
       "      <th>3</th>\n",
       "      <td>1.00</td>\n",
       "      <td>0.49</td>\n",
       "      <td>0.33</td>\n",
       "      <td>0.29</td>\n",
       "      <td>0.03</td>\n",
       "      <td>0.13</td>\n",
       "      <td>0.50</td>\n",
       "    </tr>\n",
       "    <tr>\n",
       "      <th>4</th>\n",
       "      <td>0.49</td>\n",
       "      <td>0.24</td>\n",
       "      <td>0.51</td>\n",
       "      <td>0.09</td>\n",
       "      <td>0.31</td>\n",
       "      <td>0.80</td>\n",
       "      <td>0.74</td>\n",
       "    </tr>\n",
       "  </tbody>\n",
       "</table>\n",
       "</div>"
      ],
      "text/plain": [
       "   customer_lifetime_value  income  monthly_premium_auto  \\\n",
       "0                     0.20    0.48                  0.00   \n",
       "1                     0.02    0.00                  0.03   \n",
       "2                     0.90    0.22                  0.36   \n",
       "3                     1.00    0.49                  0.33   \n",
       "4                     0.49    0.24                  0.51   \n",
       "\n",
       "   months_since_last_claim  months_since_policy_inception  number_of_policies  \\\n",
       "0                     0.20                           0.53                1.00   \n",
       "1                     0.09                           0.26                0.00   \n",
       "2                     0.97                           0.31                0.13   \n",
       "3                     0.29                           0.03                0.13   \n",
       "4                     0.09                           0.31                0.80   \n",
       "\n",
       "   total_claim_amount  \n",
       "0                0.30  \n",
       "1                0.77  \n",
       "2                0.50  \n",
       "3                0.50  \n",
       "4                0.74  "
      ]
     },
     "execution_count": 599,
     "metadata": {},
     "output_type": "execute_result"
    }
   ],
   "source": [
    "def roundforme(x):\n",
    "    return round(x,2)\n",
    "for col in numerical_normalized_df.columns:\n",
    "    numerical_normalized_df[col] = numerical_normalized_df[col].apply(roundforme)\n",
    "numerical_normalized_df.head()"
   ]
  },
  {
   "cell_type": "markdown",
   "id": "80bd4218",
   "metadata": {},
   "source": [
    "### Encoding Categorical Data."
   ]
  },
  {
   "cell_type": "code",
   "execution_count": 600,
   "id": "33d8a939",
   "metadata": {},
   "outputs": [
    {
     "data": {
      "text/html": [
       "<div>\n",
       "<style scoped>\n",
       "    .dataframe tbody tr th:only-of-type {\n",
       "        vertical-align: middle;\n",
       "    }\n",
       "\n",
       "    .dataframe tbody tr th {\n",
       "        vertical-align: top;\n",
       "    }\n",
       "\n",
       "    .dataframe thead th {\n",
       "        text-align: right;\n",
       "    }\n",
       "</style>\n",
       "<table border=\"1\" class=\"dataframe\">\n",
       "  <thead>\n",
       "    <tr style=\"text-align: right;\">\n",
       "      <th></th>\n",
       "      <th>state_California</th>\n",
       "      <th>state_Nevada</th>\n",
       "      <th>state_Oregon</th>\n",
       "      <th>state_Washington</th>\n",
       "      <th>response_Yes</th>\n",
       "      <th>coverage_Extended</th>\n",
       "      <th>coverage_Premium</th>\n",
       "      <th>education_College</th>\n",
       "      <th>education_Doctor</th>\n",
       "      <th>education_High School or Below</th>\n",
       "      <th>...</th>\n",
       "      <th>sales_channel_Call Center</th>\n",
       "      <th>sales_channel_Web</th>\n",
       "      <th>vehicle_class_Luxury Car</th>\n",
       "      <th>vehicle_class_Luxury SUV</th>\n",
       "      <th>vehicle_class_SUV</th>\n",
       "      <th>vehicle_class_Sports Car</th>\n",
       "      <th>vehicle_class_Two-Door Car</th>\n",
       "      <th>vehicle_size_Medsize</th>\n",
       "      <th>vehicle_size_Small</th>\n",
       "      <th>vehicle_type_Not A</th>\n",
       "    </tr>\n",
       "  </thead>\n",
       "  <tbody>\n",
       "    <tr>\n",
       "      <th>0</th>\n",
       "      <td>0.0</td>\n",
       "      <td>0.0</td>\n",
       "      <td>0.0</td>\n",
       "      <td>0.0</td>\n",
       "      <td>0.0</td>\n",
       "      <td>0.0</td>\n",
       "      <td>0.0</td>\n",
       "      <td>1.0</td>\n",
       "      <td>0.0</td>\n",
       "      <td>0.0</td>\n",
       "      <td>...</td>\n",
       "      <td>0.0</td>\n",
       "      <td>0.0</td>\n",
       "      <td>0.0</td>\n",
       "      <td>0.0</td>\n",
       "      <td>0.0</td>\n",
       "      <td>0.0</td>\n",
       "      <td>0.0</td>\n",
       "      <td>1.0</td>\n",
       "      <td>0.0</td>\n",
       "      <td>1.0</td>\n",
       "    </tr>\n",
       "    <tr>\n",
       "      <th>1</th>\n",
       "      <td>1.0</td>\n",
       "      <td>0.0</td>\n",
       "      <td>0.0</td>\n",
       "      <td>0.0</td>\n",
       "      <td>0.0</td>\n",
       "      <td>0.0</td>\n",
       "      <td>0.0</td>\n",
       "      <td>1.0</td>\n",
       "      <td>0.0</td>\n",
       "      <td>0.0</td>\n",
       "      <td>...</td>\n",
       "      <td>1.0</td>\n",
       "      <td>0.0</td>\n",
       "      <td>0.0</td>\n",
       "      <td>0.0</td>\n",
       "      <td>0.0</td>\n",
       "      <td>0.0</td>\n",
       "      <td>0.0</td>\n",
       "      <td>1.0</td>\n",
       "      <td>0.0</td>\n",
       "      <td>1.0</td>\n",
       "    </tr>\n",
       "    <tr>\n",
       "      <th>2</th>\n",
       "      <td>0.0</td>\n",
       "      <td>0.0</td>\n",
       "      <td>0.0</td>\n",
       "      <td>1.0</td>\n",
       "      <td>0.0</td>\n",
       "      <td>0.0</td>\n",
       "      <td>0.0</td>\n",
       "      <td>0.0</td>\n",
       "      <td>0.0</td>\n",
       "      <td>0.0</td>\n",
       "      <td>...</td>\n",
       "      <td>1.0</td>\n",
       "      <td>0.0</td>\n",
       "      <td>0.0</td>\n",
       "      <td>0.0</td>\n",
       "      <td>1.0</td>\n",
       "      <td>0.0</td>\n",
       "      <td>0.0</td>\n",
       "      <td>1.0</td>\n",
       "      <td>0.0</td>\n",
       "      <td>0.0</td>\n",
       "    </tr>\n",
       "    <tr>\n",
       "      <th>3</th>\n",
       "      <td>0.0</td>\n",
       "      <td>0.0</td>\n",
       "      <td>1.0</td>\n",
       "      <td>0.0</td>\n",
       "      <td>1.0</td>\n",
       "      <td>1.0</td>\n",
       "      <td>0.0</td>\n",
       "      <td>1.0</td>\n",
       "      <td>0.0</td>\n",
       "      <td>0.0</td>\n",
       "      <td>...</td>\n",
       "      <td>0.0</td>\n",
       "      <td>0.0</td>\n",
       "      <td>0.0</td>\n",
       "      <td>0.0</td>\n",
       "      <td>0.0</td>\n",
       "      <td>0.0</td>\n",
       "      <td>0.0</td>\n",
       "      <td>1.0</td>\n",
       "      <td>0.0</td>\n",
       "      <td>0.0</td>\n",
       "    </tr>\n",
       "    <tr>\n",
       "      <th>4</th>\n",
       "      <td>0.0</td>\n",
       "      <td>0.0</td>\n",
       "      <td>1.0</td>\n",
       "      <td>0.0</td>\n",
       "      <td>0.0</td>\n",
       "      <td>0.0</td>\n",
       "      <td>1.0</td>\n",
       "      <td>0.0</td>\n",
       "      <td>0.0</td>\n",
       "      <td>0.0</td>\n",
       "      <td>...</td>\n",
       "      <td>0.0</td>\n",
       "      <td>0.0</td>\n",
       "      <td>0.0</td>\n",
       "      <td>0.0</td>\n",
       "      <td>0.0</td>\n",
       "      <td>0.0</td>\n",
       "      <td>0.0</td>\n",
       "      <td>1.0</td>\n",
       "      <td>0.0</td>\n",
       "      <td>1.0</td>\n",
       "    </tr>\n",
       "    <tr>\n",
       "      <th>5</th>\n",
       "      <td>1.0</td>\n",
       "      <td>0.0</td>\n",
       "      <td>0.0</td>\n",
       "      <td>0.0</td>\n",
       "      <td>0.0</td>\n",
       "      <td>0.0</td>\n",
       "      <td>0.0</td>\n",
       "      <td>0.0</td>\n",
       "      <td>0.0</td>\n",
       "      <td>1.0</td>\n",
       "      <td>...</td>\n",
       "      <td>0.0</td>\n",
       "      <td>0.0</td>\n",
       "      <td>0.0</td>\n",
       "      <td>0.0</td>\n",
       "      <td>0.0</td>\n",
       "      <td>0.0</td>\n",
       "      <td>0.0</td>\n",
       "      <td>1.0</td>\n",
       "      <td>0.0</td>\n",
       "      <td>0.0</td>\n",
       "    </tr>\n",
       "    <tr>\n",
       "      <th>6</th>\n",
       "      <td>1.0</td>\n",
       "      <td>0.0</td>\n",
       "      <td>0.0</td>\n",
       "      <td>0.0</td>\n",
       "      <td>0.0</td>\n",
       "      <td>0.0</td>\n",
       "      <td>0.0</td>\n",
       "      <td>0.0</td>\n",
       "      <td>1.0</td>\n",
       "      <td>0.0</td>\n",
       "      <td>...</td>\n",
       "      <td>0.0</td>\n",
       "      <td>0.0</td>\n",
       "      <td>0.0</td>\n",
       "      <td>0.0</td>\n",
       "      <td>0.0</td>\n",
       "      <td>0.0</td>\n",
       "      <td>0.0</td>\n",
       "      <td>1.0</td>\n",
       "      <td>0.0</td>\n",
       "      <td>1.0</td>\n",
       "    </tr>\n",
       "    <tr>\n",
       "      <th>7</th>\n",
       "      <td>1.0</td>\n",
       "      <td>0.0</td>\n",
       "      <td>0.0</td>\n",
       "      <td>0.0</td>\n",
       "      <td>0.0</td>\n",
       "      <td>0.0</td>\n",
       "      <td>0.0</td>\n",
       "      <td>0.0</td>\n",
       "      <td>0.0</td>\n",
       "      <td>1.0</td>\n",
       "      <td>...</td>\n",
       "      <td>0.0</td>\n",
       "      <td>0.0</td>\n",
       "      <td>0.0</td>\n",
       "      <td>0.0</td>\n",
       "      <td>0.0</td>\n",
       "      <td>0.0</td>\n",
       "      <td>1.0</td>\n",
       "      <td>1.0</td>\n",
       "      <td>0.0</td>\n",
       "      <td>1.0</td>\n",
       "    </tr>\n",
       "    <tr>\n",
       "      <th>8</th>\n",
       "      <td>1.0</td>\n",
       "      <td>0.0</td>\n",
       "      <td>0.0</td>\n",
       "      <td>0.0</td>\n",
       "      <td>1.0</td>\n",
       "      <td>0.0</td>\n",
       "      <td>1.0</td>\n",
       "      <td>1.0</td>\n",
       "      <td>0.0</td>\n",
       "      <td>0.0</td>\n",
       "      <td>...</td>\n",
       "      <td>0.0</td>\n",
       "      <td>0.0</td>\n",
       "      <td>0.0</td>\n",
       "      <td>0.0</td>\n",
       "      <td>0.0</td>\n",
       "      <td>1.0</td>\n",
       "      <td>0.0</td>\n",
       "      <td>1.0</td>\n",
       "      <td>0.0</td>\n",
       "      <td>1.0</td>\n",
       "    </tr>\n",
       "    <tr>\n",
       "      <th>9</th>\n",
       "      <td>0.0</td>\n",
       "      <td>0.0</td>\n",
       "      <td>1.0</td>\n",
       "      <td>0.0</td>\n",
       "      <td>0.0</td>\n",
       "      <td>1.0</td>\n",
       "      <td>0.0</td>\n",
       "      <td>0.0</td>\n",
       "      <td>0.0</td>\n",
       "      <td>0.0</td>\n",
       "      <td>...</td>\n",
       "      <td>0.0</td>\n",
       "      <td>0.0</td>\n",
       "      <td>0.0</td>\n",
       "      <td>0.0</td>\n",
       "      <td>0.0</td>\n",
       "      <td>0.0</td>\n",
       "      <td>0.0</td>\n",
       "      <td>0.0</td>\n",
       "      <td>1.0</td>\n",
       "      <td>1.0</td>\n",
       "    </tr>\n",
       "    <tr>\n",
       "      <th>10</th>\n",
       "      <td>0.0</td>\n",
       "      <td>0.0</td>\n",
       "      <td>0.0</td>\n",
       "      <td>0.0</td>\n",
       "      <td>0.0</td>\n",
       "      <td>1.0</td>\n",
       "      <td>0.0</td>\n",
       "      <td>0.0</td>\n",
       "      <td>0.0</td>\n",
       "      <td>1.0</td>\n",
       "      <td>...</td>\n",
       "      <td>0.0</td>\n",
       "      <td>0.0</td>\n",
       "      <td>0.0</td>\n",
       "      <td>0.0</td>\n",
       "      <td>1.0</td>\n",
       "      <td>0.0</td>\n",
       "      <td>0.0</td>\n",
       "      <td>0.0</td>\n",
       "      <td>0.0</td>\n",
       "      <td>0.0</td>\n",
       "    </tr>\n",
       "    <tr>\n",
       "      <th>11</th>\n",
       "      <td>1.0</td>\n",
       "      <td>0.0</td>\n",
       "      <td>0.0</td>\n",
       "      <td>0.0</td>\n",
       "      <td>0.0</td>\n",
       "      <td>0.0</td>\n",
       "      <td>0.0</td>\n",
       "      <td>0.0</td>\n",
       "      <td>0.0</td>\n",
       "      <td>0.0</td>\n",
       "      <td>...</td>\n",
       "      <td>1.0</td>\n",
       "      <td>0.0</td>\n",
       "      <td>0.0</td>\n",
       "      <td>0.0</td>\n",
       "      <td>0.0</td>\n",
       "      <td>0.0</td>\n",
       "      <td>1.0</td>\n",
       "      <td>1.0</td>\n",
       "      <td>0.0</td>\n",
       "      <td>1.0</td>\n",
       "    </tr>\n",
       "    <tr>\n",
       "      <th>12</th>\n",
       "      <td>0.0</td>\n",
       "      <td>0.0</td>\n",
       "      <td>1.0</td>\n",
       "      <td>0.0</td>\n",
       "      <td>0.0</td>\n",
       "      <td>1.0</td>\n",
       "      <td>0.0</td>\n",
       "      <td>0.0</td>\n",
       "      <td>0.0</td>\n",
       "      <td>1.0</td>\n",
       "      <td>...</td>\n",
       "      <td>0.0</td>\n",
       "      <td>0.0</td>\n",
       "      <td>0.0</td>\n",
       "      <td>0.0</td>\n",
       "      <td>0.0</td>\n",
       "      <td>0.0</td>\n",
       "      <td>0.0</td>\n",
       "      <td>1.0</td>\n",
       "      <td>0.0</td>\n",
       "      <td>1.0</td>\n",
       "    </tr>\n",
       "    <tr>\n",
       "      <th>13</th>\n",
       "      <td>1.0</td>\n",
       "      <td>0.0</td>\n",
       "      <td>0.0</td>\n",
       "      <td>0.0</td>\n",
       "      <td>0.0</td>\n",
       "      <td>0.0</td>\n",
       "      <td>0.0</td>\n",
       "      <td>0.0</td>\n",
       "      <td>0.0</td>\n",
       "      <td>0.0</td>\n",
       "      <td>...</td>\n",
       "      <td>1.0</td>\n",
       "      <td>0.0</td>\n",
       "      <td>0.0</td>\n",
       "      <td>0.0</td>\n",
       "      <td>0.0</td>\n",
       "      <td>0.0</td>\n",
       "      <td>1.0</td>\n",
       "      <td>1.0</td>\n",
       "      <td>0.0</td>\n",
       "      <td>0.0</td>\n",
       "    </tr>\n",
       "    <tr>\n",
       "      <th>14</th>\n",
       "      <td>0.0</td>\n",
       "      <td>0.0</td>\n",
       "      <td>0.0</td>\n",
       "      <td>0.0</td>\n",
       "      <td>0.0</td>\n",
       "      <td>0.0</td>\n",
       "      <td>1.0</td>\n",
       "      <td>0.0</td>\n",
       "      <td>0.0</td>\n",
       "      <td>1.0</td>\n",
       "      <td>...</td>\n",
       "      <td>0.0</td>\n",
       "      <td>0.0</td>\n",
       "      <td>0.0</td>\n",
       "      <td>0.0</td>\n",
       "      <td>0.0</td>\n",
       "      <td>0.0</td>\n",
       "      <td>1.0</td>\n",
       "      <td>1.0</td>\n",
       "      <td>0.0</td>\n",
       "      <td>1.0</td>\n",
       "    </tr>\n",
       "    <tr>\n",
       "      <th>15</th>\n",
       "      <td>1.0</td>\n",
       "      <td>0.0</td>\n",
       "      <td>0.0</td>\n",
       "      <td>0.0</td>\n",
       "      <td>1.0</td>\n",
       "      <td>0.0</td>\n",
       "      <td>0.0</td>\n",
       "      <td>0.0</td>\n",
       "      <td>0.0</td>\n",
       "      <td>0.0</td>\n",
       "      <td>...</td>\n",
       "      <td>0.0</td>\n",
       "      <td>0.0</td>\n",
       "      <td>0.0</td>\n",
       "      <td>0.0</td>\n",
       "      <td>1.0</td>\n",
       "      <td>0.0</td>\n",
       "      <td>0.0</td>\n",
       "      <td>1.0</td>\n",
       "      <td>0.0</td>\n",
       "      <td>1.0</td>\n",
       "    </tr>\n",
       "    <tr>\n",
       "      <th>16</th>\n",
       "      <td>1.0</td>\n",
       "      <td>0.0</td>\n",
       "      <td>0.0</td>\n",
       "      <td>0.0</td>\n",
       "      <td>0.0</td>\n",
       "      <td>0.0</td>\n",
       "      <td>0.0</td>\n",
       "      <td>0.0</td>\n",
       "      <td>0.0</td>\n",
       "      <td>1.0</td>\n",
       "      <td>...</td>\n",
       "      <td>1.0</td>\n",
       "      <td>0.0</td>\n",
       "      <td>0.0</td>\n",
       "      <td>0.0</td>\n",
       "      <td>0.0</td>\n",
       "      <td>0.0</td>\n",
       "      <td>1.0</td>\n",
       "      <td>0.0</td>\n",
       "      <td>0.0</td>\n",
       "      <td>0.0</td>\n",
       "    </tr>\n",
       "    <tr>\n",
       "      <th>17</th>\n",
       "      <td>0.0</td>\n",
       "      <td>0.0</td>\n",
       "      <td>1.0</td>\n",
       "      <td>0.0</td>\n",
       "      <td>0.0</td>\n",
       "      <td>0.0</td>\n",
       "      <td>0.0</td>\n",
       "      <td>0.0</td>\n",
       "      <td>0.0</td>\n",
       "      <td>1.0</td>\n",
       "      <td>...</td>\n",
       "      <td>0.0</td>\n",
       "      <td>0.0</td>\n",
       "      <td>0.0</td>\n",
       "      <td>0.0</td>\n",
       "      <td>0.0</td>\n",
       "      <td>0.0</td>\n",
       "      <td>1.0</td>\n",
       "      <td>1.0</td>\n",
       "      <td>0.0</td>\n",
       "      <td>0.0</td>\n",
       "    </tr>\n",
       "    <tr>\n",
       "      <th>18</th>\n",
       "      <td>1.0</td>\n",
       "      <td>0.0</td>\n",
       "      <td>0.0</td>\n",
       "      <td>0.0</td>\n",
       "      <td>0.0</td>\n",
       "      <td>0.0</td>\n",
       "      <td>0.0</td>\n",
       "      <td>1.0</td>\n",
       "      <td>0.0</td>\n",
       "      <td>0.0</td>\n",
       "      <td>...</td>\n",
       "      <td>0.0</td>\n",
       "      <td>0.0</td>\n",
       "      <td>0.0</td>\n",
       "      <td>0.0</td>\n",
       "      <td>0.0</td>\n",
       "      <td>0.0</td>\n",
       "      <td>1.0</td>\n",
       "      <td>1.0</td>\n",
       "      <td>0.0</td>\n",
       "      <td>0.0</td>\n",
       "    </tr>\n",
       "    <tr>\n",
       "      <th>19</th>\n",
       "      <td>1.0</td>\n",
       "      <td>0.0</td>\n",
       "      <td>0.0</td>\n",
       "      <td>0.0</td>\n",
       "      <td>1.0</td>\n",
       "      <td>1.0</td>\n",
       "      <td>0.0</td>\n",
       "      <td>1.0</td>\n",
       "      <td>0.0</td>\n",
       "      <td>0.0</td>\n",
       "      <td>...</td>\n",
       "      <td>1.0</td>\n",
       "      <td>0.0</td>\n",
       "      <td>0.0</td>\n",
       "      <td>0.0</td>\n",
       "      <td>0.0</td>\n",
       "      <td>0.0</td>\n",
       "      <td>1.0</td>\n",
       "      <td>0.0</td>\n",
       "      <td>0.0</td>\n",
       "      <td>0.0</td>\n",
       "    </tr>\n",
       "  </tbody>\n",
       "</table>\n",
       "<p>20 rows × 42 columns</p>\n",
       "</div>"
      ],
      "text/plain": [
       "    state_California  state_Nevada  state_Oregon  state_Washington  \\\n",
       "0                0.0           0.0           0.0               0.0   \n",
       "1                1.0           0.0           0.0               0.0   \n",
       "2                0.0           0.0           0.0               1.0   \n",
       "3                0.0           0.0           1.0               0.0   \n",
       "4                0.0           0.0           1.0               0.0   \n",
       "5                1.0           0.0           0.0               0.0   \n",
       "6                1.0           0.0           0.0               0.0   \n",
       "7                1.0           0.0           0.0               0.0   \n",
       "8                1.0           0.0           0.0               0.0   \n",
       "9                0.0           0.0           1.0               0.0   \n",
       "10               0.0           0.0           0.0               0.0   \n",
       "11               1.0           0.0           0.0               0.0   \n",
       "12               0.0           0.0           1.0               0.0   \n",
       "13               1.0           0.0           0.0               0.0   \n",
       "14               0.0           0.0           0.0               0.0   \n",
       "15               1.0           0.0           0.0               0.0   \n",
       "16               1.0           0.0           0.0               0.0   \n",
       "17               0.0           0.0           1.0               0.0   \n",
       "18               1.0           0.0           0.0               0.0   \n",
       "19               1.0           0.0           0.0               0.0   \n",
       "\n",
       "    response_Yes  coverage_Extended  coverage_Premium  education_College  \\\n",
       "0            0.0                0.0               0.0                1.0   \n",
       "1            0.0                0.0               0.0                1.0   \n",
       "2            0.0                0.0               0.0                0.0   \n",
       "3            1.0                1.0               0.0                1.0   \n",
       "4            0.0                0.0               1.0                0.0   \n",
       "5            0.0                0.0               0.0                0.0   \n",
       "6            0.0                0.0               0.0                0.0   \n",
       "7            0.0                0.0               0.0                0.0   \n",
       "8            1.0                0.0               1.0                1.0   \n",
       "9            0.0                1.0               0.0                0.0   \n",
       "10           0.0                1.0               0.0                0.0   \n",
       "11           0.0                0.0               0.0                0.0   \n",
       "12           0.0                1.0               0.0                0.0   \n",
       "13           0.0                0.0               0.0                0.0   \n",
       "14           0.0                0.0               1.0                0.0   \n",
       "15           1.0                0.0               0.0                0.0   \n",
       "16           0.0                0.0               0.0                0.0   \n",
       "17           0.0                0.0               0.0                0.0   \n",
       "18           0.0                0.0               0.0                1.0   \n",
       "19           1.0                1.0               0.0                1.0   \n",
       "\n",
       "    education_Doctor  education_High School or Below  ...  \\\n",
       "0                0.0                             0.0  ...   \n",
       "1                0.0                             0.0  ...   \n",
       "2                0.0                             0.0  ...   \n",
       "3                0.0                             0.0  ...   \n",
       "4                0.0                             0.0  ...   \n",
       "5                0.0                             1.0  ...   \n",
       "6                1.0                             0.0  ...   \n",
       "7                0.0                             1.0  ...   \n",
       "8                0.0                             0.0  ...   \n",
       "9                0.0                             0.0  ...   \n",
       "10               0.0                             1.0  ...   \n",
       "11               0.0                             0.0  ...   \n",
       "12               0.0                             1.0  ...   \n",
       "13               0.0                             0.0  ...   \n",
       "14               0.0                             1.0  ...   \n",
       "15               0.0                             0.0  ...   \n",
       "16               0.0                             1.0  ...   \n",
       "17               0.0                             1.0  ...   \n",
       "18               0.0                             0.0  ...   \n",
       "19               0.0                             0.0  ...   \n",
       "\n",
       "    sales_channel_Call Center  sales_channel_Web  vehicle_class_Luxury Car  \\\n",
       "0                         0.0                0.0                       0.0   \n",
       "1                         1.0                0.0                       0.0   \n",
       "2                         1.0                0.0                       0.0   \n",
       "3                         0.0                0.0                       0.0   \n",
       "4                         0.0                0.0                       0.0   \n",
       "5                         0.0                0.0                       0.0   \n",
       "6                         0.0                0.0                       0.0   \n",
       "7                         0.0                0.0                       0.0   \n",
       "8                         0.0                0.0                       0.0   \n",
       "9                         0.0                0.0                       0.0   \n",
       "10                        0.0                0.0                       0.0   \n",
       "11                        1.0                0.0                       0.0   \n",
       "12                        0.0                0.0                       0.0   \n",
       "13                        1.0                0.0                       0.0   \n",
       "14                        0.0                0.0                       0.0   \n",
       "15                        0.0                0.0                       0.0   \n",
       "16                        1.0                0.0                       0.0   \n",
       "17                        0.0                0.0                       0.0   \n",
       "18                        0.0                0.0                       0.0   \n",
       "19                        1.0                0.0                       0.0   \n",
       "\n",
       "    vehicle_class_Luxury SUV  vehicle_class_SUV  vehicle_class_Sports Car  \\\n",
       "0                        0.0                0.0                       0.0   \n",
       "1                        0.0                0.0                       0.0   \n",
       "2                        0.0                1.0                       0.0   \n",
       "3                        0.0                0.0                       0.0   \n",
       "4                        0.0                0.0                       0.0   \n",
       "5                        0.0                0.0                       0.0   \n",
       "6                        0.0                0.0                       0.0   \n",
       "7                        0.0                0.0                       0.0   \n",
       "8                        0.0                0.0                       1.0   \n",
       "9                        0.0                0.0                       0.0   \n",
       "10                       0.0                1.0                       0.0   \n",
       "11                       0.0                0.0                       0.0   \n",
       "12                       0.0                0.0                       0.0   \n",
       "13                       0.0                0.0                       0.0   \n",
       "14                       0.0                0.0                       0.0   \n",
       "15                       0.0                1.0                       0.0   \n",
       "16                       0.0                0.0                       0.0   \n",
       "17                       0.0                0.0                       0.0   \n",
       "18                       0.0                0.0                       0.0   \n",
       "19                       0.0                0.0                       0.0   \n",
       "\n",
       "    vehicle_class_Two-Door Car  vehicle_size_Medsize  vehicle_size_Small  \\\n",
       "0                          0.0                   1.0                 0.0   \n",
       "1                          0.0                   1.0                 0.0   \n",
       "2                          0.0                   1.0                 0.0   \n",
       "3                          0.0                   1.0                 0.0   \n",
       "4                          0.0                   1.0                 0.0   \n",
       "5                          0.0                   1.0                 0.0   \n",
       "6                          0.0                   1.0                 0.0   \n",
       "7                          1.0                   1.0                 0.0   \n",
       "8                          0.0                   1.0                 0.0   \n",
       "9                          0.0                   0.0                 1.0   \n",
       "10                         0.0                   0.0                 0.0   \n",
       "11                         1.0                   1.0                 0.0   \n",
       "12                         0.0                   1.0                 0.0   \n",
       "13                         1.0                   1.0                 0.0   \n",
       "14                         1.0                   1.0                 0.0   \n",
       "15                         0.0                   1.0                 0.0   \n",
       "16                         1.0                   0.0                 0.0   \n",
       "17                         1.0                   1.0                 0.0   \n",
       "18                         1.0                   1.0                 0.0   \n",
       "19                         1.0                   0.0                 0.0   \n",
       "\n",
       "    vehicle_type_Not A  \n",
       "0                  1.0  \n",
       "1                  1.0  \n",
       "2                  0.0  \n",
       "3                  0.0  \n",
       "4                  1.0  \n",
       "5                  0.0  \n",
       "6                  1.0  \n",
       "7                  1.0  \n",
       "8                  1.0  \n",
       "9                  1.0  \n",
       "10                 0.0  \n",
       "11                 1.0  \n",
       "12                 1.0  \n",
       "13                 0.0  \n",
       "14                 1.0  \n",
       "15                 1.0  \n",
       "16                 0.0  \n",
       "17                 0.0  \n",
       "18                 0.0  \n",
       "19                 0.0  \n",
       "\n",
       "[20 rows x 42 columns]"
      ]
     },
     "execution_count": 600,
     "metadata": {},
     "output_type": "execute_result"
    }
   ],
   "source": [
    "encoder = OneHotEncoder(drop='first').fit(categorical)\n",
    "encoded_cols = encoder.get_feature_names_out(input_features=categorical.columns)\n",
    "categorical_encoded = encoder.transform(categorical).toarray()\n",
    "\n",
    "categorical_encoded_df = pd.DataFrame(categorical_encoded, columns=encoded_cols)\n",
    "categorical_encoded_df.head(20)"
   ]
  },
  {
   "cell_type": "code",
   "execution_count": null,
   "id": "472be8be",
   "metadata": {},
   "outputs": [],
   "source": []
  },
  {
   "cell_type": "markdown",
   "id": "bf5fb4a5",
   "metadata": {},
   "source": [
    "## concatenating the dataframes"
   ]
  },
  {
   "cell_type": "code",
   "execution_count": 601,
   "id": "d251a22c",
   "metadata": {},
   "outputs": [
    {
     "data": {
      "text/plain": [
       "(10910, 49)"
      ]
     },
     "execution_count": 601,
     "metadata": {},
     "output_type": "execute_result"
    }
   ],
   "source": [
    "X = pd.concat([numerical_normalized_df, categorical_encoded_df], axis=1) \n",
    "X.columns\n",
    "X.shape"
   ]
  },
  {
   "cell_type": "markdown",
   "id": "e0373c3a",
   "metadata": {},
   "source": [
    "#### Processing for X-y Split"
   ]
  },
  {
   "cell_type": "code",
   "execution_count": 602,
   "id": "23b3b9c5",
   "metadata": {},
   "outputs": [],
   "source": [
    "# X = features , y = Target\n",
    "\n",
    "y = X['total_claim_amount']\n",
    "X = X.drop(['total_claim_amount'], axis=1)\n"
   ]
  },
  {
   "cell_type": "markdown",
   "id": "39f53d52",
   "metadata": {},
   "source": [
    "### Splitting into train set and test set.\n"
   ]
  },
  {
   "cell_type": "code",
   "execution_count": 603,
   "id": "6cad1b50",
   "metadata": {},
   "outputs": [],
   "source": [
    "from sklearn.model_selection import train_test_split\n",
    "X_train, X_test, y_train, y_test = train_test_split(X, y, test_size=0.3, random_state=42)"
   ]
  },
  {
   "cell_type": "code",
   "execution_count": 604,
   "id": "3415b636",
   "metadata": {},
   "outputs": [
    {
     "name": "stdout",
     "output_type": "stream",
     "text": [
      "(7637, 48)\n",
      "(3273, 48)\n",
      "(7637,)\n",
      "(3273,)\n"
     ]
    }
   ],
   "source": [
    "print(X_train.shape)\n",
    "print(X_test.shape)\n",
    "print(y_train.shape)\n",
    "print(y_test.shape)"
   ]
  },
  {
   "cell_type": "code",
   "execution_count": 605,
   "id": "2325ed29",
   "metadata": {},
   "outputs": [
    {
     "data": {
      "text/html": [
       "<div>\n",
       "<style scoped>\n",
       "    .dataframe tbody tr th:only-of-type {\n",
       "        vertical-align: middle;\n",
       "    }\n",
       "\n",
       "    .dataframe tbody tr th {\n",
       "        vertical-align: top;\n",
       "    }\n",
       "\n",
       "    .dataframe thead th {\n",
       "        text-align: right;\n",
       "    }\n",
       "</style>\n",
       "<table border=\"1\" class=\"dataframe\">\n",
       "  <thead>\n",
       "    <tr style=\"text-align: right;\">\n",
       "      <th></th>\n",
       "      <th>customer_lifetime_value</th>\n",
       "      <th>income</th>\n",
       "      <th>monthly_premium_auto</th>\n",
       "      <th>months_since_last_claim</th>\n",
       "      <th>months_since_policy_inception</th>\n",
       "      <th>number_of_policies</th>\n",
       "      <th>state_California</th>\n",
       "      <th>state_Nevada</th>\n",
       "      <th>state_Oregon</th>\n",
       "      <th>state_Washington</th>\n",
       "      <th>...</th>\n",
       "      <th>sales_channel_Call Center</th>\n",
       "      <th>sales_channel_Web</th>\n",
       "      <th>vehicle_class_Luxury Car</th>\n",
       "      <th>vehicle_class_Luxury SUV</th>\n",
       "      <th>vehicle_class_SUV</th>\n",
       "      <th>vehicle_class_Sports Car</th>\n",
       "      <th>vehicle_class_Two-Door Car</th>\n",
       "      <th>vehicle_size_Medsize</th>\n",
       "      <th>vehicle_size_Small</th>\n",
       "      <th>vehicle_type_Not A</th>\n",
       "    </tr>\n",
       "  </thead>\n",
       "  <tbody>\n",
       "    <tr>\n",
       "      <th>7722</th>\n",
       "      <td>0.07</td>\n",
       "      <td>0.68</td>\n",
       "      <td>0.11</td>\n",
       "      <td>0.49</td>\n",
       "      <td>0.70</td>\n",
       "      <td>0.00</td>\n",
       "      <td>1.0</td>\n",
       "      <td>0.0</td>\n",
       "      <td>0.0</td>\n",
       "      <td>0.0</td>\n",
       "      <td>...</td>\n",
       "      <td>0.0</td>\n",
       "      <td>0.0</td>\n",
       "      <td>0.0</td>\n",
       "      <td>0.0</td>\n",
       "      <td>0.0</td>\n",
       "      <td>0.0</td>\n",
       "      <td>0.0</td>\n",
       "      <td>1.0</td>\n",
       "      <td>0.0</td>\n",
       "      <td>0.0</td>\n",
       "    </tr>\n",
       "    <tr>\n",
       "      <th>6888</th>\n",
       "      <td>0.37</td>\n",
       "      <td>0.24</td>\n",
       "      <td>0.02</td>\n",
       "      <td>0.63</td>\n",
       "      <td>0.02</td>\n",
       "      <td>0.13</td>\n",
       "      <td>0.0</td>\n",
       "      <td>0.0</td>\n",
       "      <td>0.0</td>\n",
       "      <td>0.0</td>\n",
       "      <td>...</td>\n",
       "      <td>0.0</td>\n",
       "      <td>0.0</td>\n",
       "      <td>0.0</td>\n",
       "      <td>0.0</td>\n",
       "      <td>0.0</td>\n",
       "      <td>0.0</td>\n",
       "      <td>0.0</td>\n",
       "      <td>0.0</td>\n",
       "      <td>1.0</td>\n",
       "      <td>0.0</td>\n",
       "    </tr>\n",
       "    <tr>\n",
       "      <th>675</th>\n",
       "      <td>0.25</td>\n",
       "      <td>0.53</td>\n",
       "      <td>0.08</td>\n",
       "      <td>0.34</td>\n",
       "      <td>0.98</td>\n",
       "      <td>0.93</td>\n",
       "      <td>0.0</td>\n",
       "      <td>0.0</td>\n",
       "      <td>1.0</td>\n",
       "      <td>0.0</td>\n",
       "      <td>...</td>\n",
       "      <td>0.0</td>\n",
       "      <td>0.0</td>\n",
       "      <td>0.0</td>\n",
       "      <td>0.0</td>\n",
       "      <td>0.0</td>\n",
       "      <td>0.0</td>\n",
       "      <td>0.0</td>\n",
       "      <td>0.0</td>\n",
       "      <td>1.0</td>\n",
       "      <td>0.0</td>\n",
       "    </tr>\n",
       "    <tr>\n",
       "      <th>4098</th>\n",
       "      <td>0.11</td>\n",
       "      <td>0.00</td>\n",
       "      <td>0.39</td>\n",
       "      <td>0.54</td>\n",
       "      <td>0.66</td>\n",
       "      <td>0.00</td>\n",
       "      <td>0.0</td>\n",
       "      <td>0.0</td>\n",
       "      <td>1.0</td>\n",
       "      <td>0.0</td>\n",
       "      <td>...</td>\n",
       "      <td>0.0</td>\n",
       "      <td>0.0</td>\n",
       "      <td>0.0</td>\n",
       "      <td>0.0</td>\n",
       "      <td>1.0</td>\n",
       "      <td>0.0</td>\n",
       "      <td>0.0</td>\n",
       "      <td>0.0</td>\n",
       "      <td>1.0</td>\n",
       "      <td>1.0</td>\n",
       "    </tr>\n",
       "    <tr>\n",
       "      <th>4518</th>\n",
       "      <td>0.03</td>\n",
       "      <td>0.43</td>\n",
       "      <td>0.01</td>\n",
       "      <td>0.54</td>\n",
       "      <td>0.90</td>\n",
       "      <td>0.00</td>\n",
       "      <td>0.0</td>\n",
       "      <td>0.0</td>\n",
       "      <td>0.0</td>\n",
       "      <td>0.0</td>\n",
       "      <td>...</td>\n",
       "      <td>0.0</td>\n",
       "      <td>0.0</td>\n",
       "      <td>0.0</td>\n",
       "      <td>0.0</td>\n",
       "      <td>0.0</td>\n",
       "      <td>0.0</td>\n",
       "      <td>0.0</td>\n",
       "      <td>1.0</td>\n",
       "      <td>0.0</td>\n",
       "      <td>0.0</td>\n",
       "    </tr>\n",
       "  </tbody>\n",
       "</table>\n",
       "<p>5 rows × 48 columns</p>\n",
       "</div>"
      ],
      "text/plain": [
       "      customer_lifetime_value  income  monthly_premium_auto  \\\n",
       "7722                     0.07    0.68                  0.11   \n",
       "6888                     0.37    0.24                  0.02   \n",
       "675                      0.25    0.53                  0.08   \n",
       "4098                     0.11    0.00                  0.39   \n",
       "4518                     0.03    0.43                  0.01   \n",
       "\n",
       "      months_since_last_claim  months_since_policy_inception  \\\n",
       "7722                     0.49                           0.70   \n",
       "6888                     0.63                           0.02   \n",
       "675                      0.34                           0.98   \n",
       "4098                     0.54                           0.66   \n",
       "4518                     0.54                           0.90   \n",
       "\n",
       "      number_of_policies  state_California  state_Nevada  state_Oregon  \\\n",
       "7722                0.00               1.0           0.0           0.0   \n",
       "6888                0.13               0.0           0.0           0.0   \n",
       "675                 0.93               0.0           0.0           1.0   \n",
       "4098                0.00               0.0           0.0           1.0   \n",
       "4518                0.00               0.0           0.0           0.0   \n",
       "\n",
       "      state_Washington  ...  sales_channel_Call Center  sales_channel_Web  \\\n",
       "7722               0.0  ...                        0.0                0.0   \n",
       "6888               0.0  ...                        0.0                0.0   \n",
       "675                0.0  ...                        0.0                0.0   \n",
       "4098               0.0  ...                        0.0                0.0   \n",
       "4518               0.0  ...                        0.0                0.0   \n",
       "\n",
       "      vehicle_class_Luxury Car  vehicle_class_Luxury SUV  vehicle_class_SUV  \\\n",
       "7722                       0.0                       0.0                0.0   \n",
       "6888                       0.0                       0.0                0.0   \n",
       "675                        0.0                       0.0                0.0   \n",
       "4098                       0.0                       0.0                1.0   \n",
       "4518                       0.0                       0.0                0.0   \n",
       "\n",
       "      vehicle_class_Sports Car  vehicle_class_Two-Door Car  \\\n",
       "7722                       0.0                         0.0   \n",
       "6888                       0.0                         0.0   \n",
       "675                        0.0                         0.0   \n",
       "4098                       0.0                         0.0   \n",
       "4518                       0.0                         0.0   \n",
       "\n",
       "      vehicle_size_Medsize  vehicle_size_Small  vehicle_type_Not A  \n",
       "7722                   1.0                 0.0                 0.0  \n",
       "6888                   0.0                 1.0                 0.0  \n",
       "675                    0.0                 1.0                 0.0  \n",
       "4098                   0.0                 1.0                 1.0  \n",
       "4518                   1.0                 0.0                 0.0  \n",
       "\n",
       "[5 rows x 48 columns]"
      ]
     },
     "execution_count": 605,
     "metadata": {},
     "output_type": "execute_result"
    }
   ],
   "source": [
    "X_train.head()"
   ]
  },
  {
   "cell_type": "code",
   "execution_count": 606,
   "id": "6c1c8e26",
   "metadata": {},
   "outputs": [
    {
     "data": {
      "text/plain": [
       "7722    0.06\n",
       "6888    0.35\n",
       "675     0.26\n",
       "4098    0.52\n",
       "4518    0.05\n",
       "Name: total_claim_amount, dtype: float64"
      ]
     },
     "execution_count": 606,
     "metadata": {},
     "output_type": "execute_result"
    }
   ],
   "source": [
    "y_train.head()"
   ]
  },
  {
   "cell_type": "markdown",
   "id": "38ce8a8c",
   "metadata": {},
   "source": [
    "## Modeling"
   ]
  },
  {
   "cell_type": "code",
   "execution_count": 607,
   "id": "0e04ef1d",
   "metadata": {},
   "outputs": [
    {
     "data": {
      "text/plain": [
       "LinearRegression()"
      ]
     },
     "execution_count": 607,
     "metadata": {},
     "output_type": "execute_result"
    }
   ],
   "source": [
    "lm = LinearRegression()\n",
    "lm.fit(X_train,y_train)"
   ]
  },
  {
   "cell_type": "markdown",
   "id": "7af6afe7",
   "metadata": {},
   "source": [
    "## Model Validation\n"
   ]
  },
  {
   "cell_type": "markdown",
   "id": "8fcf65ca",
   "metadata": {},
   "source": [
    "### R2"
   ]
  },
  {
   "cell_type": "code",
   "execution_count": 608,
   "id": "16d05957",
   "metadata": {},
   "outputs": [
    {
     "data": {
      "text/plain": [
       "0.8078872341174359"
      ]
     },
     "execution_count": 608,
     "metadata": {},
     "output_type": "execute_result"
    }
   ],
   "source": [
    "from sklearn.metrics import r2_score\n",
    "predictions_train = lm.predict(X_train)\n",
    "r2_score(y_train, predictions_train)"
   ]
  },
  {
   "cell_type": "code",
   "execution_count": 609,
   "id": "68023418",
   "metadata": {},
   "outputs": [
    {
     "data": {
      "text/plain": [
       "0.8067758005106807"
      ]
     },
     "execution_count": 609,
     "metadata": {},
     "output_type": "execute_result"
    }
   ],
   "source": [
    "from sklearn.metrics import r2_score\n",
    "predictions_test = lm.predict(X_test)\n",
    "r2_score(y_test, predictions_test)"
   ]
  },
  {
   "cell_type": "code",
   "execution_count": 610,
   "id": "5906cd8c",
   "metadata": {},
   "outputs": [
    {
     "data": {
      "text/plain": [
       "array([0.41043878, 0.44894451, 0.52402837, ..., 0.28075172, 0.215724  ,\n",
       "       0.44832877])"
      ]
     },
     "metadata": {},
     "output_type": "display_data"
    },
    {
     "data": {
      "text/plain": [
       "4829     0.49\n",
       "5081     0.36\n",
       "5011     0.50\n",
       "4625     0.70\n",
       "3838     0.31\n",
       "         ... \n",
       "9968     0.15\n",
       "5239     0.10\n",
       "10001    0.26\n",
       "4828     0.30\n",
       "10483    0.50\n",
       "Name: total_claim_amount, Length: 3273, dtype: float64"
      ]
     },
     "metadata": {},
     "output_type": "display_data"
    }
   ],
   "source": [
    "display(predictions_test)\n",
    "display(y_test)"
   ]
  },
  {
   "cell_type": "markdown",
   "id": "7e5160a5",
   "metadata": {},
   "source": [
    "### MSE"
   ]
  },
  {
   "cell_type": "code",
   "execution_count": 611,
   "id": "80c0d44b",
   "metadata": {},
   "outputs": [
    {
     "data": {
      "text/plain": [
       "0.01217696516729622"
      ]
     },
     "execution_count": 611,
     "metadata": {},
     "output_type": "execute_result"
    }
   ],
   "source": [
    "from sklearn.metrics import mean_squared_error\n",
    "mse=mean_squared_error(y_test,predictions_test)\n",
    "mse"
   ]
  },
  {
   "cell_type": "markdown",
   "id": "ecb43c9c",
   "metadata": {},
   "source": [
    "### RMSE"
   ]
  },
  {
   "cell_type": "code",
   "execution_count": 612,
   "id": "8a836a72",
   "metadata": {},
   "outputs": [
    {
     "data": {
      "text/plain": [
       "0.11034928711729959"
      ]
     },
     "execution_count": 612,
     "metadata": {},
     "output_type": "execute_result"
    }
   ],
   "source": [
    "rmse = np.sqrt(mean_squared_error(y_test,predictions_test))\n",
    "rmse"
   ]
  },
  {
   "cell_type": "markdown",
   "id": "042641a7",
   "metadata": {},
   "source": [
    "### MAE"
   ]
  },
  {
   "cell_type": "code",
   "execution_count": 613,
   "id": "656f72b5",
   "metadata": {},
   "outputs": [
    {
     "name": "stdout",
     "output_type": "stream",
     "text": [
      "0.08491708465299828\n"
     ]
    }
   ],
   "source": [
    "from sklearn.metrics import mean_absolute_error, r2_score\n",
    "mae = mean_absolute_error(y_test, predictions_test)\n",
    "print(mae)"
   ]
  },
  {
   "cell_type": "markdown",
   "id": "5c19f04a",
   "metadata": {},
   "source": [
    "## Reporting"
   ]
  },
  {
   "cell_type": "markdown",
   "id": "c1872ecb",
   "metadata": {},
   "source": [
    "These are the results from testing the model\n",
    "- R2 Score - 0.8067758005106807\n",
    "- MSE - 0.01217696516729622\n",
    "- RMSE - 0.11034928711729959\n",
    "- MAE - 0.08491708465299828"
   ]
  },
  {
   "cell_type": "code",
   "execution_count": null,
   "id": "d1cb2ef6",
   "metadata": {},
   "outputs": [],
   "source": []
  }
 ],
 "metadata": {
  "kernelspec": {
   "display_name": "Python 3 (ipykernel)",
   "language": "python",
   "name": "python3"
  },
  "language_info": {
   "codemirror_mode": {
    "name": "ipython",
    "version": 3
   },
   "file_extension": ".py",
   "mimetype": "text/x-python",
   "name": "python",
   "nbconvert_exporter": "python",
   "pygments_lexer": "ipython3",
   "version": "3.9.12"
  }
 },
 "nbformat": 4,
 "nbformat_minor": 5
}
