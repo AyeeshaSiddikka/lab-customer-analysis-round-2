{
 "cells": [
  {
   "cell_type": "markdown",
   "id": "a189a26e",
   "metadata": {},
   "source": [
    "## FIFA PROJECT"
   ]
  },
  {
   "cell_type": "markdown",
   "id": "199afe1d",
   "metadata": {},
   "source": [
    "### Importing necessary Libraries"
   ]
  },
  {
   "cell_type": "code",
   "execution_count": 851,
   "id": "cddba7c5",
   "metadata": {},
   "outputs": [],
   "source": [
    "import pandas as pd\n",
    "import numpy as np\n",
    "import matplotlib.pyplot as plt\n",
    "import seaborn as sns \n",
    "%matplotlib inline\n",
    "\n",
    "from sklearn.preprocessing import OneHotEncoder\n",
    "from sklearn.preprocessing import LabelEncoder\n",
    "from sklearn.preprocessing import MinMaxScaler \n",
    "from sklearn.preprocessing import StandardScaler\n",
    "from sklearn import linear_model\n",
    "from sklearn.linear_model import LinearRegression\n",
    "from sklearn.metrics import mean_absolute_error, r2_score, mean_squared_error\n",
    "from sklearn.model_selection import train_test_split\n",
    "\n",
    "pd.set_option('display.max_columns', None) #always show all the columns. Normally pandas have a max limit."
   ]
  },
  {
   "cell_type": "markdown",
   "id": "08433198",
   "metadata": {},
   "source": [
    "## Get Data"
   ]
  },
  {
   "cell_type": "code",
   "execution_count": 852,
   "id": "525020b4",
   "metadata": {},
   "outputs": [
    {
     "data": {
      "text/plain": [
       "(11701, 101)"
      ]
     },
     "execution_count": 852,
     "metadata": {},
     "output_type": "execute_result"
    }
   ],
   "source": [
    "fifa = pd.read_csv('/Users/ayeesha/IH-Labs/lab-customer-analysis-round-2/files_for_lab/csv_files/fifa21_train.csv') ##Read the file into python as a dataframe\n",
    "fifa.shape"
   ]
  },
  {
   "cell_type": "code",
   "execution_count": 853,
   "id": "70c048c2",
   "metadata": {},
   "outputs": [
    {
     "name": "stdout",
     "output_type": "stream",
     "text": [
      "['ID', 'Name', 'Age', 'Nationality', 'Club', 'BP', 'Position', 'Team & Contract', 'Height', 'Weight', 'foot', 'Growth', 'Joined', 'Loan Date End', 'Value', 'Wage', 'Release Clause', 'Contract', 'Attacking', 'Crossing', 'Finishing', 'Heading Accuracy', 'Short Passing', 'Volleys', 'Skill', 'Dribbling', 'Curve', 'FK Accuracy', 'Long Passing', 'Ball Control', 'Movement', 'Acceleration', 'Sprint Speed', 'Agility', 'Reactions', 'Balance', 'Power', 'Shot Power', 'Jumping', 'Stamina', 'Strength', 'Long Shots', 'Mentality', 'Aggression', 'Interceptions', 'Positioning', 'Vision', 'Penalties', 'Composure', 'Defending', 'Marking', 'Standing Tackle', 'Sliding Tackle', 'Goalkeeping', 'GK Diving', 'GK Handling', 'GK Kicking', 'GK Positioning', 'GK Reflexes', 'Total Stats', 'Base Stats', 'W/F', 'SM', 'A/W', 'D/W', 'IR', 'PAC', 'SHO', 'PAS', 'DRI', 'DEF', 'PHY', 'Hits', 'LS', 'ST', 'RS', 'LW', 'LF', 'CF', 'RF', 'RW', 'LAM', 'CAM', 'RAM', 'LM', 'LCM', 'CM', 'RCM', 'RM', 'LWB', 'LDM', 'CDM', 'RDM', 'RWB', 'LB', 'LCB', 'CB', 'RCB', 'RB', 'GK', 'OVA']\n"
     ]
    }
   ],
   "source": [
    "print(list(fifa.columns))\n"
   ]
  },
  {
   "cell_type": "markdown",
   "id": "e03cf6da",
   "metadata": {},
   "source": [
    "### Droping the unwanted Columns"
   ]
  },
  {
   "cell_type": "code",
   "execution_count": 854,
   "id": "1c2c08a8",
   "metadata": {},
   "outputs": [
    {
     "data": {
      "text/html": [
       "<div>\n",
       "<style scoped>\n",
       "    .dataframe tbody tr th:only-of-type {\n",
       "        vertical-align: middle;\n",
       "    }\n",
       "\n",
       "    .dataframe tbody tr th {\n",
       "        vertical-align: top;\n",
       "    }\n",
       "\n",
       "    .dataframe thead th {\n",
       "        text-align: right;\n",
       "    }\n",
       "</style>\n",
       "<table border=\"1\" class=\"dataframe\">\n",
       "  <thead>\n",
       "    <tr style=\"text-align: right;\">\n",
       "      <th></th>\n",
       "      <th>Age</th>\n",
       "      <th>BP</th>\n",
       "      <th>Height</th>\n",
       "      <th>Weight</th>\n",
       "      <th>Total Stats</th>\n",
       "      <th>Base Stats</th>\n",
       "      <th>W/F</th>\n",
       "      <th>SM</th>\n",
       "      <th>IR</th>\n",
       "      <th>OVA</th>\n",
       "    </tr>\n",
       "  </thead>\n",
       "  <tbody>\n",
       "    <tr>\n",
       "      <th>0</th>\n",
       "      <td>26</td>\n",
       "      <td>CM</td>\n",
       "      <td>5'9\"</td>\n",
       "      <td>161lbs</td>\n",
       "      <td>1682</td>\n",
       "      <td>357</td>\n",
       "      <td>4 ★</td>\n",
       "      <td>2★</td>\n",
       "      <td>1 ★</td>\n",
       "      <td>64</td>\n",
       "    </tr>\n",
       "    <tr>\n",
       "      <th>1</th>\n",
       "      <td>30</td>\n",
       "      <td>ST</td>\n",
       "      <td>6'0\"</td>\n",
       "      <td>159lbs</td>\n",
       "      <td>1961</td>\n",
       "      <td>412</td>\n",
       "      <td>3 ★</td>\n",
       "      <td>4★</td>\n",
       "      <td>2 ★</td>\n",
       "      <td>77</td>\n",
       "    </tr>\n",
       "    <tr>\n",
       "      <th>2</th>\n",
       "      <td>33</td>\n",
       "      <td>CAM</td>\n",
       "      <td>5'4\"</td>\n",
       "      <td>134lbs</td>\n",
       "      <td>1925</td>\n",
       "      <td>404</td>\n",
       "      <td>4 ★</td>\n",
       "      <td>4★</td>\n",
       "      <td>2 ★</td>\n",
       "      <td>80</td>\n",
       "    </tr>\n",
       "    <tr>\n",
       "      <th>3</th>\n",
       "      <td>22</td>\n",
       "      <td>CDM</td>\n",
       "      <td>5'10\"</td>\n",
       "      <td>152lbs</td>\n",
       "      <td>1527</td>\n",
       "      <td>329</td>\n",
       "      <td>2 ★</td>\n",
       "      <td>2★</td>\n",
       "      <td>1 ★</td>\n",
       "      <td>59</td>\n",
       "    </tr>\n",
       "    <tr>\n",
       "      <th>4</th>\n",
       "      <td>23</td>\n",
       "      <td>CDM</td>\n",
       "      <td>5'11\"</td>\n",
       "      <td>150lbs</td>\n",
       "      <td>1664</td>\n",
       "      <td>360</td>\n",
       "      <td>2 ★</td>\n",
       "      <td>3★</td>\n",
       "      <td>1 ★</td>\n",
       "      <td>65</td>\n",
       "    </tr>\n",
       "  </tbody>\n",
       "</table>\n",
       "</div>"
      ],
      "text/plain": [
       "   Age   BP Height  Weight  Total Stats  Base Stats  W/F  SM   IR  OVA\n",
       "0   26   CM   5'9\"  161lbs         1682         357  4 ★  2★  1 ★   64\n",
       "1   30   ST   6'0\"  159lbs         1961         412  3 ★  4★  2 ★   77\n",
       "2   33  CAM   5'4\"  134lbs         1925         404  4 ★  4★  2 ★   80\n",
       "3   22  CDM  5'10\"  152lbs         1527         329  2 ★  2★  1 ★   59\n",
       "4   23  CDM  5'11\"  150lbs         1664         360  2 ★  3★  1 ★   65"
      ]
     },
     "execution_count": 854,
     "metadata": {},
     "output_type": "execute_result"
    }
   ],
   "source": [
    "fifa = fifa.drop(['ID', 'Name', 'Nationality', 'Club', 'Position', 'Team & Contract', 'foot', 'Growth', 'Joined', 'Loan Date End', 'Value', 'Wage', 'Release Clause', 'Contract', 'Attacking', 'Crossing', 'Finishing', 'Heading Accuracy', 'Short Passing', 'Volleys', 'Skill', 'Dribbling', 'Curve', 'FK Accuracy', 'Long Passing', 'Ball Control', 'Movement', 'Acceleration', 'Sprint Speed', 'Agility', 'Reactions', 'Balance', 'Power', 'Shot Power', 'Jumping', 'Stamina', 'Strength', 'Long Shots', 'Mentality', 'Aggression', 'Interceptions', 'Positioning', 'Vision', 'Penalties', 'Composure', 'Defending', 'Marking', 'Standing Tackle', 'Sliding Tackle', 'Goalkeeping', 'GK Diving', 'GK Handling', 'GK Kicking', 'GK Positioning', 'GK Reflexes', 'A/W', 'D/W', 'PAC', 'SHO', 'PAS', 'DRI', 'DEF', 'PHY', 'Hits', 'LS', 'ST', 'RS', 'LW', 'LF', 'CF', 'RF', 'RW', 'LAM', 'CAM', 'RAM', 'LM', 'LCM', 'CM', 'RCM', 'RM', 'LWB', 'LDM', 'CDM', 'RDM', 'RWB', 'LB', 'LCB', 'CB', 'RCB', 'RB', 'GK'], axis=1)\n",
    "fifa.shape\n",
    "fifa.head()"
   ]
  },
  {
   "cell_type": "markdown",
   "id": "37e539ba",
   "metadata": {},
   "source": [
    "## Dealing with the data"
   ]
  },
  {
   "cell_type": "code",
   "execution_count": 855,
   "id": "e0babed2",
   "metadata": {},
   "outputs": [
    {
     "data": {
      "text/html": [
       "<div>\n",
       "<style scoped>\n",
       "    .dataframe tbody tr th:only-of-type {\n",
       "        vertical-align: middle;\n",
       "    }\n",
       "\n",
       "    .dataframe tbody tr th {\n",
       "        vertical-align: top;\n",
       "    }\n",
       "\n",
       "    .dataframe thead th {\n",
       "        text-align: right;\n",
       "    }\n",
       "</style>\n",
       "<table border=\"1\" class=\"dataframe\">\n",
       "  <thead>\n",
       "    <tr style=\"text-align: right;\">\n",
       "      <th></th>\n",
       "      <th>age</th>\n",
       "      <th>base_position</th>\n",
       "      <th>height</th>\n",
       "      <th>weight</th>\n",
       "      <th>total_stats</th>\n",
       "      <th>base_stats</th>\n",
       "      <th>weak_foot</th>\n",
       "      <th>skill_moves</th>\n",
       "      <th>international_reputation</th>\n",
       "      <th>overall_rating</th>\n",
       "    </tr>\n",
       "  </thead>\n",
       "  <tbody>\n",
       "    <tr>\n",
       "      <th>0</th>\n",
       "      <td>26</td>\n",
       "      <td>CM</td>\n",
       "      <td>5'9\"</td>\n",
       "      <td>161lbs</td>\n",
       "      <td>1682</td>\n",
       "      <td>357</td>\n",
       "      <td>4 ★</td>\n",
       "      <td>2★</td>\n",
       "      <td>1 ★</td>\n",
       "      <td>64</td>\n",
       "    </tr>\n",
       "    <tr>\n",
       "      <th>1</th>\n",
       "      <td>30</td>\n",
       "      <td>ST</td>\n",
       "      <td>6'0\"</td>\n",
       "      <td>159lbs</td>\n",
       "      <td>1961</td>\n",
       "      <td>412</td>\n",
       "      <td>3 ★</td>\n",
       "      <td>4★</td>\n",
       "      <td>2 ★</td>\n",
       "      <td>77</td>\n",
       "    </tr>\n",
       "    <tr>\n",
       "      <th>2</th>\n",
       "      <td>33</td>\n",
       "      <td>CAM</td>\n",
       "      <td>5'4\"</td>\n",
       "      <td>134lbs</td>\n",
       "      <td>1925</td>\n",
       "      <td>404</td>\n",
       "      <td>4 ★</td>\n",
       "      <td>4★</td>\n",
       "      <td>2 ★</td>\n",
       "      <td>80</td>\n",
       "    </tr>\n",
       "    <tr>\n",
       "      <th>3</th>\n",
       "      <td>22</td>\n",
       "      <td>CDM</td>\n",
       "      <td>5'10\"</td>\n",
       "      <td>152lbs</td>\n",
       "      <td>1527</td>\n",
       "      <td>329</td>\n",
       "      <td>2 ★</td>\n",
       "      <td>2★</td>\n",
       "      <td>1 ★</td>\n",
       "      <td>59</td>\n",
       "    </tr>\n",
       "    <tr>\n",
       "      <th>4</th>\n",
       "      <td>23</td>\n",
       "      <td>CDM</td>\n",
       "      <td>5'11\"</td>\n",
       "      <td>150lbs</td>\n",
       "      <td>1664</td>\n",
       "      <td>360</td>\n",
       "      <td>2 ★</td>\n",
       "      <td>3★</td>\n",
       "      <td>1 ★</td>\n",
       "      <td>65</td>\n",
       "    </tr>\n",
       "  </tbody>\n",
       "</table>\n",
       "</div>"
      ],
      "text/plain": [
       "   age base_position height  weight  total_stats  base_stats weak_foot  \\\n",
       "0   26            CM   5'9\"  161lbs         1682         357       4 ★   \n",
       "1   30            ST   6'0\"  159lbs         1961         412       3 ★   \n",
       "2   33           CAM   5'4\"  134lbs         1925         404       4 ★   \n",
       "3   22           CDM  5'10\"  152lbs         1527         329       2 ★   \n",
       "4   23           CDM  5'11\"  150lbs         1664         360       2 ★   \n",
       "\n",
       "  skill_moves international_reputation  overall_rating  \n",
       "0          2★                      1 ★              64  \n",
       "1          4★                      2 ★              77  \n",
       "2          4★                      2 ★              80  \n",
       "3          2★                      1 ★              59  \n",
       "4          3★                      1 ★              65  "
      ]
     },
     "execution_count": 855,
     "metadata": {},
     "output_type": "execute_result"
    }
   ],
   "source": [
    "cols = [] \n",
    "for i in range(len(fifa.columns)):\n",
    "    cols.append(fifa.columns[i].lower().replace(' ','_')) #making all columns lowercase and #replacing the spaces with underscores\n",
    "fifa.columns = cols\n",
    "\n",
    "fifa=fifa.rename(columns={\n",
    "'bp':'base_position',\n",
    "'w/f':'weak_foot',\n",
    "'sm':'skill_moves',\n",
    "'ir':'international_reputation',\n",
    "'ova':'overall_rating'\n",
    "})\n",
    "fifa.head()"
   ]
  },
  {
   "cell_type": "code",
   "execution_count": 856,
   "id": "a14bfebb",
   "metadata": {},
   "outputs": [
    {
     "data": {
      "text/plain": [
       "age                          int64\n",
       "base_position               object\n",
       "height                      object\n",
       "weight                      object\n",
       "total_stats                  int64\n",
       "base_stats                   int64\n",
       "weak_foot                   object\n",
       "skill_moves                 object\n",
       "international_reputation    object\n",
       "overall_rating               int64\n",
       "dtype: object"
      ]
     },
     "execution_count": 856,
     "metadata": {},
     "output_type": "execute_result"
    }
   ],
   "source": [
    "fifa.dtypes "
   ]
  },
  {
   "cell_type": "code",
   "execution_count": 857,
   "id": "fb4bbe94",
   "metadata": {},
   "outputs": [
    {
     "data": {
      "text/plain": [
       "age                         0\n",
       "base_position               0\n",
       "height                      0\n",
       "weight                      0\n",
       "total_stats                 0\n",
       "base_stats                  0\n",
       "weak_foot                   0\n",
       "skill_moves                 0\n",
       "international_reputation    0\n",
       "overall_rating              0\n",
       "dtype: int64"
      ]
     },
     "execution_count": 857,
     "metadata": {},
     "output_type": "execute_result"
    }
   ],
   "source": [
    "fifa.isna().sum()"
   ]
  },
  {
   "cell_type": "code",
   "execution_count": 858,
   "id": "8375ec15",
   "metadata": {},
   "outputs": [
    {
     "data": {
      "text/plain": [
       "array(['CM', 'ST', 'CAM', 'CDM', 'LM', 'RB', 'CB', 'RM', 'GK', 'LB', 'RW',\n",
       "       'LWB', 'LW', 'RWB', 'CF'], dtype=object)"
      ]
     },
     "execution_count": 858,
     "metadata": {},
     "output_type": "execute_result"
    }
   ],
   "source": [
    "fifa['base_position'].unique() "
   ]
  },
  {
   "cell_type": "code",
   "execution_count": 859,
   "id": "90400c83",
   "metadata": {},
   "outputs": [
    {
     "data": {
      "text/html": [
       "<div>\n",
       "<style scoped>\n",
       "    .dataframe tbody tr th:only-of-type {\n",
       "        vertical-align: middle;\n",
       "    }\n",
       "\n",
       "    .dataframe tbody tr th {\n",
       "        vertical-align: top;\n",
       "    }\n",
       "\n",
       "    .dataframe thead th {\n",
       "        text-align: right;\n",
       "    }\n",
       "</style>\n",
       "<table border=\"1\" class=\"dataframe\">\n",
       "  <thead>\n",
       "    <tr style=\"text-align: right;\">\n",
       "      <th></th>\n",
       "      <th>age</th>\n",
       "      <th>base_position</th>\n",
       "      <th>height</th>\n",
       "      <th>weight</th>\n",
       "      <th>total_stats</th>\n",
       "      <th>base_stats</th>\n",
       "      <th>weak_foot</th>\n",
       "      <th>skill_moves</th>\n",
       "      <th>international_reputation</th>\n",
       "      <th>overall_rating</th>\n",
       "    </tr>\n",
       "  </thead>\n",
       "  <tbody>\n",
       "    <tr>\n",
       "      <th>0</th>\n",
       "      <td>26</td>\n",
       "      <td>Midfielder</td>\n",
       "      <td>5'9\"</td>\n",
       "      <td>161lbs</td>\n",
       "      <td>1682</td>\n",
       "      <td>357</td>\n",
       "      <td>4 ★</td>\n",
       "      <td>2★</td>\n",
       "      <td>1 ★</td>\n",
       "      <td>64</td>\n",
       "    </tr>\n",
       "    <tr>\n",
       "      <th>1</th>\n",
       "      <td>30</td>\n",
       "      <td>Striker</td>\n",
       "      <td>6'0\"</td>\n",
       "      <td>159lbs</td>\n",
       "      <td>1961</td>\n",
       "      <td>412</td>\n",
       "      <td>3 ★</td>\n",
       "      <td>4★</td>\n",
       "      <td>2 ★</td>\n",
       "      <td>77</td>\n",
       "    </tr>\n",
       "    <tr>\n",
       "      <th>2</th>\n",
       "      <td>33</td>\n",
       "      <td>Midfielder</td>\n",
       "      <td>5'4\"</td>\n",
       "      <td>134lbs</td>\n",
       "      <td>1925</td>\n",
       "      <td>404</td>\n",
       "      <td>4 ★</td>\n",
       "      <td>4★</td>\n",
       "      <td>2 ★</td>\n",
       "      <td>80</td>\n",
       "    </tr>\n",
       "    <tr>\n",
       "      <th>3</th>\n",
       "      <td>22</td>\n",
       "      <td>Midfielder</td>\n",
       "      <td>5'10\"</td>\n",
       "      <td>152lbs</td>\n",
       "      <td>1527</td>\n",
       "      <td>329</td>\n",
       "      <td>2 ★</td>\n",
       "      <td>2★</td>\n",
       "      <td>1 ★</td>\n",
       "      <td>59</td>\n",
       "    </tr>\n",
       "    <tr>\n",
       "      <th>4</th>\n",
       "      <td>23</td>\n",
       "      <td>Midfielder</td>\n",
       "      <td>5'11\"</td>\n",
       "      <td>150lbs</td>\n",
       "      <td>1664</td>\n",
       "      <td>360</td>\n",
       "      <td>2 ★</td>\n",
       "      <td>3★</td>\n",
       "      <td>1 ★</td>\n",
       "      <td>65</td>\n",
       "    </tr>\n",
       "  </tbody>\n",
       "</table>\n",
       "</div>"
      ],
      "text/plain": [
       "   age base_position height  weight  total_stats  base_stats weak_foot  \\\n",
       "0   26    Midfielder   5'9\"  161lbs         1682         357       4 ★   \n",
       "1   30       Striker   6'0\"  159lbs         1961         412       3 ★   \n",
       "2   33    Midfielder   5'4\"  134lbs         1925         404       4 ★   \n",
       "3   22    Midfielder  5'10\"  152lbs         1527         329       2 ★   \n",
       "4   23    Midfielder  5'11\"  150lbs         1664         360       2 ★   \n",
       "\n",
       "  skill_moves international_reputation  overall_rating  \n",
       "0          2★                      1 ★              64  \n",
       "1          4★                      2 ★              77  \n",
       "2          4★                      2 ★              80  \n",
       "3          2★                      1 ★              59  \n",
       "4          3★                      1 ★              65  "
      ]
     },
     "execution_count": 859,
     "metadata": {},
     "output_type": "execute_result"
    }
   ],
   "source": [
    "def simplify(df):\n",
    "    df.loc[df['base_position'] == \"CM\", 'base_position'] = \"Midfielder\"\n",
    "    df.loc[df['base_position'] == \"CAM\", 'base_position'] = \"Midfielder\"\n",
    "    df.loc[df['base_position'] == \"CDM\", 'base_position'] = \"Midfielder\"\n",
    "    df.loc[df['base_position'] == \"LM\", 'base_position'] = \"Midfielder\"\n",
    "    df.loc[df['base_position'] == \"RM\", 'base_position'] = \"Midfielder\"\n",
    "    df.loc[df['base_position'] == \"ST\", 'base_position'] = \"Striker\"\n",
    "    df.loc[df['base_position'] == \"RB\", 'base_position'] = \"Back\"\n",
    "    df.loc[df['base_position'] == \"CB\", 'base_position'] = \"Back\"\n",
    "    df.loc[df['base_position'] == \"LB\", 'base_position'] = \"Back\"\n",
    "    df.loc[df['base_position'] == \"LWB\", 'base_position'] = \"Back\"\n",
    "    df.loc[df['base_position'] == \"RWB\", 'base_position'] = \"Back\"\n",
    "    df.loc[df['base_position'] == \"LW\", 'base_position'] = \"Wing\"\n",
    "    df.loc[df['base_position'] == \"RW\", 'base_position'] = \"Wing\"\n",
    "    df.loc[df['base_position'] == \"CF\", 'base_position'] = \"Forward\"\n",
    "    df.loc[df['base_position'] == \"GK\", 'base_position'] = \"Goalkeeper\"  \n",
    "    return df\n",
    "\n",
    "fifa = simplify(fifa)\n",
    "fifa.head()"
   ]
  },
  {
   "cell_type": "code",
   "execution_count": 860,
   "id": "223cb577",
   "metadata": {},
   "outputs": [
    {
     "data": {
      "text/html": [
       "<div>\n",
       "<style scoped>\n",
       "    .dataframe tbody tr th:only-of-type {\n",
       "        vertical-align: middle;\n",
       "    }\n",
       "\n",
       "    .dataframe tbody tr th {\n",
       "        vertical-align: top;\n",
       "    }\n",
       "\n",
       "    .dataframe thead th {\n",
       "        text-align: right;\n",
       "    }\n",
       "</style>\n",
       "<table border=\"1\" class=\"dataframe\">\n",
       "  <thead>\n",
       "    <tr style=\"text-align: right;\">\n",
       "      <th></th>\n",
       "      <th>age</th>\n",
       "      <th>base_position</th>\n",
       "      <th>height</th>\n",
       "      <th>weight</th>\n",
       "      <th>total_stats</th>\n",
       "      <th>base_stats</th>\n",
       "      <th>weak_foot</th>\n",
       "      <th>skill_moves</th>\n",
       "      <th>international_reputation</th>\n",
       "      <th>overall_rating</th>\n",
       "    </tr>\n",
       "  </thead>\n",
       "  <tbody>\n",
       "    <tr>\n",
       "      <th>0</th>\n",
       "      <td>26</td>\n",
       "      <td>Midfielder</td>\n",
       "      <td>175.0</td>\n",
       "      <td>161</td>\n",
       "      <td>1682</td>\n",
       "      <td>357</td>\n",
       "      <td>4</td>\n",
       "      <td>2</td>\n",
       "      <td>1</td>\n",
       "      <td>64</td>\n",
       "    </tr>\n",
       "    <tr>\n",
       "      <th>1</th>\n",
       "      <td>30</td>\n",
       "      <td>Striker</td>\n",
       "      <td>183.0</td>\n",
       "      <td>159</td>\n",
       "      <td>1961</td>\n",
       "      <td>412</td>\n",
       "      <td>3</td>\n",
       "      <td>4</td>\n",
       "      <td>2</td>\n",
       "      <td>77</td>\n",
       "    </tr>\n",
       "    <tr>\n",
       "      <th>2</th>\n",
       "      <td>33</td>\n",
       "      <td>Midfielder</td>\n",
       "      <td>163.0</td>\n",
       "      <td>134</td>\n",
       "      <td>1925</td>\n",
       "      <td>404</td>\n",
       "      <td>4</td>\n",
       "      <td>4</td>\n",
       "      <td>2</td>\n",
       "      <td>80</td>\n",
       "    </tr>\n",
       "    <tr>\n",
       "      <th>3</th>\n",
       "      <td>22</td>\n",
       "      <td>Midfielder</td>\n",
       "      <td>178.0</td>\n",
       "      <td>152</td>\n",
       "      <td>1527</td>\n",
       "      <td>329</td>\n",
       "      <td>2</td>\n",
       "      <td>2</td>\n",
       "      <td>1</td>\n",
       "      <td>59</td>\n",
       "    </tr>\n",
       "    <tr>\n",
       "      <th>4</th>\n",
       "      <td>23</td>\n",
       "      <td>Midfielder</td>\n",
       "      <td>180.0</td>\n",
       "      <td>150</td>\n",
       "      <td>1664</td>\n",
       "      <td>360</td>\n",
       "      <td>2</td>\n",
       "      <td>3</td>\n",
       "      <td>1</td>\n",
       "      <td>65</td>\n",
       "    </tr>\n",
       "  </tbody>\n",
       "</table>\n",
       "</div>"
      ],
      "text/plain": [
       "   age base_position  height  weight  total_stats  base_stats  weak_foot  \\\n",
       "0   26    Midfielder   175.0     161         1682         357          4   \n",
       "1   30       Striker   183.0     159         1961         412          3   \n",
       "2   33    Midfielder   163.0     134         1925         404          4   \n",
       "3   22    Midfielder   178.0     152         1527         329          2   \n",
       "4   23    Midfielder   180.0     150         1664         360          2   \n",
       "\n",
       "   skill_moves  international_reputation  overall_rating  \n",
       "0            2                         1              64  \n",
       "1            4                         2              77  \n",
       "2            4                         2              80  \n",
       "3            2                         1              59  \n",
       "4            3                         1              65  "
      ]
     },
     "execution_count": 860,
     "metadata": {},
     "output_type": "execute_result"
    }
   ],
   "source": [
    "def change_height_feetinch_to_cm(height):\n",
    "    feet = int(height.split(\"'\")[0]) \n",
    "    inch = int(height.split(\"'\")[1][:-1])\n",
    "    result = ((feet * 30.48) + (inch * 2.54))\n",
    "    result = (round( result,0))\n",
    "    return result\n",
    "fifa['height'] = fifa['height'].apply(lambda x: change_height_feetinch_to_cm(x))\n",
    "fifa['weight'] = fifa['weight'].map(lambda x: x.rstrip('lbs'))\n",
    "fifa['weight'] = pd.to_numeric(fifa['weight'], errors='coerce')\n",
    "fifa['weak_foot'] = fifa['weak_foot'].str.replace('★','')\n",
    "fifa['weak_foot'] = pd.to_numeric(fifa['weak_foot'], errors='coerce')\n",
    "fifa['skill_moves'] = fifa['skill_moves'].str.replace('★','')\n",
    "fifa['skill_moves'] = pd.to_numeric(fifa['skill_moves'], errors='coerce')\n",
    "fifa['international_reputation'] = fifa['international_reputation'].str.replace('★','')\n",
    "fifa['international_reputation'] = pd.to_numeric(fifa['international_reputation'], errors='coerce')\n",
    "fifa.head()"
   ]
  },
  {
   "cell_type": "markdown",
   "id": "3c920cbf",
   "metadata": {},
   "source": [
    "### Which columns are categorical?"
   ]
  },
  {
   "cell_type": "code",
   "execution_count": 861,
   "id": "67da87b2",
   "metadata": {},
   "outputs": [],
   "source": [
    "numerical=fifa.select_dtypes(np.number)\n",
    "categoricals=fifa.select_dtypes(object)"
   ]
  },
  {
   "cell_type": "markdown",
   "id": "bdb057f1",
   "metadata": {},
   "source": [
    "### Distribution"
   ]
  },
  {
   "cell_type": "code",
   "execution_count": 862,
   "id": "4ff3b632",
   "metadata": {
    "scrolled": false
   },
   "outputs": [
    {
     "data": {
      "image/png": "[encoded data removed]",
      "text/plain": [
       "<Figure size 360x360 with 1 Axes>"
      ]
     },
     "metadata": {
      "needs_background": "light"
     },
     "output_type": "display_data"
    },
    {
     "data": {
      "image/png": "[encoded data removed]",
      "text/plain": [
       "<Figure size 360x360 with 1 Axes>"
      ]
     },
     "metadata": {
      "needs_background": "light"
     },
     "output_type": "display_data"
    },
    {
     "data": {
      "image/png": "[encoded data removed]",
      "text/plain": [
       "<Figure size 360x360 with 1 Axes>"
      ]
     },
     "metadata": {
      "needs_background": "light"
     },
     "output_type": "display_data"
    },
    {
     "data": {
      "image/png": "[encoded data removed]",
      "text/plain": [
       "<Figure size 360x360 with 1 Axes>"
      ]
     },
     "metadata": {
      "needs_background": "light"
     },
     "output_type": "display_data"
    },
    {
     "data": {
      "image/png": "[encoded data removed]",
      "text/plain": [
       "<Figure size 360x360 with 1 Axes>"
      ]
     },
     "metadata": {
      "needs_background": "light"
     },
     "output_type": "display_data"
    },
    {
     "data": {
      "image/png": "[encoded data removed]",
      "text/plain": [
       "<Figure size 360x360 with 1 Axes>"
      ]
     },
     "metadata": {
      "needs_background": "light"
     },
     "output_type": "display_data"
    },
    {
     "data": {
      "image/png": "[encoded data removed]",
      "text/plain": [
       "<Figure size 360x360 with 1 Axes>"
      ]
     },
     "metadata": {
      "needs_background": "light"
     },
     "output_type": "display_data"
    },
    {
     "data": {
      "image/png": "[encoded data removed]",
      "text/plain": [
       "<Figure size 360x360 with 1 Axes>"
      ]
     },
     "metadata": {
      "needs_background": "light"
     },
     "output_type": "display_data"
    },
    {
     "data": {
      "image/png": "[encoded data removed]",
      "text/plain": [
       "<Figure size 360x360 with 1 Axes>"
      ]
     },
     "metadata": {
      "needs_background": "light"
     },
     "output_type": "display_data"
    }
   ],
   "source": [
    "for cols in numerical_data.columns:\n",
    "    sns.displot(numerical_data[cols],kde = True)\n",
    "    plt.show()"
   ]
  },
  {
   "cell_type": "markdown",
   "id": "6bff7961",
   "metadata": {},
   "source": [
    "### Correlation"
   ]
  },
  {
   "cell_type": "code",
   "execution_count": 863,
   "id": "8515c2aa",
   "metadata": {},
   "outputs": [
    {
     "data": {
      "image/png": "[encoded data removed]",
      "text/plain": [
       "<Figure size 720x720 with 2 Axes>"
      ]
     },
     "metadata": {
      "needs_background": "light"
     },
     "output_type": "display_data"
    }
   ],
   "source": [
    "\n",
    "fig, ax = plt.subplots(figsize=(10,10))\n",
    "correlations = numerical_data.corr()\n",
    "sns.heatmap(round(correlations,2), annot=True)\n",
    "plt.show()"
   ]
  },
  {
   "cell_type": "code",
   "execution_count": 864,
   "id": "257dadc3",
   "metadata": {},
   "outputs": [
    {
     "name": "stdout",
     "output_type": "stream",
     "text": [
      "(11701,) (11701, 9)\n"
     ]
    }
   ],
   "source": [
    "y = fifa['overall_rating'] # lowercase y: target feature \n",
    "X = fifa.drop(['overall_rating'], axis=1) # UPPERCASE X: predictors\n",
    "\n",
    "print(y.shape, X.shape)"
   ]
  },
  {
   "cell_type": "code",
   "execution_count": 865,
   "id": "0036bc07",
   "metadata": {},
   "outputs": [
    {
     "data": {
      "text/html": [
       "<div>\n",
       "<style scoped>\n",
       "    .dataframe tbody tr th:only-of-type {\n",
       "        vertical-align: middle;\n",
       "    }\n",
       "\n",
       "    .dataframe tbody tr th {\n",
       "        vertical-align: top;\n",
       "    }\n",
       "\n",
       "    .dataframe thead th {\n",
       "        text-align: right;\n",
       "    }\n",
       "</style>\n",
       "<table border=\"1\" class=\"dataframe\">\n",
       "  <thead>\n",
       "    <tr style=\"text-align: right;\">\n",
       "      <th></th>\n",
       "      <th>age</th>\n",
       "      <th>height</th>\n",
       "      <th>weight</th>\n",
       "      <th>total_stats</th>\n",
       "      <th>base_stats</th>\n",
       "      <th>weak_foot</th>\n",
       "      <th>skill_moves</th>\n",
       "      <th>international_reputation</th>\n",
       "    </tr>\n",
       "  </thead>\n",
       "  <tbody>\n",
       "    <tr>\n",
       "      <th>0</th>\n",
       "      <td>26</td>\n",
       "      <td>175.0</td>\n",
       "      <td>161</td>\n",
       "      <td>1682</td>\n",
       "      <td>357</td>\n",
       "      <td>4</td>\n",
       "      <td>2</td>\n",
       "      <td>1</td>\n",
       "    </tr>\n",
       "    <tr>\n",
       "      <th>1</th>\n",
       "      <td>30</td>\n",
       "      <td>183.0</td>\n",
       "      <td>159</td>\n",
       "      <td>1961</td>\n",
       "      <td>412</td>\n",
       "      <td>3</td>\n",
       "      <td>4</td>\n",
       "      <td>2</td>\n",
       "    </tr>\n",
       "    <tr>\n",
       "      <th>2</th>\n",
       "      <td>33</td>\n",
       "      <td>163.0</td>\n",
       "      <td>134</td>\n",
       "      <td>1925</td>\n",
       "      <td>404</td>\n",
       "      <td>4</td>\n",
       "      <td>4</td>\n",
       "      <td>2</td>\n",
       "    </tr>\n",
       "    <tr>\n",
       "      <th>3</th>\n",
       "      <td>22</td>\n",
       "      <td>178.0</td>\n",
       "      <td>152</td>\n",
       "      <td>1527</td>\n",
       "      <td>329</td>\n",
       "      <td>2</td>\n",
       "      <td>2</td>\n",
       "      <td>1</td>\n",
       "    </tr>\n",
       "    <tr>\n",
       "      <th>4</th>\n",
       "      <td>23</td>\n",
       "      <td>180.0</td>\n",
       "      <td>150</td>\n",
       "      <td>1664</td>\n",
       "      <td>360</td>\n",
       "      <td>2</td>\n",
       "      <td>3</td>\n",
       "      <td>1</td>\n",
       "    </tr>\n",
       "  </tbody>\n",
       "</table>\n",
       "</div>"
      ],
      "text/plain": [
       "   age  height  weight  total_stats  base_stats  weak_foot  skill_moves  \\\n",
       "0   26   175.0     161         1682         357          4            2   \n",
       "1   30   183.0     159         1961         412          3            4   \n",
       "2   33   163.0     134         1925         404          4            4   \n",
       "3   22   178.0     152         1527         329          2            2   \n",
       "4   23   180.0     150         1664         360          2            3   \n",
       "\n",
       "   international_reputation  \n",
       "0                         1  \n",
       "1                         2  \n",
       "2                         2  \n",
       "3                         1  \n",
       "4                         1  "
      ]
     },
     "execution_count": 865,
     "metadata": {},
     "output_type": "execute_result"
    }
   ],
   "source": [
    "X_num=X.select_dtypes(np.number)\n",
    "X_cat=X.select_dtypes(object)\n",
    "X_num.head()"
   ]
  },
  {
   "cell_type": "code",
   "execution_count": 866,
   "id": "0061aab6",
   "metadata": {},
   "outputs": [
    {
     "name": "stdout",
     "output_type": "stream",
     "text": [
      "(11701, 8)\n"
     ]
    },
    {
     "data": {
      "text/html": [
       "<div>\n",
       "<style scoped>\n",
       "    .dataframe tbody tr th:only-of-type {\n",
       "        vertical-align: middle;\n",
       "    }\n",
       "\n",
       "    .dataframe tbody tr th {\n",
       "        vertical-align: top;\n",
       "    }\n",
       "\n",
       "    .dataframe thead th {\n",
       "        text-align: right;\n",
       "    }\n",
       "</style>\n",
       "<table border=\"1\" class=\"dataframe\">\n",
       "  <thead>\n",
       "    <tr style=\"text-align: right;\">\n",
       "      <th></th>\n",
       "      <th>age</th>\n",
       "      <th>height</th>\n",
       "      <th>weight</th>\n",
       "      <th>total_stats</th>\n",
       "      <th>base_stats</th>\n",
       "      <th>weak_foot</th>\n",
       "      <th>skill_moves</th>\n",
       "      <th>international_reputation</th>\n",
       "    </tr>\n",
       "  </thead>\n",
       "  <tbody>\n",
       "    <tr>\n",
       "      <th>0</th>\n",
       "      <td>0.370370</td>\n",
       "      <td>0.392157</td>\n",
       "      <td>0.349206</td>\n",
       "      <td>0.604577</td>\n",
       "      <td>0.492366</td>\n",
       "      <td>0.75</td>\n",
       "      <td>0.25</td>\n",
       "      <td>0.00</td>\n",
       "    </tr>\n",
       "    <tr>\n",
       "      <th>1</th>\n",
       "      <td>0.518519</td>\n",
       "      <td>0.549020</td>\n",
       "      <td>0.333333</td>\n",
       "      <td>0.781945</td>\n",
       "      <td>0.702290</td>\n",
       "      <td>0.50</td>\n",
       "      <td>0.75</td>\n",
       "      <td>0.25</td>\n",
       "    </tr>\n",
       "    <tr>\n",
       "      <th>2</th>\n",
       "      <td>0.629630</td>\n",
       "      <td>0.156863</td>\n",
       "      <td>0.134921</td>\n",
       "      <td>0.759059</td>\n",
       "      <td>0.671756</td>\n",
       "      <td>0.75</td>\n",
       "      <td>0.75</td>\n",
       "      <td>0.25</td>\n",
       "    </tr>\n",
       "    <tr>\n",
       "      <th>3</th>\n",
       "      <td>0.222222</td>\n",
       "      <td>0.450980</td>\n",
       "      <td>0.277778</td>\n",
       "      <td>0.506039</td>\n",
       "      <td>0.385496</td>\n",
       "      <td>0.25</td>\n",
       "      <td>0.25</td>\n",
       "      <td>0.00</td>\n",
       "    </tr>\n",
       "    <tr>\n",
       "      <th>4</th>\n",
       "      <td>0.259259</td>\n",
       "      <td>0.490196</td>\n",
       "      <td>0.261905</td>\n",
       "      <td>0.593134</td>\n",
       "      <td>0.503817</td>\n",
       "      <td>0.25</td>\n",
       "      <td>0.50</td>\n",
       "      <td>0.00</td>\n",
       "    </tr>\n",
       "    <tr>\n",
       "      <th>...</th>\n",
       "      <td>...</td>\n",
       "      <td>...</td>\n",
       "      <td>...</td>\n",
       "      <td>...</td>\n",
       "      <td>...</td>\n",
       "      <td>...</td>\n",
       "      <td>...</td>\n",
       "      <td>...</td>\n",
       "    </tr>\n",
       "    <tr>\n",
       "      <th>11696</th>\n",
       "      <td>0.333333</td>\n",
       "      <td>0.588235</td>\n",
       "      <td>0.404762</td>\n",
       "      <td>0.545455</td>\n",
       "      <td>0.454198</td>\n",
       "      <td>0.50</td>\n",
       "      <td>0.25</td>\n",
       "      <td>0.00</td>\n",
       "    </tr>\n",
       "    <tr>\n",
       "      <th>11697</th>\n",
       "      <td>0.407407</td>\n",
       "      <td>0.588235</td>\n",
       "      <td>0.452381</td>\n",
       "      <td>0.249205</td>\n",
       "      <td>0.606870</td>\n",
       "      <td>0.25</td>\n",
       "      <td>0.00</td>\n",
       "      <td>0.00</td>\n",
       "    </tr>\n",
       "    <tr>\n",
       "      <th>11698</th>\n",
       "      <td>0.222222</td>\n",
       "      <td>0.254902</td>\n",
       "      <td>0.206349</td>\n",
       "      <td>0.554355</td>\n",
       "      <td>0.416031</td>\n",
       "      <td>0.50</td>\n",
       "      <td>0.50</td>\n",
       "      <td>0.00</td>\n",
       "    </tr>\n",
       "    <tr>\n",
       "      <th>11699</th>\n",
       "      <td>0.370370</td>\n",
       "      <td>0.647059</td>\n",
       "      <td>0.492063</td>\n",
       "      <td>0.443738</td>\n",
       "      <td>0.656489</td>\n",
       "      <td>0.50</td>\n",
       "      <td>0.00</td>\n",
       "      <td>0.50</td>\n",
       "    </tr>\n",
       "    <tr>\n",
       "      <th>11700</th>\n",
       "      <td>0.222222</td>\n",
       "      <td>0.294118</td>\n",
       "      <td>0.206349</td>\n",
       "      <td>0.556898</td>\n",
       "      <td>0.412214</td>\n",
       "      <td>0.50</td>\n",
       "      <td>0.50</td>\n",
       "      <td>0.00</td>\n",
       "    </tr>\n",
       "  </tbody>\n",
       "</table>\n",
       "<p>11701 rows × 8 columns</p>\n",
       "</div>"
      ],
      "text/plain": [
       "            age    height    weight  total_stats  base_stats  weak_foot  \\\n",
       "0      0.370370  0.392157  0.349206     0.604577    0.492366       0.75   \n",
       "1      0.518519  0.549020  0.333333     0.781945    0.702290       0.50   \n",
       "2      0.629630  0.156863  0.134921     0.759059    0.671756       0.75   \n",
       "3      0.222222  0.450980  0.277778     0.506039    0.385496       0.25   \n",
       "4      0.259259  0.490196  0.261905     0.593134    0.503817       0.25   \n",
       "...         ...       ...       ...          ...         ...        ...   \n",
       "11696  0.333333  0.588235  0.404762     0.545455    0.454198       0.50   \n",
       "11697  0.407407  0.588235  0.452381     0.249205    0.606870       0.25   \n",
       "11698  0.222222  0.254902  0.206349     0.554355    0.416031       0.50   \n",
       "11699  0.370370  0.647059  0.492063     0.443738    0.656489       0.50   \n",
       "11700  0.222222  0.294118  0.206349     0.556898    0.412214       0.50   \n",
       "\n",
       "       skill_moves  international_reputation  \n",
       "0             0.25                      0.00  \n",
       "1             0.75                      0.25  \n",
       "2             0.75                      0.25  \n",
       "3             0.25                      0.00  \n",
       "4             0.50                      0.00  \n",
       "...            ...                       ...  \n",
       "11696         0.25                      0.00  \n",
       "11697         0.00                      0.00  \n",
       "11698         0.50                      0.00  \n",
       "11699         0.00                      0.50  \n",
       "11700         0.50                      0.00  \n",
       "\n",
       "[11701 rows x 8 columns]"
      ]
     },
     "execution_count": 866,
     "metadata": {},
     "output_type": "execute_result"
    }
   ],
   "source": [
    "\n",
    "transformer = MinMaxScaler().fit(X_num)\n",
    "numerical_normalized = transformer.transform(X_num)\n",
    "print(numerical_normalized.shape)\n",
    "numerical_normalized\n",
    "numerical_normalized_df = pd.DataFrame(numerical_normalized, columns=X_num.columns)\n",
    "numerical_normalized_df"
   ]
  },
  {
   "cell_type": "code",
   "execution_count": 867,
   "id": "29f7a393",
   "metadata": {},
   "outputs": [],
   "source": [
    "# from sklearn.preprocessing import OneHotEncoder\n",
    "# encoder = OneHotEncoder(drop='first').fit(X_cat)\n",
    "# cols=encoder.get_feature_names(input_features=X_cat.columns)\n",
    "# encoded = encoder.transform(X_cat).toarray() #we want to transform the X_cut and make it an array\n",
    "# onehot_encoded = pd.DataFrame(encoded,columns=cols) #make it a df\n",
    "# onehot_encoded.head(20)\n",
    "# #onehot_encoded.shape"
   ]
  },
  {
   "cell_type": "code",
   "execution_count": 868,
   "id": "89891e92",
   "metadata": {},
   "outputs": [
    {
     "data": {
      "text/html": [
       "<div>\n",
       "<style scoped>\n",
       "    .dataframe tbody tr th:only-of-type {\n",
       "        vertical-align: middle;\n",
       "    }\n",
       "\n",
       "    .dataframe tbody tr th {\n",
       "        vertical-align: top;\n",
       "    }\n",
       "\n",
       "    .dataframe thead th {\n",
       "        text-align: right;\n",
       "    }\n",
       "</style>\n",
       "<table border=\"1\" class=\"dataframe\">\n",
       "  <thead>\n",
       "    <tr style=\"text-align: right;\">\n",
       "      <th></th>\n",
       "      <th>base_position</th>\n",
       "    </tr>\n",
       "  </thead>\n",
       "  <tbody>\n",
       "    <tr>\n",
       "      <th>0</th>\n",
       "      <td>Midfielder</td>\n",
       "    </tr>\n",
       "    <tr>\n",
       "      <th>1</th>\n",
       "      <td>Striker</td>\n",
       "    </tr>\n",
       "    <tr>\n",
       "      <th>2</th>\n",
       "      <td>Midfielder</td>\n",
       "    </tr>\n",
       "    <tr>\n",
       "      <th>3</th>\n",
       "      <td>Midfielder</td>\n",
       "    </tr>\n",
       "    <tr>\n",
       "      <th>4</th>\n",
       "      <td>Midfielder</td>\n",
       "    </tr>\n",
       "  </tbody>\n",
       "</table>\n",
       "</div>"
      ],
      "text/plain": [
       "  base_position\n",
       "0    Midfielder\n",
       "1       Striker\n",
       "2    Midfielder\n",
       "3    Midfielder\n",
       "4    Midfielder"
      ]
     },
     "execution_count": 868,
     "metadata": {},
     "output_type": "execute_result"
    }
   ],
   "source": [
    "encoder = OneHotEncoder(drop='first').fit(X_cat)\n",
    "encoded_cols = encoder.get_feature_names_out(input_features=X_cat.columns)\n",
    "categorical_encoded = encoder.transform(X_cat).toarray()\n",
    "\n",
    "categorical_encoded_df = pd.DataFrame(categorical_encoded, columns=encoded_cols)\n",
    "categorical_encoded_df.head(20)\n",
    "X_cat.head()"
   ]
  },
  {
   "cell_type": "code",
   "execution_count": 869,
   "id": "3135a1cc",
   "metadata": {},
   "outputs": [
    {
     "name": "stdout",
     "output_type": "stream",
     "text": [
      "(11701, 8) (11701, 5)\n"
     ]
    }
   ],
   "source": [
    "print(numerical_normalized_df.shape, categorical_encoded_df.shape)"
   ]
  },
  {
   "cell_type": "code",
   "execution_count": 870,
   "id": "42f4e63c",
   "metadata": {},
   "outputs": [
    {
     "data": {
      "text/plain": [
       "(11701, 13)"
      ]
     },
     "execution_count": 870,
     "metadata": {},
     "output_type": "execute_result"
    }
   ],
   "source": [
    "X = pd.concat([numerical_normalized_df, categorical_encoded_df], axis=1) \n",
    "X.columns\n",
    "X.shape"
   ]
  },
  {
   "cell_type": "code",
   "execution_count": 871,
   "id": "0ffd6ee3",
   "metadata": {},
   "outputs": [],
   "source": [
    "\n",
    "### Splitting into train set and test set.\n"
   ]
  },
  {
   "cell_type": "code",
   "execution_count": 872,
   "id": "cf27aa14",
   "metadata": {},
   "outputs": [
    {
     "name": "stdout",
     "output_type": "stream",
     "text": [
      "(9360, 13)\n",
      "(2341, 13)\n",
      "(9360,)\n",
      "(2341,)\n"
     ]
    }
   ],
   "source": [
    "from sklearn.model_selection import train_test_split\n",
    "X_train, X_test, y_train, y_test = train_test_split(X, y, test_size=0.2, random_state=42)\n",
    "print(X_train.shape)\n",
    "print(X_test.shape)\n",
    "print(y_train.shape)\n",
    "print(y_test.shape)"
   ]
  },
  {
   "cell_type": "code",
   "execution_count": null,
   "id": "e69d21b4",
   "metadata": {},
   "outputs": [],
   "source": []
  },
  {
   "cell_type": "code",
   "execution_count": 873,
   "id": "fffe4fa2",
   "metadata": {},
   "outputs": [
    {
     "data": {
      "text/html": [
       "<div>\n",
       "<style scoped>\n",
       "    .dataframe tbody tr th:only-of-type {\n",
       "        vertical-align: middle;\n",
       "    }\n",
       "\n",
       "    .dataframe tbody tr th {\n",
       "        vertical-align: top;\n",
       "    }\n",
       "\n",
       "    .dataframe thead th {\n",
       "        text-align: right;\n",
       "    }\n",
       "</style>\n",
       "<table border=\"1\" class=\"dataframe\">\n",
       "  <thead>\n",
       "    <tr style=\"text-align: right;\">\n",
       "      <th></th>\n",
       "      <th>age</th>\n",
       "      <th>height</th>\n",
       "      <th>weight</th>\n",
       "      <th>total_stats</th>\n",
       "      <th>base_stats</th>\n",
       "      <th>weak_foot</th>\n",
       "      <th>skill_moves</th>\n",
       "      <th>international_reputation</th>\n",
       "      <th>base_position_Forward</th>\n",
       "      <th>base_position_Goalkeeper</th>\n",
       "      <th>base_position_Midfielder</th>\n",
       "      <th>base_position_Striker</th>\n",
       "      <th>base_position_Wing</th>\n",
       "    </tr>\n",
       "  </thead>\n",
       "  <tbody>\n",
       "    <tr>\n",
       "      <th>1775</th>\n",
       "      <td>0.148148</td>\n",
       "      <td>0.549020</td>\n",
       "      <td>0.380952</td>\n",
       "      <td>0.462174</td>\n",
       "      <td>0.305344</td>\n",
       "      <td>0.50</td>\n",
       "      <td>0.25</td>\n",
       "      <td>0.00</td>\n",
       "      <td>0.0</td>\n",
       "      <td>0.0</td>\n",
       "      <td>0.0</td>\n",
       "      <td>1.0</td>\n",
       "      <td>0.0</td>\n",
       "    </tr>\n",
       "    <tr>\n",
       "      <th>2455</th>\n",
       "      <td>0.444444</td>\n",
       "      <td>0.588235</td>\n",
       "      <td>0.468254</td>\n",
       "      <td>0.619835</td>\n",
       "      <td>0.431298</td>\n",
       "      <td>0.50</td>\n",
       "      <td>0.25</td>\n",
       "      <td>0.00</td>\n",
       "      <td>0.0</td>\n",
       "      <td>0.0</td>\n",
       "      <td>0.0</td>\n",
       "      <td>1.0</td>\n",
       "      <td>0.0</td>\n",
       "    </tr>\n",
       "    <tr>\n",
       "      <th>93</th>\n",
       "      <td>0.629630</td>\n",
       "      <td>0.549020</td>\n",
       "      <td>0.380952</td>\n",
       "      <td>0.575969</td>\n",
       "      <td>0.412214</td>\n",
       "      <td>0.50</td>\n",
       "      <td>0.25</td>\n",
       "      <td>0.25</td>\n",
       "      <td>0.0</td>\n",
       "      <td>0.0</td>\n",
       "      <td>0.0</td>\n",
       "      <td>0.0</td>\n",
       "      <td>0.0</td>\n",
       "    </tr>\n",
       "    <tr>\n",
       "      <th>8952</th>\n",
       "      <td>0.111111</td>\n",
       "      <td>0.549020</td>\n",
       "      <td>0.468254</td>\n",
       "      <td>0.461538</td>\n",
       "      <td>0.335878</td>\n",
       "      <td>0.50</td>\n",
       "      <td>0.25</td>\n",
       "      <td>0.00</td>\n",
       "      <td>0.0</td>\n",
       "      <td>0.0</td>\n",
       "      <td>1.0</td>\n",
       "      <td>0.0</td>\n",
       "      <td>0.0</td>\n",
       "    </tr>\n",
       "    <tr>\n",
       "      <th>7810</th>\n",
       "      <td>0.518519</td>\n",
       "      <td>0.490196</td>\n",
       "      <td>0.420635</td>\n",
       "      <td>0.868404</td>\n",
       "      <td>0.812977</td>\n",
       "      <td>0.75</td>\n",
       "      <td>0.75</td>\n",
       "      <td>0.25</td>\n",
       "      <td>0.0</td>\n",
       "      <td>0.0</td>\n",
       "      <td>0.0</td>\n",
       "      <td>1.0</td>\n",
       "      <td>0.0</td>\n",
       "    </tr>\n",
       "  </tbody>\n",
       "</table>\n",
       "</div>"
      ],
      "text/plain": [
       "           age    height    weight  total_stats  base_stats  weak_foot  \\\n",
       "1775  0.148148  0.549020  0.380952     0.462174    0.305344       0.50   \n",
       "2455  0.444444  0.588235  0.468254     0.619835    0.431298       0.50   \n",
       "93    0.629630  0.549020  0.380952     0.575969    0.412214       0.50   \n",
       "8952  0.111111  0.549020  0.468254     0.461538    0.335878       0.50   \n",
       "7810  0.518519  0.490196  0.420635     0.868404    0.812977       0.75   \n",
       "\n",
       "      skill_moves  international_reputation  base_position_Forward  \\\n",
       "1775         0.25                      0.00                    0.0   \n",
       "2455         0.25                      0.00                    0.0   \n",
       "93           0.25                      0.25                    0.0   \n",
       "8952         0.25                      0.00                    0.0   \n",
       "7810         0.75                      0.25                    0.0   \n",
       "\n",
       "      base_position_Goalkeeper  base_position_Midfielder  \\\n",
       "1775                       0.0                       0.0   \n",
       "2455                       0.0                       0.0   \n",
       "93                         0.0                       0.0   \n",
       "8952                       0.0                       1.0   \n",
       "7810                       0.0                       0.0   \n",
       "\n",
       "      base_position_Striker  base_position_Wing  \n",
       "1775                    1.0                 0.0  \n",
       "2455                    1.0                 0.0  \n",
       "93                      0.0                 0.0  \n",
       "8952                    0.0                 0.0  \n",
       "7810                    1.0                 0.0  "
      ]
     },
     "execution_count": 873,
     "metadata": {},
     "output_type": "execute_result"
    }
   ],
   "source": [
    "X_train.head()"
   ]
  },
  {
   "cell_type": "code",
   "execution_count": 874,
   "id": "a30c142d",
   "metadata": {},
   "outputs": [
    {
     "data": {
      "text/plain": [
       "1775    62\n",
       "2455    74\n",
       "93      69\n",
       "8952    55\n",
       "7810    79\n",
       "Name: overall_rating, dtype: int64"
      ]
     },
     "execution_count": 874,
     "metadata": {},
     "output_type": "execute_result"
    }
   ],
   "source": [
    "y_train.head()"
   ]
  },
  {
   "cell_type": "markdown",
   "id": "1a75468f",
   "metadata": {},
   "source": [
    "## Applying linear regression."
   ]
  },
  {
   "cell_type": "code",
   "execution_count": 875,
   "id": "f81f2b3c",
   "metadata": {},
   "outputs": [
    {
     "data": {
      "text/plain": [
       "LinearRegression()"
      ]
     },
     "execution_count": 875,
     "metadata": {},
     "output_type": "execute_result"
    }
   ],
   "source": [
    "from sklearn.linear_model import LinearRegression\n",
    "lm = linear_model.LinearRegression()\n",
    "lm.fit(X_train,y_train)\n"
   ]
  },
  {
   "cell_type": "markdown",
   "id": "0fc0f9cb",
   "metadata": {},
   "source": [
    "## Model Validation - Description\n"
   ]
  },
  {
   "cell_type": "markdown",
   "id": "1aa322ea",
   "metadata": {},
   "source": [
    "## R2"
   ]
  },
  {
   "cell_type": "code",
   "execution_count": 876,
   "id": "c7d44d7b",
   "metadata": {},
   "outputs": [
    {
     "data": {
      "text/plain": [
       "0.7901340766803813"
      ]
     },
     "execution_count": 876,
     "metadata": {},
     "output_type": "execute_result"
    }
   ],
   "source": [
    "from sklearn.metrics import r2_score\n",
    "predictions_train = lm.predict(X_train)\n",
    "r2_score(y_train, predictions_train)"
   ]
  },
  {
   "cell_type": "code",
   "execution_count": 877,
   "id": "4298dacc",
   "metadata": {},
   "outputs": [
    {
     "data": {
      "text/plain": [
       "0.7988585998466881"
      ]
     },
     "execution_count": 877,
     "metadata": {},
     "output_type": "execute_result"
    }
   ],
   "source": [
    "from sklearn.metrics import r2_score\n",
    "predictions_test = lm.predict(X_test)\n",
    "r2_score(y_test, predictions_test)"
   ]
  },
  {
   "cell_type": "code",
   "execution_count": 843,
   "id": "86f2f2e8",
   "metadata": {},
   "outputs": [],
   "source": [
    "## model validation"
   ]
  },
  {
   "cell_type": "code",
   "execution_count": 878,
   "id": "8d8d7567",
   "metadata": {
    "scrolled": true
   },
   "outputs": [
    {
     "data": {
      "text/plain": [
       "array([53.37015624, 67.42432681, 66.92001941, ..., 59.60677661,\n",
       "       68.84439472, 70.92311939])"
      ]
     },
     "metadata": {},
     "output_type": "display_data"
    },
    {
     "data": {
      "text/plain": [
       "2405     49\n",
       "8025     70\n",
       "10025    62\n",
       "10933    72\n",
       "1402     64\n",
       "         ..\n",
       "11384    71\n",
       "7588     56\n",
       "6029     58\n",
       "9725     71\n",
       "2260     67\n",
       "Name: overall_rating, Length: 2341, dtype: int64"
      ]
     },
     "metadata": {},
     "output_type": "display_data"
    }
   ],
   "source": [
    "display(predictions_test)\n",
    "display(y_test)"
   ]
  },
  {
   "cell_type": "markdown",
   "id": "03f8cf35",
   "metadata": {},
   "source": [
    "## MSE"
   ]
  },
  {
   "cell_type": "code",
   "execution_count": 879,
   "id": "15ccfb3d",
   "metadata": {},
   "outputs": [
    {
     "data": {
      "text/plain": [
       "9.524156090024798"
      ]
     },
     "execution_count": 879,
     "metadata": {},
     "output_type": "execute_result"
    }
   ],
   "source": [
    "from sklearn.metrics import mean_squared_error\n",
    "mse=mean_squared_error(y_test,predictions_test)\n",
    "mse"
   ]
  },
  {
   "cell_type": "markdown",
   "id": "714ebb13",
   "metadata": {},
   "source": [
    "## RMSE"
   ]
  },
  {
   "cell_type": "code",
   "execution_count": 880,
   "id": "faae323a",
   "metadata": {},
   "outputs": [
    {
     "data": {
      "text/plain": [
       "3.08612314887543"
      ]
     },
     "execution_count": 880,
     "metadata": {},
     "output_type": "execute_result"
    }
   ],
   "source": [
    "rmse = np.sqrt(mean_squared_error(y_test,predictions_test))\n",
    "rmse"
   ]
  },
  {
   "cell_type": "markdown",
   "id": "8ecb8626",
   "metadata": {},
   "source": [
    "## MAE"
   ]
  },
  {
   "cell_type": "code",
   "execution_count": 881,
   "id": "89a90c17",
   "metadata": {},
   "outputs": [
    {
     "name": "stdout",
     "output_type": "stream",
     "text": [
      "2.444789544384327\n"
     ]
    }
   ],
   "source": [
    "from sklearn.metrics import mean_absolute_error, r2_score\n",
    "mae = mean_absolute_error(y_test, predictions_test)\n",
    "print(mae)"
   ]
  },
  {
   "cell_type": "code",
   "execution_count": 882,
   "id": "8ebd5b1c",
   "metadata": {},
   "outputs": [
    {
     "data": {
      "text/plain": [
       "(11701, 101)"
      ]
     },
     "execution_count": 882,
     "metadata": {},
     "output_type": "execute_result"
    }
   ],
   "source": [
    "# Writing a function for the model\n",
    "\n",
    "fifa = pd.read_csv('/Users/ayeesha/IH-Labs/lab-customer-analysis-round-2/files_for_lab/csv_files/fifa21_train.csv') ##Read the file into python as a dataframe\n",
    "fifa.shape"
   ]
  },
  {
   "cell_type": "code",
   "execution_count": 885,
   "id": "2a0ec251",
   "metadata": {},
   "outputs": [],
   "source": [
    "def linear_regr(df):\n",
    "    \n",
    "    ## DATA PREPARATION   \n",
    "    df = df.drop(['ID', 'Name', 'Nationality', 'Club', 'Position', 'Team & Contract', 'foot', 'Growth', 'Joined', 'Loan Date End', 'Value', 'Wage', 'Release Clause', 'Contract', 'Attacking', 'Crossing', 'Finishing', 'Heading Accuracy', 'Short Passing', 'Volleys', 'Skill', 'Dribbling', 'Curve', 'FK Accuracy', 'Long Passing', 'Ball Control', 'Movement', 'Acceleration', 'Sprint Speed', 'Agility', 'Reactions', 'Balance', 'Power', 'Shot Power', 'Jumping', 'Stamina', 'Strength', 'Long Shots', 'Mentality', 'Aggression', 'Interceptions', 'Positioning', 'Vision', 'Penalties', 'Composure', 'Defending', 'Marking', 'Standing Tackle', 'Sliding Tackle', 'Goalkeeping', 'GK Diving', 'GK Handling', 'GK Kicking', 'GK Positioning', 'GK Reflexes', 'A/W', 'D/W', 'PAC', 'SHO', 'PAS', 'DRI', 'DEF', 'PHY', 'Hits', 'LS', 'ST', 'RS', 'LW', 'LF', 'CF', 'RF', 'RW', 'LAM', 'CAM', 'RAM', 'LM', 'LCM', 'CM', 'RCM', 'RM', 'LWB', 'LDM', 'CDM', 'RDM', 'RWB', 'LB', 'LCB', 'CB', 'RCB', 'RB', 'GK'], axis=1)\n",
    "    cols = [] \n",
    "    for i in range(len(df.columns)):\n",
    "        cols.append(df.columns[i].lower().replace(' ','_')) #making all columns lowercase and #replacing the spaces with underscores\n",
    "    df.columns = cols\n",
    "\n",
    "    df=df.rename(columns={\n",
    "    'bp':'base_position',\n",
    "    'w/f':'weak_foot',\n",
    "    'sm':'skill_moves',\n",
    "    'ir':'international_reputation',\n",
    "    'ova':'overall_rating'\n",
    "    })\n",
    "    \n",
    "    df.loc[df['base_position'] == \"CM\", 'base_position'] = \"Midfielder\"\n",
    "    df.loc[df['base_position'] == \"CAM\", 'base_position'] = \"Midfielder\"\n",
    "    df.loc[df['base_position'] == \"CDM\", 'base_position'] = \"Midfielder\"\n",
    "    df.loc[df['base_position'] == \"LM\", 'base_position'] = \"Midfielder\"\n",
    "    df.loc[df['base_position'] == \"RM\", 'base_position'] = \"Midfielder\"\n",
    "    df.loc[df['base_position'] == \"ST\", 'base_position'] = \"Striker\"\n",
    "    df.loc[df['base_position'] == \"RB\", 'base_position'] = \"Back\"\n",
    "    df.loc[df['base_position'] == \"CB\", 'base_position'] = \"Back\"\n",
    "    df.loc[df['base_position'] == \"LB\", 'base_position'] = \"Back\"\n",
    "    df.loc[df['base_position'] == \"LWB\", 'base_position'] = \"Back\"\n",
    "    df.loc[df['base_position'] == \"RWB\", 'base_position'] = \"Back\"\n",
    "    df.loc[df['base_position'] == \"LW\", 'base_position'] = \"Wing\"\n",
    "    df.loc[df['base_position'] == \"RW\", 'base_position'] = \"Wing\"\n",
    "    df.loc[df['base_position'] == \"CF\", 'base_position'] = \"Forward\"\n",
    "    df.loc[df['base_position'] == \"GK\", 'base_position'] = \"Goalkeeper\"\n",
    "\n",
    "    def change_height_feetinch_to_cm(height):\n",
    "        feet = int(height.split(\"'\")[0])\n",
    "        inch = int(height.split(\"'\")[1][:-1])\n",
    "        result = ((feet * 30.48) + (inch * 2.54))\n",
    "        result=round(result,0)\n",
    "        return result\n",
    "\n",
    "    df['height'] = df['height'].apply(lambda x: change_height_feetinch_to_cm(x))\n",
    "    df['weight'] = df['weight'].map(lambda x: x.rstrip('lbs'))\n",
    "    df['weight'] = pd.to_numeric(df['weight'], errors='coerce')\n",
    "    df['weak_foot'] = df['weak_foot'].str.replace('★','')\n",
    "    df['weak_foot'] = pd.to_numeric(df['weak_foot'], errors='coerce')\n",
    "    df['skill_moves'] = df['skill_moves'].str.replace('★','')\n",
    "    df['skill_moves'] = pd.to_numeric(df['skill_moves'], errors='coerce')\n",
    "    df['international_reputation'] = df['international_reputation'].str.replace('★','')\n",
    "    df['international_reputation'] = pd.to_numeric(df['international_reputation'], errors='coerce')\n",
    "    \n",
    "    ## X-y split    \n",
    "    y = df['overall_rating'] # lowercase y: target feature \n",
    "    X = df.drop(['overall_rating'], axis=1) # UPPERCASE X: predictors\n",
    "\n",
    "    ## Separating the numerical and categorical columns in df X    \n",
    "    X_num=X.select_dtypes(np.number)\n",
    "    X_cat=X.select_dtypes(object)\n",
    "    \n",
    "    ## Normalizing X_num\n",
    "    from sklearn.preprocessing import MinMaxScaler\n",
    "    transformer = MinMaxScaler().fit(X_num)\n",
    "    X_normalized = transformer.transform(X_num) #X_normalized here is not in the form of a df.\n",
    "    X_normalized=pd.DataFrame(X_normalized, columns=X_num.columns) #making it a df\n",
    "    \n",
    "    ## One-hot encoding\n",
    "    from sklearn.preprocessing import OneHotEncoder\n",
    "    encoder = OneHotEncoder(drop='first').fit(X_cat)\n",
    "    cols=encoder.get_feature_names_out(input_features=X_cat.columns)\n",
    "    encoded = encoder.transform(X_cat).toarray() #we want to transform the X_cut and make it an array\n",
    "    onehot_encoded = pd.DataFrame(encoded,columns=cols) #make it a df\n",
    "    \n",
    "    ##Concatanation before model building\n",
    "    X = pd.concat([X_normalized, onehot_encoded], axis=1) #All the features are concat.ed\n",
    "    \n",
    "    ##Linear Regression\n",
    "    \n",
    "    #Train-test split\n",
    "    \n",
    "    from sklearn.model_selection import train_test_split\n",
    "    X_train, X_test, y_train, y_test = train_test_split(X, y, test_size=0.2, random_state=42)\n",
    "    \n",
    "    #Apply linear regression\n",
    "    from sklearn.linear_model import LinearRegression\n",
    "    lm = linear_model.LinearRegression()\n",
    "    lm.fit(X_train,y_train)\n",
    "    from sklearn.metrics import r2_score\n",
    "    predictions = lm.predict(X_train)\n",
    "    r2_score(y_train, predictions)\n",
    "    predictions_test = lm.predict(X_test)\n",
    "    r2_score(y_test, predictions_test)\n",
    "    print('Actual overall rating: ')\n",
    "    print(y_test[:10])\n",
    "    print('')\n",
    "    print('Predicted overall rating:')\n",
    "    print(predictions_test[:10])\n",
    "    \n",
    "    #Validation\n",
    "    from sklearn.metrics import mean_squared_error,mean_absolute_error\n",
    "    mse=mean_squared_error(y_test,predictions_test)\n",
    "    mae = mean_absolute_error(y_test, predictions_test)\n",
    "    rmse = np.sqrt(mse)\n",
    "    r2_train = r2_score(y_train, predictions)\n",
    "    r2_test = r2_score(y_test, predictions_test)\n",
    "\n",
    "    print('')\n",
    "    print('Linear regression model validation metrics:')\n",
    "    print('Mean squared error: ', mse)\n",
    "    print('Mean absolute error:', mae)\n",
    "    print('Root mean squared error:', rmse)\n",
    "    print('train r2:', r2_train)\n",
    "    print('test r2:', r2_test)\n",
    "  "
   ]
  },
  {
   "cell_type": "code",
   "execution_count": 886,
   "id": "b5c238b6",
   "metadata": {},
   "outputs": [
    {
     "name": "stdout",
     "output_type": "stream",
     "text": [
      "Actual overall rating: \n",
      "2405     49\n",
      "8025     70\n",
      "10025    62\n",
      "10933    72\n",
      "1402     64\n",
      "8944     74\n",
      "2727     69\n",
      "1595     60\n",
      "3247     61\n",
      "2751     70\n",
      "Name: overall_rating, dtype: int64\n",
      "\n",
      "Predicted overall rating:\n",
      "[53.37015624 67.42432681 66.92001941 72.21157593 67.87277055 70.56669213\n",
      " 73.45492867 60.98840747 64.83887363 76.73965467]\n",
      "\n",
      "Linear regression model validation metrics:\n",
      "Mean squared error:  9.524156090024798\n",
      "Mean absolute error: 2.444789544384327\n",
      "Root mean squared error: 3.08612314887543\n",
      "train r2: 0.7901340766803813\n",
      "test r2: 0.7988585998466881\n"
     ]
    }
   ],
   "source": [
    "linear_regr(fifa)"
   ]
  },
  {
   "cell_type": "code",
   "execution_count": null,
   "id": "d3724aac",
   "metadata": {},
   "outputs": [],
   "source": []
  },
  {
   "cell_type": "code",
   "execution_count": null,
   "id": "2f56356d",
   "metadata": {},
   "outputs": [],
   "source": []
  },
  {
   "cell_type": "code",
   "execution_count": null,
   "id": "7b47865a",
   "metadata": {},
   "outputs": [],
   "source": []
  },
  {
   "cell_type": "code",
   "execution_count": null,
   "id": "7d8ef3be",
   "metadata": {},
   "outputs": [],
   "source": []
  },
  {
   "cell_type": "code",
   "execution_count": null,
   "id": "784da320",
   "metadata": {},
   "outputs": [],
   "source": []
  }
 ],
 "metadata": {
  "kernelspec": {
   "display_name": "Python 3 (ipykernel)",
   "language": "python",
   "name": "python3"
  },
  "language_info": {
   "codemirror_mode": {
    "name": "ipython",
    "version": 3
   },
   "file_extension": ".py",
   "mimetype": "text/x-python",
   "name": "python",
   "nbconvert_exporter": "python",
   "pygments_lexer": "ipython3",
   "version": "3.9.12"
  }
 },
 "nbformat": 4,
 "nbformat_minor": 5
}
