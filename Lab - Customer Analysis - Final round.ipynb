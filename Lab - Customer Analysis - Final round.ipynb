{
 "cells": [
  {
   "cell_type": "markdown",
   "id": "fb4ec5a5",
   "metadata": {},
   "source": [
    "# Lab | Customer Analysis Final Round"
   ]
  },
  {
   "cell_type": "markdown",
   "id": "806f39c0",
   "metadata": {},
   "source": [
    "## 01 - Problem (case study)"
   ]
  },
  {
   "cell_type": "markdown",
   "id": "084884d3",
   "metadata": {},
   "source": [
    "### Data description"
   ]
  },
  {
   "cell_type": "code",
   "execution_count": 616,
   "id": "54e4deb0",
   "metadata": {},
   "outputs": [
    {
     "data": {
      "text/html": [
       "<div>\n",
       "<style scoped>\n",
       "    .dataframe tbody tr th:only-of-type {\n",
       "        vertical-align: middle;\n",
       "    }\n",
       "\n",
       "    .dataframe tbody tr th {\n",
       "        vertical-align: top;\n",
       "    }\n",
       "\n",
       "    .dataframe thead th {\n",
       "        text-align: right;\n",
       "    }\n",
       "</style>\n",
       "<table border=\"1\" class=\"dataframe\">\n",
       "  <thead>\n",
       "    <tr style=\"text-align: right;\">\n",
       "      <th></th>\n",
       "      <th>Unnamed: 0</th>\n",
       "      <th>Customer</th>\n",
       "      <th>State</th>\n",
       "      <th>Customer Lifetime Value</th>\n",
       "      <th>Response</th>\n",
       "      <th>Coverage</th>\n",
       "      <th>Education</th>\n",
       "      <th>Effective To Date</th>\n",
       "      <th>EmploymentStatus</th>\n",
       "      <th>Gender</th>\n",
       "      <th>...</th>\n",
       "      <th>Number of Open Complaints</th>\n",
       "      <th>Number of Policies</th>\n",
       "      <th>Policy Type</th>\n",
       "      <th>Policy</th>\n",
       "      <th>Renew Offer Type</th>\n",
       "      <th>Sales Channel</th>\n",
       "      <th>Total Claim Amount</th>\n",
       "      <th>Vehicle Class</th>\n",
       "      <th>Vehicle Size</th>\n",
       "      <th>Vehicle Type</th>\n",
       "    </tr>\n",
       "  </thead>\n",
       "  <tbody>\n",
       "    <tr>\n",
       "      <th>0</th>\n",
       "      <td>0</td>\n",
       "      <td>DK49336</td>\n",
       "      <td>Arizona</td>\n",
       "      <td>4809.216960</td>\n",
       "      <td>No</td>\n",
       "      <td>Basic</td>\n",
       "      <td>College</td>\n",
       "      <td>2/18/11</td>\n",
       "      <td>Employed</td>\n",
       "      <td>M</td>\n",
       "      <td>...</td>\n",
       "      <td>0.0</td>\n",
       "      <td>9</td>\n",
       "      <td>Corporate Auto</td>\n",
       "      <td>Corporate L3</td>\n",
       "      <td>Offer3</td>\n",
       "      <td>Agent</td>\n",
       "      <td>292.800000</td>\n",
       "      <td>Four-Door Car</td>\n",
       "      <td>Medsize</td>\n",
       "      <td>NaN</td>\n",
       "    </tr>\n",
       "    <tr>\n",
       "      <th>1</th>\n",
       "      <td>1</td>\n",
       "      <td>KX64629</td>\n",
       "      <td>California</td>\n",
       "      <td>2228.525238</td>\n",
       "      <td>No</td>\n",
       "      <td>Basic</td>\n",
       "      <td>College</td>\n",
       "      <td>1/18/11</td>\n",
       "      <td>Unemployed</td>\n",
       "      <td>F</td>\n",
       "      <td>...</td>\n",
       "      <td>0.0</td>\n",
       "      <td>1</td>\n",
       "      <td>Personal Auto</td>\n",
       "      <td>Personal L3</td>\n",
       "      <td>Offer4</td>\n",
       "      <td>Call Center</td>\n",
       "      <td>744.924331</td>\n",
       "      <td>Four-Door Car</td>\n",
       "      <td>Medsize</td>\n",
       "      <td>NaN</td>\n",
       "    </tr>\n",
       "    <tr>\n",
       "      <th>2</th>\n",
       "      <td>2</td>\n",
       "      <td>LZ68649</td>\n",
       "      <td>Washington</td>\n",
       "      <td>14947.917300</td>\n",
       "      <td>No</td>\n",
       "      <td>Basic</td>\n",
       "      <td>Bachelor</td>\n",
       "      <td>2/10/11</td>\n",
       "      <td>Employed</td>\n",
       "      <td>M</td>\n",
       "      <td>...</td>\n",
       "      <td>0.0</td>\n",
       "      <td>2</td>\n",
       "      <td>Personal Auto</td>\n",
       "      <td>Personal L3</td>\n",
       "      <td>Offer3</td>\n",
       "      <td>Call Center</td>\n",
       "      <td>480.000000</td>\n",
       "      <td>SUV</td>\n",
       "      <td>Medsize</td>\n",
       "      <td>A</td>\n",
       "    </tr>\n",
       "    <tr>\n",
       "      <th>3</th>\n",
       "      <td>3</td>\n",
       "      <td>XL78013</td>\n",
       "      <td>Oregon</td>\n",
       "      <td>22332.439460</td>\n",
       "      <td>Yes</td>\n",
       "      <td>Extended</td>\n",
       "      <td>College</td>\n",
       "      <td>1/11/11</td>\n",
       "      <td>Employed</td>\n",
       "      <td>M</td>\n",
       "      <td>...</td>\n",
       "      <td>0.0</td>\n",
       "      <td>2</td>\n",
       "      <td>Corporate Auto</td>\n",
       "      <td>Corporate L3</td>\n",
       "      <td>Offer2</td>\n",
       "      <td>Branch</td>\n",
       "      <td>484.013411</td>\n",
       "      <td>Four-Door Car</td>\n",
       "      <td>Medsize</td>\n",
       "      <td>A</td>\n",
       "    </tr>\n",
       "    <tr>\n",
       "      <th>4</th>\n",
       "      <td>4</td>\n",
       "      <td>QA50777</td>\n",
       "      <td>Oregon</td>\n",
       "      <td>9025.067525</td>\n",
       "      <td>No</td>\n",
       "      <td>Premium</td>\n",
       "      <td>Bachelor</td>\n",
       "      <td>1/17/11</td>\n",
       "      <td>Medical Leave</td>\n",
       "      <td>F</td>\n",
       "      <td>...</td>\n",
       "      <td>NaN</td>\n",
       "      <td>7</td>\n",
       "      <td>Personal Auto</td>\n",
       "      <td>Personal L2</td>\n",
       "      <td>Offer1</td>\n",
       "      <td>Branch</td>\n",
       "      <td>707.925645</td>\n",
       "      <td>Four-Door Car</td>\n",
       "      <td>Medsize</td>\n",
       "      <td>NaN</td>\n",
       "    </tr>\n",
       "  </tbody>\n",
       "</table>\n",
       "<p>5 rows × 26 columns</p>\n",
       "</div>"
      ],
      "text/plain": [
       "   Unnamed: 0 Customer       State  Customer Lifetime Value Response  \\\n",
       "0           0  DK49336     Arizona              4809.216960       No   \n",
       "1           1  KX64629  California              2228.525238       No   \n",
       "2           2  LZ68649  Washington             14947.917300       No   \n",
       "3           3  XL78013      Oregon             22332.439460      Yes   \n",
       "4           4  QA50777      Oregon              9025.067525       No   \n",
       "\n",
       "   Coverage Education Effective To Date EmploymentStatus Gender  ...  \\\n",
       "0     Basic   College           2/18/11         Employed      M  ...   \n",
       "1     Basic   College           1/18/11       Unemployed      F  ...   \n",
       "2     Basic  Bachelor           2/10/11         Employed      M  ...   \n",
       "3  Extended   College           1/11/11         Employed      M  ...   \n",
       "4   Premium  Bachelor           1/17/11    Medical Leave      F  ...   \n",
       "\n",
       "   Number of Open Complaints Number of Policies     Policy Type        Policy  \\\n",
       "0                        0.0                  9  Corporate Auto  Corporate L3   \n",
       "1                        0.0                  1   Personal Auto   Personal L3   \n",
       "2                        0.0                  2   Personal Auto   Personal L3   \n",
       "3                        0.0                  2  Corporate Auto  Corporate L3   \n",
       "4                        NaN                  7   Personal Auto   Personal L2   \n",
       "\n",
       "   Renew Offer Type  Sales Channel  Total Claim Amount  Vehicle Class  \\\n",
       "0            Offer3          Agent          292.800000  Four-Door Car   \n",
       "1            Offer4    Call Center          744.924331  Four-Door Car   \n",
       "2            Offer3    Call Center          480.000000            SUV   \n",
       "3            Offer2         Branch          484.013411  Four-Door Car   \n",
       "4            Offer1         Branch          707.925645  Four-Door Car   \n",
       "\n",
       "  Vehicle Size Vehicle Type  \n",
       "0      Medsize          NaN  \n",
       "1      Medsize          NaN  \n",
       "2      Medsize            A  \n",
       "3      Medsize            A  \n",
       "4      Medsize          NaN  \n",
       "\n",
       "[5 rows x 26 columns]"
      ]
     },
     "metadata": {},
     "output_type": "display_data"
    },
    {
     "data": {
      "text/html": [
       "<div>\n",
       "<style scoped>\n",
       "    .dataframe tbody tr th:only-of-type {\n",
       "        vertical-align: middle;\n",
       "    }\n",
       "\n",
       "    .dataframe tbody tr th {\n",
       "        vertical-align: top;\n",
       "    }\n",
       "\n",
       "    .dataframe thead th {\n",
       "        text-align: right;\n",
       "    }\n",
       "</style>\n",
       "<table border=\"1\" class=\"dataframe\">\n",
       "  <thead>\n",
       "    <tr style=\"text-align: right;\">\n",
       "      <th></th>\n",
       "      <th>count</th>\n",
       "      <th>mean</th>\n",
       "      <th>std</th>\n",
       "      <th>min</th>\n",
       "      <th>25%</th>\n",
       "      <th>50%</th>\n",
       "      <th>75%</th>\n",
       "      <th>max</th>\n",
       "    </tr>\n",
       "  </thead>\n",
       "  <tbody>\n",
       "    <tr>\n",
       "      <th>Unnamed: 0</th>\n",
       "      <td>10910.0</td>\n",
       "      <td>5454.500000</td>\n",
       "      <td>3149.590053</td>\n",
       "      <td>0.000000</td>\n",
       "      <td>2727.250000</td>\n",
       "      <td>5454.500000</td>\n",
       "      <td>8181.750000</td>\n",
       "      <td>10909.000000</td>\n",
       "    </tr>\n",
       "    <tr>\n",
       "      <th>Customer Lifetime Value</th>\n",
       "      <td>10910.0</td>\n",
       "      <td>8018.241094</td>\n",
       "      <td>6885.081434</td>\n",
       "      <td>1898.007675</td>\n",
       "      <td>4014.453113</td>\n",
       "      <td>5771.147235</td>\n",
       "      <td>8992.779137</td>\n",
       "      <td>83325.381190</td>\n",
       "    </tr>\n",
       "    <tr>\n",
       "      <th>Income</th>\n",
       "      <td>10910.0</td>\n",
       "      <td>37536.284785</td>\n",
       "      <td>30359.195670</td>\n",
       "      <td>0.000000</td>\n",
       "      <td>0.000000</td>\n",
       "      <td>33813.500000</td>\n",
       "      <td>62250.750000</td>\n",
       "      <td>99981.000000</td>\n",
       "    </tr>\n",
       "    <tr>\n",
       "      <th>Monthly Premium Auto</th>\n",
       "      <td>10910.0</td>\n",
       "      <td>93.196059</td>\n",
       "      <td>34.442532</td>\n",
       "      <td>61.000000</td>\n",
       "      <td>68.000000</td>\n",
       "      <td>83.000000</td>\n",
       "      <td>109.000000</td>\n",
       "      <td>298.000000</td>\n",
       "    </tr>\n",
       "    <tr>\n",
       "      <th>Months Since Last Claim</th>\n",
       "      <td>10277.0</td>\n",
       "      <td>15.149071</td>\n",
       "      <td>10.080349</td>\n",
       "      <td>0.000000</td>\n",
       "      <td>6.000000</td>\n",
       "      <td>14.000000</td>\n",
       "      <td>23.000000</td>\n",
       "      <td>35.000000</td>\n",
       "    </tr>\n",
       "    <tr>\n",
       "      <th>Months Since Policy Inception</th>\n",
       "      <td>10910.0</td>\n",
       "      <td>48.091934</td>\n",
       "      <td>27.940675</td>\n",
       "      <td>0.000000</td>\n",
       "      <td>24.000000</td>\n",
       "      <td>48.000000</td>\n",
       "      <td>71.000000</td>\n",
       "      <td>99.000000</td>\n",
       "    </tr>\n",
       "    <tr>\n",
       "      <th>Number of Open Complaints</th>\n",
       "      <td>10277.0</td>\n",
       "      <td>0.384256</td>\n",
       "      <td>0.912457</td>\n",
       "      <td>0.000000</td>\n",
       "      <td>0.000000</td>\n",
       "      <td>0.000000</td>\n",
       "      <td>0.000000</td>\n",
       "      <td>5.000000</td>\n",
       "    </tr>\n",
       "    <tr>\n",
       "      <th>Number of Policies</th>\n",
       "      <td>10910.0</td>\n",
       "      <td>2.979193</td>\n",
       "      <td>2.399359</td>\n",
       "      <td>1.000000</td>\n",
       "      <td>1.000000</td>\n",
       "      <td>2.000000</td>\n",
       "      <td>4.000000</td>\n",
       "      <td>9.000000</td>\n",
       "    </tr>\n",
       "    <tr>\n",
       "      <th>Total Claim Amount</th>\n",
       "      <td>10910.0</td>\n",
       "      <td>434.888330</td>\n",
       "      <td>292.180556</td>\n",
       "      <td>0.099007</td>\n",
       "      <td>271.082527</td>\n",
       "      <td>382.564630</td>\n",
       "      <td>547.200000</td>\n",
       "      <td>2893.239678</td>\n",
       "    </tr>\n",
       "  </tbody>\n",
       "</table>\n",
       "</div>"
      ],
      "text/plain": [
       "                                 count          mean           std  \\\n",
       "Unnamed: 0                     10910.0   5454.500000   3149.590053   \n",
       "Customer Lifetime Value        10910.0   8018.241094   6885.081434   \n",
       "Income                         10910.0  37536.284785  30359.195670   \n",
       "Monthly Premium Auto           10910.0     93.196059     34.442532   \n",
       "Months Since Last Claim        10277.0     15.149071     10.080349   \n",
       "Months Since Policy Inception  10910.0     48.091934     27.940675   \n",
       "Number of Open Complaints      10277.0      0.384256      0.912457   \n",
       "Number of Policies             10910.0      2.979193      2.399359   \n",
       "Total Claim Amount             10910.0    434.888330    292.180556   \n",
       "\n",
       "                                       min          25%           50%  \\\n",
       "Unnamed: 0                        0.000000  2727.250000   5454.500000   \n",
       "Customer Lifetime Value        1898.007675  4014.453113   5771.147235   \n",
       "Income                            0.000000     0.000000  33813.500000   \n",
       "Monthly Premium Auto             61.000000    68.000000     83.000000   \n",
       "Months Since Last Claim           0.000000     6.000000     14.000000   \n",
       "Months Since Policy Inception     0.000000    24.000000     48.000000   \n",
       "Number of Open Complaints         0.000000     0.000000      0.000000   \n",
       "Number of Policies                1.000000     1.000000      2.000000   \n",
       "Total Claim Amount                0.099007   271.082527    382.564630   \n",
       "\n",
       "                                        75%           max  \n",
       "Unnamed: 0                      8181.750000  10909.000000  \n",
       "Customer Lifetime Value         8992.779137  83325.381190  \n",
       "Income                         62250.750000  99981.000000  \n",
       "Monthly Premium Auto             109.000000    298.000000  \n",
       "Months Since Last Claim           23.000000     35.000000  \n",
       "Months Since Policy Inception     71.000000     99.000000  \n",
       "Number of Open Complaints          0.000000      5.000000  \n",
       "Number of Policies                 4.000000      9.000000  \n",
       "Total Claim Amount               547.200000   2893.239678  "
      ]
     },
     "execution_count": 616,
     "metadata": {},
     "output_type": "execute_result"
    }
   ],
   "source": [
    "df = pd.read_csv(\"/Users/ayeesha/IH-Labs/lab-customer-analysis-round-2/files_for_lab/csv_files/marketing_customer_analysis.csv\")\n",
    "display(df.head())\n",
    "df.describe().T"
   ]
  },
  {
   "cell_type": "markdown",
   "id": "c6a1b598",
   "metadata": {},
   "source": [
    "The data provided in CSV file corresponds to a vehicle insurance company.\n",
    "\n",
    "The first column named Unamed: 0 looks like an index column, which is not useful for our analysis. So in the later preprocessing and cleanup steps we will drop this column\n",
    "The second column named Customer has customer id's of all the customers. This column is also not useful for our analysis, hence we will drop this as well\n",
    "df['State'].unique()\n",
    "df['State'].uniq"
   ]
  },
  {
   "cell_type": "code",
   "execution_count": 617,
   "id": "bc0b979d",
   "metadata": {},
   "outputs": [
    {
     "data": {
      "text/plain": [
       "array(['Arizona', 'California', 'Washington', 'Oregon', nan, 'Nevada'],\n",
       "      dtype=object)"
      ]
     },
     "execution_count": 617,
     "metadata": {},
     "output_type": "execute_result"
    }
   ],
   "source": [
    "df['State'].unique()"
   ]
  },
  {
   "cell_type": "markdown",
   "id": "dbdeeb30",
   "metadata": {},
   "source": [
    "- The third column `State` is a nominal categorical column which contains the state of the customer. In our dataset it has 5 unique values with some `NaN`"
   ]
  },
  {
   "cell_type": "code",
   "execution_count": 618,
   "id": "fdf72893",
   "metadata": {},
   "outputs": [
    {
     "name": "stdout",
     "output_type": "stream",
     "text": [
      "count    10910.000000\n",
      "mean      8018.241094\n",
      "std       6885.081434\n",
      "min       1898.007675\n",
      "25%       4014.453113\n",
      "50%       5771.147235\n",
      "75%       8992.779137\n",
      "max      83325.381190\n",
      "Name: Customer Lifetime Value, dtype: float64\n"
     ]
    },
    {
     "data": {
      "image/png": "[encoded data removed]",
      "text/plain": [
       "<Figure size 360x360 with 1 Axes>"
      ]
     },
     "metadata": {
      "needs_background": "light"
     },
     "output_type": "display_data"
    }
   ],
   "source": [
    "print(df['Customer Lifetime Value'].describe())\n",
    "sns.displot(df['Customer Lifetime Value'],kde = True)\n",
    "plt.show()"
   ]
  },
  {
   "cell_type": "markdown",
   "id": "67deb7bf",
   "metadata": {},
   "source": [
    "- The column `Customer Lifetime Value` consists of lifetime value of the customers. This is a numerical field which has a mean of 8018.24 and a std deviation of 6885.08. Based on these statistics this column has some outliers"
   ]
  },
  {
   "cell_type": "code",
   "execution_count": 619,
   "id": "7ccf0e95",
   "metadata": {},
   "outputs": [
    {
     "data": {
      "text/plain": [
       "array(['No', 'Yes', nan], dtype=object)"
      ]
     },
     "execution_count": 619,
     "metadata": {},
     "output_type": "execute_result"
    }
   ],
   "source": [
    "df['Response'].unique()"
   ]
  },
  {
   "cell_type": "markdown",
   "id": "a88ab414",
   "metadata": {},
   "source": [
    "- `Response` column is a boolean field, where the customer has responded"
   ]
  },
  {
   "cell_type": "markdown",
   "id": "82b2bca7",
   "metadata": {},
   "source": [
    "I dont know how to write the description of case study. i did for 4 columns"
   ]
  },
  {
   "cell_type": "markdown",
   "id": "3be0dbb8",
   "metadata": {},
   "source": [
    "## Goal"
   ]
  },
  {
   "cell_type": "markdown",
   "id": "fe086f0c",
   "metadata": {},
   "source": [
    "The goal of this analysis is to predict the `Total Claim Amount` (y) based on provided independent variables (X). We will use Linear Regression method to train the model and calculate the R2, MSE, RMSE and MAE based on the dataset provided."
   ]
  },
  {
   "cell_type": "markdown",
   "id": "c7dcbd16",
   "metadata": {},
   "source": [
    "## Getting Data"
   ]
  },
  {
   "cell_type": "code",
   "execution_count": 620,
   "id": "fb187dc5",
   "metadata": {},
   "outputs": [],
   "source": [
    "import pandas as pd\n",
    "import numpy as np\n",
    "import matplotlib.pyplot as plt\n",
    "import seaborn as sns \n",
    "%matplotlib inline\n",
    "\n",
    "from sklearn.preprocessing import OneHotEncoder\n",
    "from sklearn.preprocessing import LabelEncoder\n",
    "from sklearn.preprocessing import MinMaxScaler \n",
    "from sklearn.preprocessing import StandardScaler\n",
    "\n",
    "from sklearn.linear_model import LinearRegression\n",
    "from sklearn.metrics import mean_absolute_error, r2_score, mean_squared_error\n",
    "from sklearn.model_selection import train_test_split\n"
   ]
  },
  {
   "cell_type": "code",
   "execution_count": 621,
   "id": "70b34c26",
   "metadata": {},
   "outputs": [
    {
     "data": {
      "text/plain": [
       "(10910, 26)"
      ]
     },
     "execution_count": 621,
     "metadata": {},
     "output_type": "execute_result"
    }
   ],
   "source": [
    "df = pd.read_csv(\"/Users/ayeesha/IH-Labs/lab-customer-analysis-round-2/files_for_lab/csv_files/marketing_customer_analysis.csv\")\n",
    "df.shape"
   ]
  },
  {
   "cell_type": "markdown",
   "id": "b6fff6a7",
   "metadata": {},
   "source": [
    "## Cleaning/Wrangling"
   ]
  },
  {
   "cell_type": "markdown",
   "id": "2fb85744",
   "metadata": {},
   "source": [
    "### Change headers names."
   ]
  },
  {
   "cell_type": "code",
   "execution_count": 622,
   "id": "ba38a351",
   "metadata": {},
   "outputs": [
    {
     "data": {
      "text/plain": [
       "Index(['unnamed:_0', 'customer', 'state', 'customer_lifetime_value',\n",
       "       'response', 'coverage', 'education', 'effective_to_date',\n",
       "       'employmentstatus', 'gender', 'income', 'location_code',\n",
       "       'marital_status', 'monthly_premium_auto', 'months_since_last_claim',\n",
       "       'months_since_policy_inception', 'number_of_open_complaints',\n",
       "       'number_of_policies', 'policy_type', 'policy', 'renew_offer_type',\n",
       "       'sales_channel', 'total_claim_amount', 'vehicle_class', 'vehicle_size',\n",
       "       'vehicle_type'],\n",
       "      dtype='object')"
      ]
     },
     "metadata": {},
     "output_type": "display_data"
    },
    {
     "name": "stdout",
     "output_type": "stream",
     "text": [
      "unnamed:_0                          0\n",
      "customer                            0\n",
      "state                             631\n",
      "customer_lifetime_value             0\n",
      "response                          631\n",
      "coverage                            0\n",
      "education                           0\n",
      "effective_to_date                   0\n",
      "employmentstatus                    0\n",
      "gender                              0\n",
      "income                              0\n",
      "location_code                       0\n",
      "marital_status                      0\n",
      "monthly_premium_auto                0\n",
      "months_since_last_claim           633\n",
      "months_since_policy_inception       0\n",
      "number_of_open_complaints         633\n",
      "number_of_policies                  0\n",
      "policy_type                         0\n",
      "policy                              0\n",
      "renew_offer_type                    0\n",
      "sales_channel                       0\n",
      "total_claim_amount                  0\n",
      "vehicle_class                     622\n",
      "vehicle_size                      622\n",
      "vehicle_type                     5482\n",
      "dtype: int64\n"
     ]
    }
   ],
   "source": [
    "cols = []\n",
    "for column in df.columns:\n",
    "    cols.append(column.lower())\n",
    "df.columns = cols\n",
    "df.columns = df.columns.str.replace(' ', '_')\n",
    "display(df.columns)\n",
    "print(df.isna().sum())"
   ]
  },
  {
   "cell_type": "markdown",
   "id": "ca1ab655",
   "metadata": {},
   "source": [
    "### Deal with NaN values"
   ]
  },
  {
   "cell_type": "code",
   "execution_count": 623,
   "id": "621fca11",
   "metadata": {},
   "outputs": [
    {
     "data": {
      "text/plain": [
       "unnamed:_0                       0\n",
       "customer                         0\n",
       "state                            0\n",
       "customer_lifetime_value          0\n",
       "response                         0\n",
       "coverage                         0\n",
       "education                        0\n",
       "effective_to_date                0\n",
       "employmentstatus                 0\n",
       "gender                           0\n",
       "income                           0\n",
       "location_code                    0\n",
       "marital_status                   0\n",
       "monthly_premium_auto             0\n",
       "months_since_last_claim          0\n",
       "months_since_policy_inception    0\n",
       "number_of_open_complaints        0\n",
       "number_of_policies               0\n",
       "policy_type                      0\n",
       "policy                           0\n",
       "renew_offer_type                 0\n",
       "sales_channel                    0\n",
       "total_claim_amount               0\n",
       "vehicle_class                    0\n",
       "vehicle_size                     0\n",
       "vehicle_type                     0\n",
       "dtype: int64"
      ]
     },
     "execution_count": 623,
     "metadata": {},
     "output_type": "execute_result"
    }
   ],
   "source": [
    "df['vehicle_type']= df['vehicle_type'].fillna('Not A')             \n",
    "df['vehicle_type'].value_counts(dropna=False)\n",
    "nan_cols = ['state','response','months_since_last_claim','number_of_open_complaints','vehicle_class','vehicle_size']\n",
    "for col in nan_cols:\n",
    "    df[col]=df[col].fillna(df[col].mode()[0])    \n",
    "df['effective_to_date'] = pd.to_datetime(df['effective_to_date'])\n",
    "df.isna().sum()"
   ]
  },
  {
   "cell_type": "markdown",
   "id": "a37ffc2f",
   "metadata": {},
   "source": [
    "### Drop unwanted index column"
   ]
  },
  {
   "cell_type": "code",
   "execution_count": 624,
   "id": "84b7ce17",
   "metadata": {},
   "outputs": [
    {
     "data": {
      "text/plain": [
       "(10910, 25)"
      ]
     },
     "execution_count": 624,
     "metadata": {},
     "output_type": "execute_result"
    }
   ],
   "source": [
    "df = df.drop(['unnamed:_0'], axis=1)\n",
    "df.shape"
   ]
  },
  {
   "cell_type": "markdown",
   "id": "5ccbbc03",
   "metadata": {},
   "source": [
    "### Categorical Features"
   ]
  },
  {
   "cell_type": "code",
   "execution_count": 625,
   "id": "1a412c69",
   "metadata": {},
   "outputs": [
    {
     "data": {
      "text/html": [
       "<div>\n",
       "<style scoped>\n",
       "    .dataframe tbody tr th:only-of-type {\n",
       "        vertical-align: middle;\n",
       "    }\n",
       "\n",
       "    .dataframe tbody tr th {\n",
       "        vertical-align: top;\n",
       "    }\n",
       "\n",
       "    .dataframe thead th {\n",
       "        text-align: right;\n",
       "    }\n",
       "</style>\n",
       "<table border=\"1\" class=\"dataframe\">\n",
       "  <thead>\n",
       "    <tr style=\"text-align: right;\">\n",
       "      <th></th>\n",
       "      <th>customer</th>\n",
       "      <th>state</th>\n",
       "      <th>response</th>\n",
       "      <th>coverage</th>\n",
       "      <th>education</th>\n",
       "      <th>employmentstatus</th>\n",
       "      <th>gender</th>\n",
       "      <th>location_code</th>\n",
       "      <th>marital_status</th>\n",
       "      <th>policy_type</th>\n",
       "      <th>policy</th>\n",
       "      <th>renew_offer_type</th>\n",
       "      <th>sales_channel</th>\n",
       "      <th>vehicle_class</th>\n",
       "      <th>vehicle_size</th>\n",
       "      <th>vehicle_type</th>\n",
       "    </tr>\n",
       "  </thead>\n",
       "  <tbody>\n",
       "    <tr>\n",
       "      <th>0</th>\n",
       "      <td>DK49336</td>\n",
       "      <td>Arizona</td>\n",
       "      <td>No</td>\n",
       "      <td>Basic</td>\n",
       "      <td>College</td>\n",
       "      <td>Employed</td>\n",
       "      <td>M</td>\n",
       "      <td>Suburban</td>\n",
       "      <td>Married</td>\n",
       "      <td>Corporate Auto</td>\n",
       "      <td>Corporate L3</td>\n",
       "      <td>Offer3</td>\n",
       "      <td>Agent</td>\n",
       "      <td>Four-Door Car</td>\n",
       "      <td>Medsize</td>\n",
       "      <td>Not A</td>\n",
       "    </tr>\n",
       "    <tr>\n",
       "      <th>1</th>\n",
       "      <td>KX64629</td>\n",
       "      <td>California</td>\n",
       "      <td>No</td>\n",
       "      <td>Basic</td>\n",
       "      <td>College</td>\n",
       "      <td>Unemployed</td>\n",
       "      <td>F</td>\n",
       "      <td>Suburban</td>\n",
       "      <td>Single</td>\n",
       "      <td>Personal Auto</td>\n",
       "      <td>Personal L3</td>\n",
       "      <td>Offer4</td>\n",
       "      <td>Call Center</td>\n",
       "      <td>Four-Door Car</td>\n",
       "      <td>Medsize</td>\n",
       "      <td>Not A</td>\n",
       "    </tr>\n",
       "    <tr>\n",
       "      <th>2</th>\n",
       "      <td>LZ68649</td>\n",
       "      <td>Washington</td>\n",
       "      <td>No</td>\n",
       "      <td>Basic</td>\n",
       "      <td>Bachelor</td>\n",
       "      <td>Employed</td>\n",
       "      <td>M</td>\n",
       "      <td>Suburban</td>\n",
       "      <td>Single</td>\n",
       "      <td>Personal Auto</td>\n",
       "      <td>Personal L3</td>\n",
       "      <td>Offer3</td>\n",
       "      <td>Call Center</td>\n",
       "      <td>SUV</td>\n",
       "      <td>Medsize</td>\n",
       "      <td>A</td>\n",
       "    </tr>\n",
       "    <tr>\n",
       "      <th>3</th>\n",
       "      <td>XL78013</td>\n",
       "      <td>Oregon</td>\n",
       "      <td>Yes</td>\n",
       "      <td>Extended</td>\n",
       "      <td>College</td>\n",
       "      <td>Employed</td>\n",
       "      <td>M</td>\n",
       "      <td>Suburban</td>\n",
       "      <td>Single</td>\n",
       "      <td>Corporate Auto</td>\n",
       "      <td>Corporate L3</td>\n",
       "      <td>Offer2</td>\n",
       "      <td>Branch</td>\n",
       "      <td>Four-Door Car</td>\n",
       "      <td>Medsize</td>\n",
       "      <td>A</td>\n",
       "    </tr>\n",
       "    <tr>\n",
       "      <th>4</th>\n",
       "      <td>QA50777</td>\n",
       "      <td>Oregon</td>\n",
       "      <td>No</td>\n",
       "      <td>Premium</td>\n",
       "      <td>Bachelor</td>\n",
       "      <td>Medical Leave</td>\n",
       "      <td>F</td>\n",
       "      <td>Suburban</td>\n",
       "      <td>Married</td>\n",
       "      <td>Personal Auto</td>\n",
       "      <td>Personal L2</td>\n",
       "      <td>Offer1</td>\n",
       "      <td>Branch</td>\n",
       "      <td>Four-Door Car</td>\n",
       "      <td>Medsize</td>\n",
       "      <td>Not A</td>\n",
       "    </tr>\n",
       "  </tbody>\n",
       "</table>\n",
       "</div>"
      ],
      "text/plain": [
       "  customer       state response  coverage education employmentstatus gender  \\\n",
       "0  DK49336     Arizona       No     Basic   College         Employed      M   \n",
       "1  KX64629  California       No     Basic   College       Unemployed      F   \n",
       "2  LZ68649  Washington       No     Basic  Bachelor         Employed      M   \n",
       "3  XL78013      Oregon      Yes  Extended   College         Employed      M   \n",
       "4  QA50777      Oregon       No   Premium  Bachelor    Medical Leave      F   \n",
       "\n",
       "  location_code marital_status     policy_type        policy renew_offer_type  \\\n",
       "0      Suburban        Married  Corporate Auto  Corporate L3           Offer3   \n",
       "1      Suburban         Single   Personal Auto   Personal L3           Offer4   \n",
       "2      Suburban         Single   Personal Auto   Personal L3           Offer3   \n",
       "3      Suburban         Single  Corporate Auto  Corporate L3           Offer2   \n",
       "4      Suburban        Married   Personal Auto   Personal L2           Offer1   \n",
       "\n",
       "  sales_channel  vehicle_class vehicle_size vehicle_type  \n",
       "0         Agent  Four-Door Car      Medsize        Not A  \n",
       "1   Call Center  Four-Door Car      Medsize        Not A  \n",
       "2   Call Center            SUV      Medsize            A  \n",
       "3        Branch  Four-Door Car      Medsize            A  \n",
       "4        Branch  Four-Door Car      Medsize        Not A  "
      ]
     },
     "execution_count": 625,
     "metadata": {},
     "output_type": "execute_result"
    }
   ],
   "source": [
    "categorical = df.select_dtypes(object)\n",
    "categorical.head()"
   ]
  },
  {
   "cell_type": "markdown",
   "id": "d2e99d05",
   "metadata": {},
   "source": [
    "### Numerical Features"
   ]
  },
  {
   "cell_type": "code",
   "execution_count": 626,
   "id": "264cdd7f",
   "metadata": {},
   "outputs": [
    {
     "data": {
      "text/html": [
       "<div>\n",
       "<style scoped>\n",
       "    .dataframe tbody tr th:only-of-type {\n",
       "        vertical-align: middle;\n",
       "    }\n",
       "\n",
       "    .dataframe tbody tr th {\n",
       "        vertical-align: top;\n",
       "    }\n",
       "\n",
       "    .dataframe thead th {\n",
       "        text-align: right;\n",
       "    }\n",
       "</style>\n",
       "<table border=\"1\" class=\"dataframe\">\n",
       "  <thead>\n",
       "    <tr style=\"text-align: right;\">\n",
       "      <th></th>\n",
       "      <th>customer_lifetime_value</th>\n",
       "      <th>income</th>\n",
       "      <th>monthly_premium_auto</th>\n",
       "      <th>months_since_last_claim</th>\n",
       "      <th>months_since_policy_inception</th>\n",
       "      <th>number_of_open_complaints</th>\n",
       "      <th>number_of_policies</th>\n",
       "      <th>total_claim_amount</th>\n",
       "    </tr>\n",
       "  </thead>\n",
       "  <tbody>\n",
       "    <tr>\n",
       "      <th>0</th>\n",
       "      <td>4809.216960</td>\n",
       "      <td>48029</td>\n",
       "      <td>61</td>\n",
       "      <td>7.0</td>\n",
       "      <td>52</td>\n",
       "      <td>0.0</td>\n",
       "      <td>9</td>\n",
       "      <td>292.800000</td>\n",
       "    </tr>\n",
       "    <tr>\n",
       "      <th>1</th>\n",
       "      <td>2228.525238</td>\n",
       "      <td>0</td>\n",
       "      <td>64</td>\n",
       "      <td>3.0</td>\n",
       "      <td>26</td>\n",
       "      <td>0.0</td>\n",
       "      <td>1</td>\n",
       "      <td>744.924331</td>\n",
       "    </tr>\n",
       "    <tr>\n",
       "      <th>2</th>\n",
       "      <td>14947.917300</td>\n",
       "      <td>22139</td>\n",
       "      <td>100</td>\n",
       "      <td>34.0</td>\n",
       "      <td>31</td>\n",
       "      <td>0.0</td>\n",
       "      <td>2</td>\n",
       "      <td>480.000000</td>\n",
       "    </tr>\n",
       "    <tr>\n",
       "      <th>3</th>\n",
       "      <td>22332.439460</td>\n",
       "      <td>49078</td>\n",
       "      <td>97</td>\n",
       "      <td>10.0</td>\n",
       "      <td>3</td>\n",
       "      <td>0.0</td>\n",
       "      <td>2</td>\n",
       "      <td>484.013411</td>\n",
       "    </tr>\n",
       "    <tr>\n",
       "      <th>4</th>\n",
       "      <td>9025.067525</td>\n",
       "      <td>23675</td>\n",
       "      <td>117</td>\n",
       "      <td>3.0</td>\n",
       "      <td>31</td>\n",
       "      <td>0.0</td>\n",
       "      <td>7</td>\n",
       "      <td>707.925645</td>\n",
       "    </tr>\n",
       "  </tbody>\n",
       "</table>\n",
       "</div>"
      ],
      "text/plain": [
       "   customer_lifetime_value  income  monthly_premium_auto  \\\n",
       "0              4809.216960   48029                    61   \n",
       "1              2228.525238       0                    64   \n",
       "2             14947.917300   22139                   100   \n",
       "3             22332.439460   49078                    97   \n",
       "4              9025.067525   23675                   117   \n",
       "\n",
       "   months_since_last_claim  months_since_policy_inception  \\\n",
       "0                      7.0                             52   \n",
       "1                      3.0                             26   \n",
       "2                     34.0                             31   \n",
       "3                     10.0                              3   \n",
       "4                      3.0                             31   \n",
       "\n",
       "   number_of_open_complaints  number_of_policies  total_claim_amount  \n",
       "0                        0.0                   9          292.800000  \n",
       "1                        0.0                   1          744.924331  \n",
       "2                        0.0                   2          480.000000  \n",
       "3                        0.0                   2          484.013411  \n",
       "4                        0.0                   7          707.925645  "
      ]
     },
     "execution_count": 626,
     "metadata": {},
     "output_type": "execute_result"
    }
   ],
   "source": [
    "numerical = df.select_dtypes(np.number)\n",
    "numerical.head()"
   ]
  },
  {
   "cell_type": "markdown",
   "id": "bcc983a2",
   "metadata": {},
   "source": [
    "### Exploration"
   ]
  },
  {
   "cell_type": "code",
   "execution_count": 627,
   "id": "35c5a60a",
   "metadata": {},
   "outputs": [
    {
     "data": {
      "text/html": [
       "<div>\n",
       "<style scoped>\n",
       "    .dataframe tbody tr th:only-of-type {\n",
       "        vertical-align: middle;\n",
       "    }\n",
       "\n",
       "    .dataframe tbody tr th {\n",
       "        vertical-align: top;\n",
       "    }\n",
       "\n",
       "    .dataframe thead th {\n",
       "        text-align: right;\n",
       "    }\n",
       "</style>\n",
       "<table border=\"1\" class=\"dataframe\">\n",
       "  <thead>\n",
       "    <tr style=\"text-align: right;\">\n",
       "      <th></th>\n",
       "      <th>count</th>\n",
       "      <th>mean</th>\n",
       "      <th>std</th>\n",
       "      <th>min</th>\n",
       "      <th>25%</th>\n",
       "      <th>50%</th>\n",
       "      <th>75%</th>\n",
       "      <th>max</th>\n",
       "    </tr>\n",
       "  </thead>\n",
       "  <tbody>\n",
       "    <tr>\n",
       "      <th>customer_lifetime_value</th>\n",
       "      <td>10910.0</td>\n",
       "      <td>8018.241094</td>\n",
       "      <td>6885.081434</td>\n",
       "      <td>1898.007675</td>\n",
       "      <td>4014.453113</td>\n",
       "      <td>5771.147235</td>\n",
       "      <td>8992.779137</td>\n",
       "      <td>83325.381190</td>\n",
       "    </tr>\n",
       "    <tr>\n",
       "      <th>income</th>\n",
       "      <td>10910.0</td>\n",
       "      <td>37536.284785</td>\n",
       "      <td>30359.195670</td>\n",
       "      <td>0.000000</td>\n",
       "      <td>0.000000</td>\n",
       "      <td>33813.500000</td>\n",
       "      <td>62250.750000</td>\n",
       "      <td>99981.000000</td>\n",
       "    </tr>\n",
       "    <tr>\n",
       "      <th>monthly_premium_auto</th>\n",
       "      <td>10910.0</td>\n",
       "      <td>93.196059</td>\n",
       "      <td>34.442532</td>\n",
       "      <td>61.000000</td>\n",
       "      <td>68.000000</td>\n",
       "      <td>83.000000</td>\n",
       "      <td>109.000000</td>\n",
       "      <td>298.000000</td>\n",
       "    </tr>\n",
       "    <tr>\n",
       "      <th>months_since_last_claim</th>\n",
       "      <td>10910.0</td>\n",
       "      <td>14.444180</td>\n",
       "      <td>10.187488</td>\n",
       "      <td>0.000000</td>\n",
       "      <td>5.000000</td>\n",
       "      <td>13.000000</td>\n",
       "      <td>23.000000</td>\n",
       "      <td>35.000000</td>\n",
       "    </tr>\n",
       "    <tr>\n",
       "      <th>months_since_policy_inception</th>\n",
       "      <td>10910.0</td>\n",
       "      <td>48.091934</td>\n",
       "      <td>27.940675</td>\n",
       "      <td>0.000000</td>\n",
       "      <td>24.000000</td>\n",
       "      <td>48.000000</td>\n",
       "      <td>71.000000</td>\n",
       "      <td>99.000000</td>\n",
       "    </tr>\n",
       "    <tr>\n",
       "      <th>number_of_open_complaints</th>\n",
       "      <td>10910.0</td>\n",
       "      <td>0.361962</td>\n",
       "      <td>0.890134</td>\n",
       "      <td>0.000000</td>\n",
       "      <td>0.000000</td>\n",
       "      <td>0.000000</td>\n",
       "      <td>0.000000</td>\n",
       "      <td>5.000000</td>\n",
       "    </tr>\n",
       "    <tr>\n",
       "      <th>number_of_policies</th>\n",
       "      <td>10910.0</td>\n",
       "      <td>2.979193</td>\n",
       "      <td>2.399359</td>\n",
       "      <td>1.000000</td>\n",
       "      <td>1.000000</td>\n",
       "      <td>2.000000</td>\n",
       "      <td>4.000000</td>\n",
       "      <td>9.000000</td>\n",
       "    </tr>\n",
       "    <tr>\n",
       "      <th>total_claim_amount</th>\n",
       "      <td>10910.0</td>\n",
       "      <td>434.888330</td>\n",
       "      <td>292.180556</td>\n",
       "      <td>0.099007</td>\n",
       "      <td>271.082527</td>\n",
       "      <td>382.564630</td>\n",
       "      <td>547.200000</td>\n",
       "      <td>2893.239678</td>\n",
       "    </tr>\n",
       "  </tbody>\n",
       "</table>\n",
       "</div>"
      ],
      "text/plain": [
       "                                 count          mean           std  \\\n",
       "customer_lifetime_value        10910.0   8018.241094   6885.081434   \n",
       "income                         10910.0  37536.284785  30359.195670   \n",
       "monthly_premium_auto           10910.0     93.196059     34.442532   \n",
       "months_since_last_claim        10910.0     14.444180     10.187488   \n",
       "months_since_policy_inception  10910.0     48.091934     27.940675   \n",
       "number_of_open_complaints      10910.0      0.361962      0.890134   \n",
       "number_of_policies             10910.0      2.979193      2.399359   \n",
       "total_claim_amount             10910.0    434.888330    292.180556   \n",
       "\n",
       "                                       min          25%           50%  \\\n",
       "customer_lifetime_value        1898.007675  4014.453113   5771.147235   \n",
       "income                            0.000000     0.000000  33813.500000   \n",
       "monthly_premium_auto             61.000000    68.000000     83.000000   \n",
       "months_since_last_claim           0.000000     5.000000     13.000000   \n",
       "months_since_policy_inception     0.000000    24.000000     48.000000   \n",
       "number_of_open_complaints         0.000000     0.000000      0.000000   \n",
       "number_of_policies                1.000000     1.000000      2.000000   \n",
       "total_claim_amount                0.099007   271.082527    382.564630   \n",
       "\n",
       "                                        75%           max  \n",
       "customer_lifetime_value         8992.779137  83325.381190  \n",
       "income                         62250.750000  99981.000000  \n",
       "monthly_premium_auto             109.000000    298.000000  \n",
       "months_since_last_claim           23.000000     35.000000  \n",
       "months_since_policy_inception     71.000000     99.000000  \n",
       "number_of_open_complaints          0.000000      5.000000  \n",
       "number_of_policies                 4.000000      9.000000  \n",
       "total_claim_amount               547.200000   2893.239678  "
      ]
     },
     "execution_count": 627,
     "metadata": {},
     "output_type": "execute_result"
    }
   ],
   "source": [
    "df.describe().T"
   ]
  },
  {
   "cell_type": "markdown",
   "id": "73cff0aa",
   "metadata": {},
   "source": [
    "#### Distribution"
   ]
  },
  {
   "cell_type": "code",
   "execution_count": null,
   "id": "c1d4a431",
   "metadata": {},
   "outputs": [],
   "source": [
    "for col in numerical.columns:\n",
    "    sns.displot(numerical[col],kde = True)\n",
    "    plt.show()"
   ]
  },
  {
   "cell_type": "markdown",
   "id": "44dc337d",
   "metadata": {},
   "source": [
    "#### Boxplot"
   ]
  },
  {
   "cell_type": "code",
   "execution_count": null,
   "id": "fc04ec76",
   "metadata": {},
   "outputs": [],
   "source": [
    "for col in numerical.columns:\n",
    "    sns.boxplot(y = numerical[col])\n",
    "    plt.show()"
   ]
  },
  {
   "cell_type": "markdown",
   "id": "cf7bb6f2",
   "metadata": {},
   "source": [
    "#### Correlation"
   ]
  },
  {
   "cell_type": "code",
   "execution_count": null,
   "id": "1254f8a7",
   "metadata": {},
   "outputs": [],
   "source": [
    "fig, ax = plt.subplots(figsize=(10,10))\n",
    "correlations = numerical.corr()\n",
    "sns.heatmap(correlations, annot=True)\n",
    "plt.show()"
   ]
  },
  {
   "cell_type": "markdown",
   "id": "926a123a",
   "metadata": {},
   "source": [
    "## Processing Data"
   ]
  },
  {
   "cell_type": "markdown",
   "id": "9c5f5ac7",
   "metadata": {},
   "source": [
    "#### Dealing with outliers"
   ]
  },
  {
   "cell_type": "markdown",
   "id": "74e2844f",
   "metadata": {},
   "source": [
    "#### customer_lifetime_value"
   ]
  },
  {
   "cell_type": "code",
   "execution_count": null,
   "id": "94685cba",
   "metadata": {},
   "outputs": [],
   "source": [
    "sns.boxplot(y = numerical['customer_lifetime_value'])\n",
    "sns.displot(numerical['customer_lifetime_value'], kde = True)\n",
    "print(numerical['customer_lifetime_value'].describe())"
   ]
  },
  {
   "cell_type": "code",
   "execution_count": null,
   "id": "b7ae5138",
   "metadata": {},
   "outputs": [],
   "source": [
    "iqr = numerical['customer_lifetime_value'].quantile(0.75) - numerical['customer_lifetime_value'].quantile(0.25)\n",
    "upper_limit = numerical['customer_lifetime_value'].quantile(0.75) + 1.5 * iqr\n",
    "lower_limit = numerical['customer_lifetime_value'].quantile(0.25) - 1.5 * iqr\n",
    "print(upper_limit)\n",
    "print(lower_limit)\n",
    "numerical['customer_lifetime_value'] = numerical['customer_lifetime_value'].clip(lower=0, upper=upper_limit)\n",
    "\n",
    "# numerical = numerical[(numerical['customer_lifetime_value'] > 0) & (numerical['customer_lifetime_value'] < upper_limit)].copy()\n",
    "# numerical.shape\n",
    "# numerical.isna().sum()"
   ]
  },
  {
   "cell_type": "code",
   "execution_count": null,
   "id": "dac09f25",
   "metadata": {},
   "outputs": [],
   "source": [
    "sns.boxplot(y = numerical['customer_lifetime_value'])\n",
    "numerical['customer_lifetime_value'].describe()\n",
    "sns.displot(numerical['customer_lifetime_value'], kde = True)"
   ]
  },
  {
   "cell_type": "markdown",
   "id": "0899bbee",
   "metadata": {},
   "source": [
    "#### Another method proposed by Jan, which is for removing outliers\n"
   ]
  },
  {
   "cell_type": "code",
   "execution_count": null,
   "id": "93806dbd",
   "metadata": {},
   "outputs": [],
   "source": [
    "numerical_copy = pd.DataFrame()\n",
    "numerical_copy = numerical[(numerical['customer_lifetime_value'] > 0) & (numerical['customer_lifetime_value'] < upper_limit)].copy() \n",
    "numerical_copy.shape"
   ]
  },
  {
   "cell_type": "markdown",
   "id": "f77f96ff",
   "metadata": {},
   "source": [
    "**Decision** - In the above method of removing outliers, we are losing more rows, as this needs to be repeated for several other features. Hence I am not using the above method"
   ]
  },
  {
   "cell_type": "markdown",
   "id": "b1c534b2",
   "metadata": {},
   "source": [
    "#### income"
   ]
  },
  {
   "cell_type": "code",
   "execution_count": null,
   "id": "89c0f042",
   "metadata": {},
   "outputs": [],
   "source": [
    "sns.boxplot(y = numerical['income'])\n",
    "sns.displot(numerical['income'], kde = True)\n",
    "print(numerical['income'].describe())"
   ]
  },
  {
   "cell_type": "markdown",
   "id": "c800170e",
   "metadata": {},
   "source": [
    "**Decision** - As we can see, there are no outliers in the `income` column, so leaving it as is"
   ]
  },
  {
   "cell_type": "markdown",
   "id": "1f410784",
   "metadata": {},
   "source": [
    "#### monthly_premium_auto"
   ]
  },
  {
   "cell_type": "code",
   "execution_count": null,
   "id": "653a3608",
   "metadata": {},
   "outputs": [],
   "source": [
    "sns.boxplot(y = numerical['monthly_premium_auto'])\n",
    "sns.displot(numerical['monthly_premium_auto'], kde = True)\n",
    "print(numerical['monthly_premium_auto'].describe())"
   ]
  },
  {
   "cell_type": "code",
   "execution_count": null,
   "id": "9ff1b2e4",
   "metadata": {},
   "outputs": [],
   "source": [
    "iqr = numerical['monthly_premium_auto'].quantile(0.75) - numerical['monthly_premium_auto'].quantile(0.25)\n",
    "upper_limit = numerical['monthly_premium_auto'].quantile(0.75) + 1.5 * iqr\n",
    "lower_limit = numerical['monthly_premium_auto'].quantile(0.25) - 1.5 * iqr\n",
    "print(upper_limit)\n",
    "print(lower_limit)\n",
    "numerical['monthly_premium_auto'] = numerical['monthly_premium_auto'].clip(lower=0, upper=upper_limit)"
   ]
  },
  {
   "cell_type": "code",
   "execution_count": null,
   "id": "e7cf295a",
   "metadata": {},
   "outputs": [],
   "source": [
    "sns.boxplot(y = numerical['monthly_premium_auto'])\n",
    "sns.displot(numerical['monthly_premium_auto'], kde = True)\n",
    "print(numerical['monthly_premium_auto'].describe())"
   ]
  },
  {
   "cell_type": "markdown",
   "id": "02173ad8",
   "metadata": {},
   "source": [
    "#### months_since_last_claim"
   ]
  },
  {
   "cell_type": "code",
   "execution_count": null,
   "id": "a6e98794",
   "metadata": {},
   "outputs": [],
   "source": [
    "sns.boxplot(y = numerical['months_since_last_claim'])\n",
    "sns.displot(numerical['months_since_last_claim'], kde = True)\n",
    "print(numerical['months_since_last_claim'].describe())"
   ]
  },
  {
   "cell_type": "markdown",
   "id": "6b1681f3",
   "metadata": {},
   "source": [
    "**Decision** - As we can see, there are no outliers in the `months_since_last_claim` column, so leaving it as is"
   ]
  },
  {
   "cell_type": "markdown",
   "id": "256efbee",
   "metadata": {},
   "source": [
    "#### months_since_policy_inception"
   ]
  },
  {
   "cell_type": "code",
   "execution_count": null,
   "id": "1ffeb72c",
   "metadata": {},
   "outputs": [],
   "source": [
    "sns.boxplot(y = numerical['months_since_policy_inception'])\n",
    "sns.displot(numerical['monthly_premium_auto'], kde = True)\n",
    "print(numerical['monthly_premium_auto'].describe())"
   ]
  },
  {
   "cell_type": "markdown",
   "id": "3af9b8d3",
   "metadata": {},
   "source": [
    "**Decision** - As we can see, there are no outliers in the `months_since_policy_inception` column, so leaving it as is"
   ]
  },
  {
   "cell_type": "markdown",
   "id": "335c81b6",
   "metadata": {},
   "source": [
    "#### number_of_open_complaints"
   ]
  },
  {
   "cell_type": "code",
   "execution_count": null,
   "id": "b13bc910",
   "metadata": {
    "scrolled": true
   },
   "outputs": [],
   "source": [
    "sns.boxplot(y = numerical['number_of_open_complaints'])\n",
    "sns.displot(numerical['number_of_open_complaints'], kde = True)\n",
    "print(numerical['number_of_open_complaints'].describe())"
   ]
  },
  {
   "cell_type": "markdown",
   "id": "f179c281",
   "metadata": {},
   "source": [
    "**Decision** - As we can see, there are some outliers in the `number_of_open_complaints` column, however as the number of occurances of the outliers are less, I am leaving them as is"
   ]
  },
  {
   "cell_type": "markdown",
   "id": "9abcb40d",
   "metadata": {},
   "source": [
    "#### number_of_policies"
   ]
  },
  {
   "cell_type": "code",
   "execution_count": null,
   "id": "b2160b8e",
   "metadata": {},
   "outputs": [],
   "source": [
    "sns.boxplot(y = numerical['number_of_policies'])\n",
    "sns.displot(numerical['number_of_policies'], kde = True)\n",
    "print(numerical['number_of_policies'].describe())"
   ]
  },
  {
   "cell_type": "code",
   "execution_count": null,
   "id": "05cf0e9f",
   "metadata": {},
   "outputs": [],
   "source": [
    "iqr = numerical['number_of_policies'].quantile(0.75) - numerical['number_of_policies'].quantile(0.25)\n",
    "upper_limit = numerical['number_of_policies'].quantile(0.75) + 1.5 * iqr\n",
    "lower_limit = numerical['number_of_policies'].quantile(0.25) - 1.5 * iqr\n",
    "print(upper_limit)\n",
    "print(lower_limit)\n",
    "numerical['number_of_policies'] = numerical['number_of_policies'].clip(lower=0, upper=upper_limit)"
   ]
  },
  {
   "cell_type": "code",
   "execution_count": null,
   "id": "c81f23ae",
   "metadata": {},
   "outputs": [],
   "source": [
    "sns.boxplot(y = numerical['number_of_policies'])\n",
    "sns.displot(numerical['number_of_policies'], kde = True)\n",
    "print(numerical['number_of_policies'].describe())"
   ]
  },
  {
   "cell_type": "markdown",
   "id": "069b7f57",
   "metadata": {},
   "source": [
    "#### total_claim_amount"
   ]
  },
  {
   "cell_type": "code",
   "execution_count": null,
   "id": "2d6944c1",
   "metadata": {},
   "outputs": [],
   "source": [
    "sns.boxplot(y = numerical['total_claim_amount'])\n",
    "sns.displot(numerical['total_claim_amount'], kde = True)\n",
    "print(numerical['total_claim_amount'].describe())"
   ]
  },
  {
   "cell_type": "code",
   "execution_count": null,
   "id": "56ea1290",
   "metadata": {},
   "outputs": [],
   "source": [
    "iqr = numerical['total_claim_amount'].quantile(0.75) - numerical['total_claim_amount'].quantile(0.25)\n",
    "upper_limit = numerical['total_claim_amount'].quantile(0.75) + 1.5 * iqr\n",
    "lower_limit = numerical['total_claim_amount'].quantile(0.25) - 1.5 * iqr\n",
    "print(upper_limit)\n",
    "print(lower_limit)\n",
    "numerical['total_claim_amount'] = numerical['total_claim_amount'].clip(lower=0, upper=upper_limit)"
   ]
  },
  {
   "cell_type": "code",
   "execution_count": null,
   "id": "529384d8",
   "metadata": {
    "scrolled": true
   },
   "outputs": [],
   "source": [
    "sns.boxplot(y = numerical['total_claim_amount'])\n",
    "sns.displot(numerical['total_claim_amount'], kde = True)\n",
    "print(numerical['total_claim_amount'].describe())"
   ]
  },
  {
   "cell_type": "markdown",
   "id": "6db29fc7",
   "metadata": {},
   "source": [
    "### Removing insignificant columns"
   ]
  },
  {
   "cell_type": "code",
   "execution_count": null,
   "id": "ba7d02a2",
   "metadata": {},
   "outputs": [],
   "source": [
    "categorical = categorical.drop(['customer', 'policy_type'], axis=1)\n",
    "numerical = numerical.drop(['number_of_open_complaints'], axis = 1)"
   ]
  },
  {
   "cell_type": "markdown",
   "id": "1b3adcac",
   "metadata": {},
   "source": [
    "### Normalization"
   ]
  },
  {
   "cell_type": "code",
   "execution_count": null,
   "id": "7aa9160f",
   "metadata": {},
   "outputs": [],
   "source": [
    "transformer = MinMaxScaler().fit(numerical)\n",
    "numerical_normalized = transformer.transform(numerical)\n",
    "print(numerical_normalized.shape)\n",
    "numerical_normalized_df = pd.DataFrame(numerical_normalized, columns=numerical.columns)\n",
    "numerical_normalized_df"
   ]
  },
  {
   "cell_type": "markdown",
   "id": "dd074fc7",
   "metadata": {},
   "source": [
    "#### Round off numerical features"
   ]
  },
  {
   "cell_type": "code",
   "execution_count": null,
   "id": "f421ae08",
   "metadata": {},
   "outputs": [],
   "source": [
    "def roundforme(x):\n",
    "    return round(x,2)\n",
    "for col in numerical_normalized_df.columns:\n",
    "    numerical_normalized_df[col] = numerical_normalized_df[col].apply(roundforme)\n",
    "numerical_normalized_df.head()"
   ]
  },
  {
   "cell_type": "markdown",
   "id": "016bcf35",
   "metadata": {},
   "source": [
    "### Encoding Categorical Data."
   ]
  },
  {
   "cell_type": "code",
   "execution_count": null,
   "id": "84f90eca",
   "metadata": {},
   "outputs": [],
   "source": [
    "encoder = OneHotEncoder(drop='first').fit(categorical)\n",
    "encoded_cols = encoder.get_feature_names_out(input_features=categorical.columns)\n",
    "categorical_encoded = encoder.transform(categorical).toarray()\n",
    "\n",
    "categorical_encoded_df = pd.DataFrame(categorical_encoded, columns=encoded_cols)\n",
    "categorical_encoded_df.head(20)"
   ]
  },
  {
   "cell_type": "code",
   "execution_count": null,
   "id": "86ae1fa7",
   "metadata": {},
   "outputs": [],
   "source": []
  },
  {
   "cell_type": "markdown",
   "id": "f0c5ded9",
   "metadata": {},
   "source": [
    "## concatenating the dataframes"
   ]
  },
  {
   "cell_type": "code",
   "execution_count": null,
   "id": "88303982",
   "metadata": {},
   "outputs": [],
   "source": [
    "X = pd.concat([numerical_normalized_df, categorical_encoded_df], axis=1) \n",
    "X.columns\n",
    "X.shape"
   ]
  },
  {
   "cell_type": "markdown",
   "id": "d8bbc860",
   "metadata": {},
   "source": [
    "#### Processing for X-y Split"
   ]
  },
  {
   "cell_type": "code",
   "execution_count": null,
   "id": "d95ea2e9",
   "metadata": {},
   "outputs": [],
   "source": [
    "# X = features , y = Target\n",
    "\n",
    "y = X['total_claim_amount']\n",
    "X = X.drop(['total_claim_amount'], axis=1)\n"
   ]
  },
  {
   "cell_type": "markdown",
   "id": "1b1c843b",
   "metadata": {},
   "source": [
    "### Splitting into train set and test set.\n"
   ]
  },
  {
   "cell_type": "code",
   "execution_count": null,
   "id": "0519804c",
   "metadata": {},
   "outputs": [],
   "source": [
    "from sklearn.model_selection import train_test_split\n",
    "X_train, X_test, y_train, y_test = train_test_split(X, y, test_size=0.3, random_state=42)"
   ]
  },
  {
   "cell_type": "code",
   "execution_count": null,
   "id": "88965b5d",
   "metadata": {},
   "outputs": [],
   "source": [
    "print(X_train.shape)\n",
    "print(X_test.shape)\n",
    "print(y_train.shape)\n",
    "print(y_test.shape)"
   ]
  },
  {
   "cell_type": "code",
   "execution_count": null,
   "id": "40fbda6c",
   "metadata": {},
   "outputs": [],
   "source": [
    "X_train.head()"
   ]
  },
  {
   "cell_type": "code",
   "execution_count": null,
   "id": "f6b99f30",
   "metadata": {},
   "outputs": [],
   "source": [
    "y_train.head()"
   ]
  },
  {
   "cell_type": "markdown",
   "id": "626ce875",
   "metadata": {},
   "source": [
    "## Modeling"
   ]
  },
  {
   "cell_type": "code",
   "execution_count": null,
   "id": "1932ae28",
   "metadata": {},
   "outputs": [],
   "source": [
    "lm = LinearRegression()\n",
    "lm.fit(X_train,y_train)"
   ]
  },
  {
   "cell_type": "markdown",
   "id": "0bd1d5dd",
   "metadata": {},
   "source": [
    "## Model Validation\n"
   ]
  },
  {
   "cell_type": "markdown",
   "id": "2db500c0",
   "metadata": {},
   "source": [
    "### R2"
   ]
  },
  {
   "cell_type": "code",
   "execution_count": null,
   "id": "74cc3f95",
   "metadata": {},
   "outputs": [],
   "source": [
    "from sklearn.metrics import r2_score\n",
    "predictions_train = lm.predict(X_train)\n",
    "r2_score(y_train, predictions_train)"
   ]
  },
  {
   "cell_type": "code",
   "execution_count": null,
   "id": "69cf7bf0",
   "metadata": {},
   "outputs": [],
   "source": [
    "from sklearn.metrics import r2_score\n",
    "predictions_test = lm.predict(X_test)\n",
    "r2_score(y_test, predictions_test)"
   ]
  },
  {
   "cell_type": "code",
   "execution_count": null,
   "id": "fd485217",
   "metadata": {},
   "outputs": [],
   "source": [
    "display(predictions_test)\n",
    "display(y_test)"
   ]
  },
  {
   "cell_type": "markdown",
   "id": "cbf1b914",
   "metadata": {},
   "source": [
    "### MSE"
   ]
  },
  {
   "cell_type": "code",
   "execution_count": null,
   "id": "cdda8ca0",
   "metadata": {},
   "outputs": [],
   "source": [
    "from sklearn.metrics import mean_squared_error\n",
    "mse=mean_squared_error(y_test,predictions_test)\n",
    "mse"
   ]
  },
  {
   "cell_type": "markdown",
   "id": "afd2e91c",
   "metadata": {},
   "source": [
    "### RMSE"
   ]
  },
  {
   "cell_type": "code",
   "execution_count": null,
   "id": "0e226d8a",
   "metadata": {},
   "outputs": [],
   "source": [
    "rmse = np.sqrt(mean_squared_error(y_test,predictions_test))\n",
    "rmse"
   ]
  },
  {
   "cell_type": "markdown",
   "id": "c481b342",
   "metadata": {},
   "source": [
    "### MAE"
   ]
  },
  {
   "cell_type": "code",
   "execution_count": null,
   "id": "975fb47c",
   "metadata": {},
   "outputs": [],
   "source": [
    "from sklearn.metrics import mean_absolute_error, r2_score\n",
    "mae = mean_absolute_error(y_test, predictions_test)\n",
    "print(mae)"
   ]
  },
  {
   "cell_type": "markdown",
   "id": "54155ad2",
   "metadata": {},
   "source": [
    "## Reporting"
   ]
  },
  {
   "cell_type": "markdown",
   "id": "bb9028f4",
   "metadata": {},
   "source": [
    "These are the results from testing the model\n",
    "- R2 Score - 0.8067758005106807\n",
    "- MSE - 0.01217696516729622\n",
    "- RMSE - 0.11034928711729959\n",
    "- MAE - 0.08491708465299828"
   ]
  },
  {
   "cell_type": "code",
   "execution_count": null,
   "id": "18cc555e",
   "metadata": {},
   "outputs": [],
   "source": []
  }
 ],
 "metadata": {
  "kernelspec": {
   "display_name": "Python 3 (ipykernel)",
   "language": "python",
   "name": "python3"
  },
  "language_info": {
   "codemirror_mode": {
    "name": "ipython",
    "version": 3
   },
   "file_extension": ".py",
   "mimetype": "text/x-python",
   "name": "python",
   "nbconvert_exporter": "python",
   "pygments_lexer": "ipython3",
   "version": "3.9.12"
  }
 },
 "nbformat": 4,
 "nbformat_minor": 5
}
